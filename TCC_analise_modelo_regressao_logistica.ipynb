{
 "cells": [
  {
   "cell_type": "markdown",
   "metadata": {},
   "source": [
    "# Avaliação do Modelo de Classificação.\n",
    "### Introdução.\n",
    "Este Jupyter Notebook investiga a base de dados de  propriedades acústicas disponíveis no site  http://www.primaryobjects.com/2016/06/22/identifying-the-gender-of-a-voice-using-machine-learning/   \n",
    "Objetivo da investigação é determinar as chances de algum algoritmo para detecção de gênero, seja por estatística tradicional ou por meio técnicas machine learning e redes neurais, possibilitando a implantação em dispositivos embarcados de baixo custo de memória e processamento restrito. "
   ]
  },
  {
   "cell_type": "markdown",
   "metadata": {},
   "source": [
    "# Propriedades acústicas medidas\n",
    "\n",
    "As seguintes propriedades acústicas de cada voz são medidas:\n",
    "\n",
    "- **meanfreq**  : frequência média (em kHz) sobre as amostras compostas no sinal de arquivo de voz;\n",
    "- **sd**  : desvio padrão da frequência, sobre as amostras compostas no sinal de arquivo de voz;\n",
    "- **mediana**  : frequência mediana (em kHz) sobre as amostras compostas no sinal de arquivo de voz;\n",
    "- **Q25**  : primeiro quantil (em kHz) sobre as amostras compostas no sinal de arquivo de voz;\n",
    "- **Q75**  : terceiro quantil (em kHz) sobre as amostras compostas no sinal de arquivo de voz;\n",
    "- **IQR**  : intervalo interquartil (em kHz)sobre as amostras compostas no sinal de arquivo de voz;\n",
    "- **skew**  : média de assimetria da distribuição das frequências de vocal perdominante;\n",
    "- **kurt**  : curtose distribuição espectral da voz, domínio da frequência;\n",
    "- **sp.ent**  : entropia espectral, pureza da distribuição da voz em relação ao nível de ruído; \n",
    "- **sfm**  : nivelamento espectral,  estima a planaridade de um espectro de frequência;\n",
    "- **modo**  : frequência de modo, ou seja, frequência dominante da voz;\n",
    "- **centrod**  : frequência central máxima visto no domínio da frequência;\n",
    "- **meanfun**  : média da frequência fundamental medida através do sinal acústico (Tonalidade base da voz);\n",
    "- **minfun**  : frequência fundamental mínima medida no sinal acústico  (Tonalidade base da voz);\n",
    "- **maxfun**  : frequência fundamental máxima medida através do sinal acústico (Tonalidade base da voz);\n",
    "- **meandom**  : média da frequência dominante medida através do sinal acústico  (média total das notas  musicais mais graves da voz em relação ao sinal gravado);\n",
    "- **mindom**  : mínimo de frequência dominante medido através do sinal acústico;\n",
    "- **maxdom**  : máxima da frequência dominante medida através do sinal acústico;\n",
    "- **dfrange**  : faixa de frequência dominante medida através do sinal acústico;\n",
    "- **modindx**  : índice de modulação. Calculado como a diferença absoluta acumulada entre medições adjacentes de frequências fundamentais divididas pela faixa de frequência.\n",
    "- **label**  : rotulo de identificador da amostra em relação ao sexo, adicionado durante a gravação \"male\" ou \"female\".\n",
    "\n",
    "\n"
   ]
  },
  {
   "cell_type": "markdown",
   "metadata": {},
   "source": [
    "#  Resumo da análise anterior com base tratada em python da base de propriedades acústicas."
   ]
  },
  {
   "cell_type": "code",
   "execution_count": 1,
   "metadata": {},
   "outputs": [],
   "source": [
    "%matplotlib inline"
   ]
  },
  {
   "cell_type": "code",
   "execution_count": 2,
   "metadata": {},
   "outputs": [],
   "source": [
    "# Importa as bibliotecas\n",
    "import pandas\n",
    "import matplotlib.pyplot as plt\n",
    "import numpy \n",
    "#from pandas.tools.plotting import scatter_matrix\n",
    "from  pandas.plotting  import scatter_matrix\n",
    "import seaborn as sb\n",
    "from sklearn.model_selection import train_test_split,cross_val_score\n",
    "from sklearn.preprocessing import Normalizer\n",
    "#Logistic Regression\n",
    "from sklearn.linear_model import LogisticRegression\n",
    "from sklearn.metrics import roc_auc_score , roc_curve, auc ,accuracy_score,recall_score, precision_score\n",
    "import statsmodels.api as sm\n",
    "from sklearn.metrics import confusion_matrix\n",
    "\n",
    "\n",
    "\n",
    "\n"
   ]
  },
  {
   "cell_type": "code",
   "execution_count": 3,
   "metadata": {},
   "outputs": [],
   "source": [
    "url = \".\\\\baseDados\\\\voice_fix.csv\"\n",
    "colunas = [\"meanfreq\",\"sd\",\"median\",\"Q25\",\"Q75\",\"IQR\",\"skew\",\"kurt\",\"sp.ent\",\"sfm\",\"mode\",\"centroid\",\"meanfun\",\"minfun\",\"maxfun\",\"meandom\",\"mindom\",\"maxdom\",\"dfrange\",\"modindx\",\"label\"]\n",
    "dataset = pandas.read_csv(url,  sep = \",\")"
   ]
  },
  {
   "cell_type": "code",
   "execution_count": 4,
   "metadata": {},
   "outputs": [
    {
     "data": {
      "text/html": [
       "<div>\n",
       "<style scoped>\n",
       "    .dataframe tbody tr th:only-of-type {\n",
       "        vertical-align: middle;\n",
       "    }\n",
       "\n",
       "    .dataframe tbody tr th {\n",
       "        vertical-align: top;\n",
       "    }\n",
       "\n",
       "    .dataframe thead th {\n",
       "        text-align: right;\n",
       "    }\n",
       "</style>\n",
       "<table border=\"1\" class=\"dataframe\">\n",
       "  <thead>\n",
       "    <tr style=\"text-align: right;\">\n",
       "      <th></th>\n",
       "      <th>meanfreq</th>\n",
       "      <th>sd</th>\n",
       "      <th>median</th>\n",
       "    </tr>\n",
       "  </thead>\n",
       "  <tbody>\n",
       "    <tr>\n",
       "      <td>0</td>\n",
       "      <td>0.183506</td>\n",
       "      <td>0.064241</td>\n",
       "      <td>0.190591</td>\n",
       "    </tr>\n",
       "    <tr>\n",
       "      <td>1</td>\n",
       "      <td>0.183506</td>\n",
       "      <td>0.067310</td>\n",
       "      <td>0.190591</td>\n",
       "    </tr>\n",
       "  </tbody>\n",
       "</table>\n",
       "</div>"
      ],
      "text/plain": [
       "   meanfreq        sd    median\n",
       "0  0.183506  0.064241  0.190591\n",
       "1  0.183506  0.067310  0.190591"
      ]
     },
     "execution_count": 4,
     "metadata": {},
     "output_type": "execute_result"
    }
   ],
   "source": [
    "dataset[[\"meanfreq\",\"sd\",\"median\"]].head(2)"
   ]
  },
  {
   "cell_type": "markdown",
   "metadata": {},
   "source": [
    "## 1) Refazendo boxplot.\n",
    "O BOXPLOT representa os dados através de um retângulo\n",
    "construído com os quartis e fornece informação sobre valores\n",
    "extremos. "
   ]
  },
  {
   "cell_type": "code",
   "execution_count": 5,
   "metadata": {},
   "outputs": [
    {
     "data": {
      "image/png": "[encoded data removed]",
      "text/plain": [
       "<Figure size 720x720 with 9 Axes>"
      ]
     },
     "metadata": {
      "needs_background": "light"
     },
     "output_type": "display_data"
    }
   ],
   "source": [
    "plt.rcParams['figure.figsize'] = (10,10)\n",
    "dataset[colunas[0:6]].plot(kind='box', subplots=True, layout=(3,3), sharex=False, sharey=False)\n",
    "plt.show()"
   ]
  },
  {
   "cell_type": "code",
   "execution_count": 6,
   "metadata": {},
   "outputs": [
    {
     "data": {
      "image/png": "[encoded data removed]",
      "text/plain": [
       "<Figure size 720x720 with 9 Axes>"
      ]
     },
     "metadata": {
      "needs_background": "light"
     },
     "output_type": "display_data"
    }
   ],
   "source": [
    "plt.rcParams['figure.figsize'] = (10,10)\n",
    "dataset[colunas[6:6 * 2]].plot(kind='box', subplots=True, layout=(3,3), sharex=False, sharey=False)\n",
    "plt.show()"
   ]
  },
  {
   "cell_type": "code",
   "execution_count": 7,
   "metadata": {},
   "outputs": [
    {
     "data": {
      "image/png": "[encoded data removed]",
      "text/plain": [
       "<Figure size 720x720 with 9 Axes>"
      ]
     },
     "metadata": {
      "needs_background": "light"
     },
     "output_type": "display_data"
    }
   ],
   "source": [
    "plt.rcParams['figure.figsize'] = (10,10)\n",
    "dataset[colunas[6 *2 :6 * 3]].plot(kind='box', subplots=True, layout=(3,3), sharex=False, sharey=False)\n",
    "plt.show()"
   ]
  },
  {
   "cell_type": "code",
   "execution_count": 8,
   "metadata": {},
   "outputs": [
    {
     "data": {
      "image/png": "[encoded data removed]",
      "text/plain": [
       "<Figure size 720x720 with 9 Axes>"
      ]
     },
     "metadata": {
      "needs_background": "light"
     },
     "output_type": "display_data"
    }
   ],
   "source": [
    "plt.rcParams['figure.figsize'] = (10,10)\n",
    "dataset[colunas[6 *3 :6 * 4]].plot(kind='box', subplots=True, layout=(3,3), sharex=False, sharey=False)\n",
    "plt.show()"
   ]
  },
  {
   "cell_type": "markdown",
   "metadata": {},
   "source": [
    "## Fim do resumo análise exploraria."
   ]
  },
  {
   "cell_type": "code",
   "execution_count": 9,
   "metadata": {},
   "outputs": [],
   "source": [
    "from sklearn.model_selection import train_test_split\n",
    "from sklearn.preprocessing import Normalizer\n",
    "#Logistic Regression\n",
    "from sklearn.linear_model import LogisticRegression\n",
    "from sklearn.metrics import roc_auc_score , roc_curve, auc\n"
   ]
  },
  {
   "cell_type": "code",
   "execution_count": 10,
   "metadata": {},
   "outputs": [],
   "source": [
    "url = \".\\\\baseDados\\\\voice_fix.csv\"\n",
    "colunas = [\"meanfreq\",\"sd\",\"median\",\"Q25\",\"Q75\",\"IQR\",\"skew\",\"kurt\",\"sp.ent\",\"sfm\",\"mode\",\"centroid\",\"meanfun\",\"minfun\",\"maxfun\",\"meandom\",\"mindom\",\"maxdom\",\"dfrange\",\"modindx\",\"label\"]\n",
    "dataset = pandas.read_csv(url,  sep = \",\")"
   ]
  },
  {
   "cell_type": "markdown",
   "metadata": {},
   "source": [
    "---\n",
    "\n",
    "\n",
    "---\n",
    "\n",
    "\n",
    "\n",
    "---\n",
    "# Procedimentos de avaliação de modelo\n",
    "Train/Test Split\n",
    "K-Fold Cross Validation"
   ]
  },
  {
   "cell_type": "markdown",
   "metadata": {},
   "source": [
    "##  2)  Preparando a base para usar no modelo de regressão logística."
   ]
  },
  {
   "cell_type": "code",
   "execution_count": 11,
   "metadata": {},
   "outputs": [
    {
     "name": "stdout",
     "output_type": "stream",
     "text": [
      "                    0           1           2          3          4\n",
      "Unnamed: 0          0           1           2          3          4\n",
      "meanfreq     0.183506    0.183506    0.183506   0.151228    0.13512\n",
      "sd          0.0642413     0.06731   0.0838294  0.0721106  0.0791461\n",
      "median       0.190591    0.190591    0.190591   0.158011   0.124656\n",
      "Q25          0.142287    0.142482    0.142287  0.0965817  0.0787202\n",
      "Q75          0.225624    0.225624    0.225624   0.207955   0.206045\n",
      "IQR          0.075122   0.0732523    0.123207   0.111374   0.127325\n",
      "skew          2.19606     2.19606     2.19606    1.23283    1.10117\n",
      "kurt          8.44236     8.44236     8.44236     4.1773    4.33371\n",
      "sp.ent       0.893369    0.892193    0.846389   0.963322   0.971955\n",
      "sfm          0.491918    0.513724    0.478905   0.727232   0.783568\n",
      "mode                0           0           0  0.0838782   0.104261\n",
      "centroid     0.183506    0.183506    0.183506   0.151228    0.13512\n",
      "meanfun     0.0842791    0.107937   0.0987063  0.0889648   0.106398\n",
      "minfun      0.0157017   0.0158259   0.0156556  0.0177976  0.0169312\n",
      "maxfun       0.275862    0.274345    0.271186   0.274345   0.275533\n",
      "meandom     0.0078125  0.00901442  0.00799006   0.201497   0.712812\n",
      "mindom      0.0078125   0.0078125   0.0078125  0.0078125  0.0078125\n",
      "maxdom      0.0078125   0.0546875    0.015625     0.5625    5.48438\n",
      "dfrange             0    0.046875   0.0078125   0.554688    5.47656\n",
      "modindx      0.133737    0.124252    0.124252    0.12905   0.126195\n",
      "label            male        male        male       male       male\n"
     ]
    }
   ],
   "source": [
    "print(dataset.head().transpose())"
   ]
  },
  {
   "cell_type": "markdown",
   "metadata": {},
   "source": [
    "##  3)  Removendo indexador salvo durante a análise da base."
   ]
  },
  {
   "cell_type": "code",
   "execution_count": 12,
   "metadata": {},
   "outputs": [],
   "source": [
    "df_pre=dataset.drop(columns=['Unnamed: 0'])"
   ]
  },
  {
   "cell_type": "code",
   "execution_count": 13,
   "metadata": {},
   "outputs": [
    {
     "name": "stdout",
     "output_type": "stream",
     "text": [
      "                  0           1           2          3          4\n",
      "meanfreq   0.183506    0.183506    0.183506   0.151228    0.13512\n",
      "sd        0.0642413     0.06731   0.0838294  0.0721106  0.0791461\n",
      "median     0.190591    0.190591    0.190591   0.158011   0.124656\n",
      "Q25        0.142287    0.142482    0.142287  0.0965817  0.0787202\n",
      "Q75        0.225624    0.225624    0.225624   0.207955   0.206045\n",
      "IQR        0.075122   0.0732523    0.123207   0.111374   0.127325\n",
      "skew        2.19606     2.19606     2.19606    1.23283    1.10117\n",
      "kurt        8.44236     8.44236     8.44236     4.1773    4.33371\n",
      "sp.ent     0.893369    0.892193    0.846389   0.963322   0.971955\n",
      "sfm        0.491918    0.513724    0.478905   0.727232   0.783568\n",
      "mode              0           0           0  0.0838782   0.104261\n",
      "centroid   0.183506    0.183506    0.183506   0.151228    0.13512\n",
      "meanfun   0.0842791    0.107937   0.0987063  0.0889648   0.106398\n",
      "minfun    0.0157017   0.0158259   0.0156556  0.0177976  0.0169312\n",
      "maxfun     0.275862    0.274345    0.271186   0.274345   0.275533\n",
      "meandom   0.0078125  0.00901442  0.00799006   0.201497   0.712812\n",
      "mindom    0.0078125   0.0078125   0.0078125  0.0078125  0.0078125\n",
      "maxdom    0.0078125   0.0546875    0.015625     0.5625    5.48438\n",
      "dfrange           0    0.046875   0.0078125   0.554688    5.47656\n",
      "modindx    0.133737    0.124252    0.124252    0.12905   0.126195\n",
      "label          male        male        male       male       male\n"
     ]
    }
   ],
   "source": [
    "dataset=df_pre\n",
    "print(dataset.head().transpose())"
   ]
  },
  {
   "cell_type": "markdown",
   "metadata": {},
   "source": [
    "##  4)  Substituindo female=1, male=0 e troca por o rótulo label=sexo."
   ]
  },
  {
   "cell_type": "code",
   "execution_count": 14,
   "metadata": {},
   "outputs": [],
   "source": [
    "df_pre['label'] = df_pre['label'].replace({'female': 1, 'male': 0})"
   ]
  },
  {
   "cell_type": "code",
   "execution_count": 15,
   "metadata": {},
   "outputs": [],
   "source": [
    "dataset = df_pre"
   ]
  },
  {
   "cell_type": "code",
   "execution_count": 16,
   "metadata": {},
   "outputs": [
    {
     "name": "stdout",
     "output_type": "stream",
     "text": [
      "                 0         1         2         3         4\n",
      "meanfreq  0.183506  0.183506  0.183506  0.151228  0.135120\n",
      "sd        0.064241  0.067310  0.083829  0.072111  0.079146\n",
      "median    0.190591  0.190591  0.190591  0.158011  0.124656\n",
      "Q25       0.142287  0.142482  0.142287  0.096582  0.078720\n",
      "Q75       0.225624  0.225624  0.225624  0.207955  0.206045\n",
      "IQR       0.075122  0.073252  0.123207  0.111374  0.127325\n",
      "skew      2.196061  2.196061  2.196061  1.232831  1.101174\n",
      "kurt      8.442361  8.442361  8.442361  4.177296  4.333713\n",
      "sp.ent    0.893369  0.892193  0.846389  0.963322  0.971955\n",
      "sfm       0.491918  0.513724  0.478905  0.727232  0.783568\n",
      "mode      0.000000  0.000000  0.000000  0.083878  0.104261\n",
      "centroid  0.183506  0.183506  0.183506  0.151228  0.135120\n",
      "meanfun   0.084279  0.107937  0.098706  0.088965  0.106398\n",
      "minfun    0.015702  0.015826  0.015656  0.017798  0.016931\n",
      "maxfun    0.275862  0.274345  0.271186  0.274345  0.275533\n",
      "meandom   0.007812  0.009014  0.007990  0.201497  0.712812\n",
      "mindom    0.007812  0.007812  0.007812  0.007812  0.007812\n",
      "maxdom    0.007812  0.054688  0.015625  0.562500  5.484375\n",
      "dfrange   0.000000  0.046875  0.007812  0.554688  5.476562\n",
      "modindx   0.133737  0.124252  0.124252  0.129050  0.126195\n",
      "sexo      0.000000  0.000000  0.000000  0.000000  0.000000\n"
     ]
    }
   ],
   "source": [
    "df =dataset.rename(columns={'label': 'sexo'})\n",
    "print(df.head().transpose())"
   ]
  },
  {
   "cell_type": "markdown",
   "metadata": {},
   "source": [
    "#  5)   Dataset: Train/Test Split para do modelo de regressão logística.\n",
    "Esse método divide o conjunto de dados em duas partes: um conjunto de treinamento e um conjunto de testes. O conjunto de treinamento é usado para treinar o modelo. Também podemos medir a precisão do modelo no conjunto de treinamento, mas não devemos avaliar modelos com base somente nessa métrica.\n",
    "\n",
    "Logistic Regression coefficients na formula:\n",
    " y=  1 * b0 + b1*X1 + b2*X2+ b3*Xn"
   ]
  },
  {
   "cell_type": "markdown",
   "metadata": {},
   "source": [
    " ##   6)  Criando explicitamente  y-intercept: b0. "
   ]
  },
  {
   "cell_type": "code",
   "execution_count": 17,
   "metadata": {},
   "outputs": [
    {
     "name": "stdout",
     "output_type": "stream",
     "text": [
      "                 0         1         2         3         4\n",
      "meanfreq  0.183506  0.183506  0.183506  0.151228  0.135120\n",
      "sd        0.064241  0.067310  0.083829  0.072111  0.079146\n",
      "median    0.190591  0.190591  0.190591  0.158011  0.124656\n",
      "Q25       0.142287  0.142482  0.142287  0.096582  0.078720\n",
      "Q75       0.225624  0.225624  0.225624  0.207955  0.206045\n",
      "IQR       0.075122  0.073252  0.123207  0.111374  0.127325\n",
      "skew      2.196061  2.196061  2.196061  1.232831  1.101174\n",
      "kurt      8.442361  8.442361  8.442361  4.177296  4.333713\n",
      "sp.ent    0.893369  0.892193  0.846389  0.963322  0.971955\n",
      "sfm       0.491918  0.513724  0.478905  0.727232  0.783568\n",
      "mode      0.000000  0.000000  0.000000  0.083878  0.104261\n",
      "centroid  0.183506  0.183506  0.183506  0.151228  0.135120\n",
      "meanfun   0.084279  0.107937  0.098706  0.088965  0.106398\n",
      "minfun    0.015702  0.015826  0.015656  0.017798  0.016931\n",
      "maxfun    0.275862  0.274345  0.271186  0.274345  0.275533\n",
      "meandom   0.007812  0.009014  0.007990  0.201497  0.712812\n",
      "mindom    0.007812  0.007812  0.007812  0.007812  0.007812\n",
      "maxdom    0.007812  0.054688  0.015625  0.562500  5.484375\n",
      "dfrange   0.000000  0.046875  0.007812  0.554688  5.476562\n",
      "modindx   0.133737  0.124252  0.124252  0.129050  0.126195\n",
      "sexo      0.000000  0.000000  0.000000  0.000000  0.000000\n",
      "int       1.000000  1.000000  1.000000  1.000000  1.000000\n"
     ]
    }
   ],
   "source": [
    "df['int']=1\n",
    "print(df.head().transpose())"
   ]
  },
  {
   "cell_type": "markdown",
   "metadata": {},
   "source": [
    "##   7)   Separando as variáveis independentes da variável resposta."
   ]
  },
  {
   "cell_type": "code",
   "execution_count": 18,
   "metadata": {},
   "outputs": [],
   "source": [
    "X_entrada = df.drop(columns=['sexo'])\n",
    "Y_entrada = df['sexo']"
   ]
  },
  {
   "cell_type": "code",
   "execution_count": 19,
   "metadata": {},
   "outputs": [
    {
     "name": "stdout",
     "output_type": "stream",
     "text": [
      "                 0         1         2         3         4\n",
      "meanfreq  0.183506  0.183506  0.183506  0.151228  0.135120\n",
      "sd        0.064241  0.067310  0.083829  0.072111  0.079146\n",
      "median    0.190591  0.190591  0.190591  0.158011  0.124656\n",
      "Q25       0.142287  0.142482  0.142287  0.096582  0.078720\n",
      "Q75       0.225624  0.225624  0.225624  0.207955  0.206045\n",
      "IQR       0.075122  0.073252  0.123207  0.111374  0.127325\n",
      "skew      2.196061  2.196061  2.196061  1.232831  1.101174\n",
      "kurt      8.442361  8.442361  8.442361  4.177296  4.333713\n",
      "sp.ent    0.893369  0.892193  0.846389  0.963322  0.971955\n",
      "sfm       0.491918  0.513724  0.478905  0.727232  0.783568\n",
      "mode      0.000000  0.000000  0.000000  0.083878  0.104261\n",
      "centroid  0.183506  0.183506  0.183506  0.151228  0.135120\n",
      "meanfun   0.084279  0.107937  0.098706  0.088965  0.106398\n",
      "minfun    0.015702  0.015826  0.015656  0.017798  0.016931\n",
      "maxfun    0.275862  0.274345  0.271186  0.274345  0.275533\n",
      "meandom   0.007812  0.009014  0.007990  0.201497  0.712812\n",
      "mindom    0.007812  0.007812  0.007812  0.007812  0.007812\n",
      "maxdom    0.007812  0.054688  0.015625  0.562500  5.484375\n",
      "dfrange   0.000000  0.046875  0.007812  0.554688  5.476562\n",
      "modindx   0.133737  0.124252  0.124252  0.129050  0.126195\n",
      "int       1.000000  1.000000  1.000000  1.000000  1.000000\n"
     ]
    }
   ],
   "source": [
    "print(X_entrada.head().transpose())"
   ]
  },
  {
   "cell_type": "code",
   "execution_count": 20,
   "metadata": {},
   "outputs": [
    {
     "data": {
      "text/plain": [
       "0    0\n",
       "1    0\n",
       "2    0\n",
       "3    0\n",
       "4    0\n",
       "Name: sexo, dtype: int64"
      ]
     },
     "execution_count": 20,
     "metadata": {},
     "output_type": "execute_result"
    }
   ],
   "source": [
    "Y_entrada.head()"
   ]
  },
  {
   "cell_type": "markdown",
   "metadata": {},
   "source": [
    "##  8)  Divisão de 30% teste e 70%  para o treino."
   ]
  },
  {
   "cell_type": "code",
   "execution_count": 21,
   "metadata": {},
   "outputs": [],
   "source": [
    "X_train,X_test,y_train,y_test=train_test_split(X_entrada,Y_entrada,test_size=0.30,random_state=0)"
   ]
  },
  {
   "cell_type": "code",
   "execution_count": 22,
   "metadata": {},
   "outputs": [],
   "source": [
    "X_train.shape,X_test.shape , y_train.shape, y_test.shape\n",
    "\n",
    "\n",
    "dictabela = {}\n",
    "dictabela['Registros para treino'] = X_train.shape[0]\n",
    "dictabela['Registros para teste'] = X_test.shape[0]\n",
    "\n",
    "\n"
   ]
  },
  {
   "cell_type": "code",
   "execution_count": 23,
   "metadata": {},
   "outputs": [],
   "source": [
    "dftreinoteste = pandas.DataFrame.from_dict(dictabela, orient=\"index\").reset_index()"
   ]
  },
  {
   "cell_type": "code",
   "execution_count": 24,
   "metadata": {},
   "outputs": [
    {
     "data": {
      "text/html": [
       "<div>\n",
       "<style scoped>\n",
       "    .dataframe tbody tr th:only-of-type {\n",
       "        vertical-align: middle;\n",
       "    }\n",
       "\n",
       "    .dataframe tbody tr th {\n",
       "        vertical-align: top;\n",
       "    }\n",
       "\n",
       "    .dataframe thead th {\n",
       "        text-align: right;\n",
       "    }\n",
       "</style>\n",
       "<table border=\"1\" class=\"dataframe\">\n",
       "  <thead>\n",
       "    <tr style=\"text-align: right;\">\n",
       "      <th></th>\n",
       "      <th>divisão do dados</th>\n",
       "      <th>total</th>\n",
       "    </tr>\n",
       "  </thead>\n",
       "  <tbody>\n",
       "    <tr>\n",
       "      <td>0</td>\n",
       "      <td>Registros para treino</td>\n",
       "      <td>2217</td>\n",
       "    </tr>\n",
       "    <tr>\n",
       "      <td>1</td>\n",
       "      <td>Registros para teste</td>\n",
       "      <td>951</td>\n",
       "    </tr>\n",
       "  </tbody>\n",
       "</table>\n",
       "</div>"
      ],
      "text/plain": [
       "        divisão do dados  total\n",
       "0  Registros para treino   2217\n",
       "1   Registros para teste    951"
      ]
     },
     "execution_count": 24,
     "metadata": {},
     "output_type": "execute_result"
    }
   ],
   "source": [
    "dftreinoteste =dftreinoteste.rename(columns={'index': 'divisão do dados'})\n",
    "dftreinoteste =dftreinoteste.rename(columns={0: 'total'})\n",
    "dftreinoteste\n"
   ]
  },
  {
   "cell_type": "markdown",
   "metadata": {},
   "source": [
    "##  9)  Normalização dos dados por questão de escala."
   ]
  },
  {
   "cell_type": "code",
   "execution_count": 25,
   "metadata": {},
   "outputs": [],
   "source": [
    "# Instantiate \n",
    "norm = Normalizer()\n",
    "\n",
    "# Fit\n",
    "norm.fit(X_train)\n",
    "\n",
    "# Transform both training and testing sets\n",
    "X_train_norm = norm.transform(X_train)\n",
    "X_test_norm = norm.transform(X_test)"
   ]
  },
  {
   "cell_type": "code",
   "execution_count": 26,
   "metadata": {},
   "outputs": [
    {
     "data": {
      "text/plain": [
       "((2217, 21), (951, 21))"
      ]
     },
     "execution_count": 26,
     "metadata": {},
     "output_type": "execute_result"
    }
   ],
   "source": [
    "X_train_norm.shape , X_test_norm.shape"
   ]
  },
  {
   "cell_type": "markdown",
   "metadata": {},
   "source": [
    "---\n",
    "\n",
    "\n",
    "#  10)  Declarando o modelo."
   ]
  },
  {
   "cell_type": "code",
   "execution_count": 27,
   "metadata": {},
   "outputs": [],
   "source": [
    "#logistic Regression\n",
    "classifier = LogisticRegression(C=1, multi_class='ovr', penalty='l2', solver='liblinear')"
   ]
  },
  {
   "cell_type": "markdown",
   "metadata": {},
   "source": [
    "##  11)  Declarando o modelo para Validação cruzada."
   ]
  },
  {
   "cell_type": "code",
   "execution_count": 28,
   "metadata": {},
   "outputs": [],
   "source": [
    "#logistic Regression\n",
    "classifierComp = LogisticRegression(C=1, multi_class='ovr', penalty='l2', solver='liblinear')"
   ]
  },
  {
   "cell_type": "markdown",
   "metadata": {},
   "source": [
    "##  12)   Declarando o modelo para análise por estatística."
   ]
  },
  {
   "cell_type": "code",
   "execution_count": 29,
   "metadata": {},
   "outputs": [],
   "source": [
    "model = sm.Logit(y_train,X_train)"
   ]
  },
  {
   "cell_type": "markdown",
   "metadata": {},
   "source": [
    "# Treinamento e teste dos modelos."
   ]
  },
  {
   "cell_type": "markdown",
   "metadata": {},
   "source": [
    "##  13)   Principal: modelo."
   ]
  },
  {
   "cell_type": "code",
   "execution_count": 30,
   "metadata": {},
   "outputs": [
    {
     "data": {
      "text/plain": [
       "LogisticRegression(C=1, class_weight=None, dual=False, fit_intercept=True,\n",
       "                   intercept_scaling=1, l1_ratio=None, max_iter=100,\n",
       "                   multi_class='ovr', n_jobs=None, penalty='l2',\n",
       "                   random_state=None, solver='liblinear', tol=0.0001, verbose=0,\n",
       "                   warm_start=False)"
      ]
     },
     "execution_count": 30,
     "metadata": {},
     "output_type": "execute_result"
    }
   ],
   "source": [
    "classifier.fit(X_train,y_train)"
   ]
  },
  {
   "cell_type": "code",
   "execution_count": 31,
   "metadata": {},
   "outputs": [],
   "source": [
    "y_pred=classifier.predict(X_test)"
   ]
  },
  {
   "cell_type": "markdown",
   "metadata": {},
   "source": [
    "##   14)   Modelo para levantamento estatístico."
   ]
  },
  {
   "cell_type": "code",
   "execution_count": 32,
   "metadata": {},
   "outputs": [
    {
     "name": "stdout",
     "output_type": "stream",
     "text": [
      "Optimization terminated successfully.\n",
      "         Current function value: 0.094926\n",
      "         Iterations 10\n"
     ]
    }
   ],
   "source": [
    "result = model.fit()"
   ]
  },
  {
   "cell_type": "markdown",
   "metadata": {},
   "source": [
    "##    15)  Treinamento do modelo Comparativo em validação cruzada."
   ]
  },
  {
   "cell_type": "code",
   "execution_count": 33,
   "metadata": {},
   "outputs": [],
   "source": [
    "accuracy_cross = cross_val_score(classifierComp, X_entrada,Y_entrada, cv = 10, scoring='accuracy').mean()\n"
   ]
  },
  {
   "cell_type": "markdown",
   "metadata": {},
   "source": [
    "---\n",
    "\n",
    "# Modelo de avaliação de métricas."
   ]
  },
  {
   "cell_type": "markdown",
   "metadata": {},
   "source": [
    "##  16)  Classificação"
   ]
  },
  {
   "cell_type": "markdown",
   "metadata": {},
   "source": [
    "###  Matriz de confusão.\n",
    "Uma matriz de confusão pode ser definida livremente como uma tabela que descreve o desempenho de um modelo de classificação em um conjunto de dados de teste para os quais os valores verdadeiros são conhecidos."
   ]
  },
  {
   "cell_type": "code",
   "execution_count": 34,
   "metadata": {},
   "outputs": [],
   "source": [
    "cm=confusion_matrix(y_test,y_pred)\n"
   ]
  },
  {
   "cell_type": "code",
   "execution_count": 35,
   "metadata": {},
   "outputs": [],
   "source": [
    "confusion_matrix_lda = pandas.DataFrame(cm, index = ['Negativos','Positivos'], columns = ['Previsão dos negativos','Previsão dos positivos'] )\n",
    "confusion_matrix_lda['Total'] = 1\n",
    "confusion_matrix_lda['Total'][0] = cm[0][0] + cm[0][1]\n",
    "confusion_matrix_lda['Total'][1] = cm[1][0] + cm[1][1]"
   ]
  },
  {
   "cell_type": "code",
   "execution_count": 36,
   "metadata": {},
   "outputs": [
    {
     "data": {
      "text/html": [
       "<div>\n",
       "<style scoped>\n",
       "    .dataframe tbody tr th:only-of-type {\n",
       "        vertical-align: middle;\n",
       "    }\n",
       "\n",
       "    .dataframe tbody tr th {\n",
       "        vertical-align: top;\n",
       "    }\n",
       "\n",
       "    .dataframe thead th {\n",
       "        text-align: right;\n",
       "    }\n",
       "</style>\n",
       "<table border=\"1\" class=\"dataframe\">\n",
       "  <thead>\n",
       "    <tr style=\"text-align: right;\">\n",
       "      <th></th>\n",
       "      <th>Previsão dos negativos</th>\n",
       "      <th>Previsão dos positivos</th>\n",
       "      <th>Total</th>\n",
       "    </tr>\n",
       "  </thead>\n",
       "  <tbody>\n",
       "    <tr>\n",
       "      <td>Negativos</td>\n",
       "      <td>477</td>\n",
       "      <td>17</td>\n",
       "      <td>494</td>\n",
       "    </tr>\n",
       "    <tr>\n",
       "      <td>Positivos</td>\n",
       "      <td>68</td>\n",
       "      <td>389</td>\n",
       "      <td>457</td>\n",
       "    </tr>\n",
       "  </tbody>\n",
       "</table>\n",
       "</div>"
      ],
      "text/plain": [
       "           Previsão dos negativos  Previsão dos positivos  Total\n",
       "Negativos                     477                      17    494\n",
       "Positivos                      68                     389    457"
      ]
     },
     "execution_count": 36,
     "metadata": {},
     "output_type": "execute_result"
    }
   ],
   "source": [
    "confusion_matrix_lda"
   ]
  },
  {
   "cell_type": "code",
   "execution_count": 37,
   "metadata": {},
   "outputs": [
    {
     "name": "stdout",
     "output_type": "stream",
     "text": [
      "           Previsão dos negativos  Previsão dos positivos  Total\n",
      "Negativos                     477                      17    494\n",
      "Positivos                      68                     389    457\n"
     ]
    }
   ],
   "source": [
    "print(confusion_matrix_lda)"
   ]
  },
  {
   "cell_type": "code",
   "execution_count": 38,
   "metadata": {},
   "outputs": [
    {
     "data": {
      "image/png": "[encoded data removed]",
      "text/plain": [
       "<Figure size 720x360 with 2 Axes>"
      ]
     },
     "metadata": {},
     "output_type": "display_data"
    }
   ],
   "source": [
    "#Plot the confusion matrix\n",
    "plt.rcParams['figure.figsize'] = (10,5)\n",
    "sb.set(font_scale=1.5)\n",
    "sb.heatmap(cm, annot=True, fmt='g')\n",
    "plt.show()"
   ]
  },
  {
   "cell_type": "markdown",
   "metadata": {},
   "source": [
    "---\n",
    "\n",
    "### True Positives:TP\n",
    "Este valor indica a quantidade de registros que foram classificados como positivos corretamente, ou seja, a resposta do classificador foi que o comentário era positivo e o comentário realmente era positivo."
   ]
  },
  {
   "cell_type": "code",
   "execution_count": 39,
   "metadata": {},
   "outputs": [],
   "source": [
    "TP = confusion_matrix_lda['Previsão dos positivos'][1]\n",
    "dfTP = pandas.DataFrame(TP, index = ['Positivos verdadeiros'], columns = ['Quantidade acertos'] )"
   ]
  },
  {
   "cell_type": "code",
   "execution_count": 40,
   "metadata": {},
   "outputs": [
    {
     "data": {
      "text/html": [
       "<div>\n",
       "<style scoped>\n",
       "    .dataframe tbody tr th:only-of-type {\n",
       "        vertical-align: middle;\n",
       "    }\n",
       "\n",
       "    .dataframe tbody tr th {\n",
       "        vertical-align: top;\n",
       "    }\n",
       "\n",
       "    .dataframe thead th {\n",
       "        text-align: right;\n",
       "    }\n",
       "</style>\n",
       "<table border=\"1\" class=\"dataframe\">\n",
       "  <thead>\n",
       "    <tr style=\"text-align: right;\">\n",
       "      <th></th>\n",
       "      <th>Quantidade acertos</th>\n",
       "    </tr>\n",
       "  </thead>\n",
       "  <tbody>\n",
       "    <tr>\n",
       "      <td>Positivos verdadeiros</td>\n",
       "      <td>389</td>\n",
       "    </tr>\n",
       "  </tbody>\n",
       "</table>\n",
       "</div>"
      ],
      "text/plain": [
       "                       Quantidade acertos\n",
       "Positivos verdadeiros                 389"
      ]
     },
     "execution_count": 40,
     "metadata": {},
     "output_type": "execute_result"
    }
   ],
   "source": [
    "dfTP"
   ]
  },
  {
   "cell_type": "code",
   "execution_count": 41,
   "metadata": {},
   "outputs": [
    {
     "name": "stdout",
     "output_type": "stream",
     "text": [
      "                       Quantidade acertos\n",
      "Positivos verdadeiros                 389\n"
     ]
    }
   ],
   "source": [
    "print(dfTP)"
   ]
  },
  {
   "cell_type": "markdown",
   "metadata": {},
   "source": [
    "---\n",
    "\n",
    "### True Negatives:TN\n",
    "Este valor indica a quantidade de registros que foram classificados como negativos de maneira correta, ou seja, a resposta do classificador foi que o comentário era negativo e o comentário realmente era negativo."
   ]
  },
  {
   "cell_type": "code",
   "execution_count": 42,
   "metadata": {},
   "outputs": [],
   "source": [
    "TN = confusion_matrix_lda['Previsão dos negativos'][0]\n",
    "dfTN = pandas.DataFrame(TN, index = ['Verdadeiro Negativo'], columns = ['Quantidade acertos'] )"
   ]
  },
  {
   "cell_type": "code",
   "execution_count": 43,
   "metadata": {},
   "outputs": [
    {
     "data": {
      "text/html": [
       "<div>\n",
       "<style scoped>\n",
       "    .dataframe tbody tr th:only-of-type {\n",
       "        vertical-align: middle;\n",
       "    }\n",
       "\n",
       "    .dataframe tbody tr th {\n",
       "        vertical-align: top;\n",
       "    }\n",
       "\n",
       "    .dataframe thead th {\n",
       "        text-align: right;\n",
       "    }\n",
       "</style>\n",
       "<table border=\"1\" class=\"dataframe\">\n",
       "  <thead>\n",
       "    <tr style=\"text-align: right;\">\n",
       "      <th></th>\n",
       "      <th>Quantidade acertos</th>\n",
       "    </tr>\n",
       "  </thead>\n",
       "  <tbody>\n",
       "    <tr>\n",
       "      <td>Verdadeiro Negativo</td>\n",
       "      <td>477</td>\n",
       "    </tr>\n",
       "  </tbody>\n",
       "</table>\n",
       "</div>"
      ],
      "text/plain": [
       "                Quantidade acertos\n",
       "Verdadeiro Negativo                 477"
      ]
     },
     "execution_count": 43,
     "metadata": {},
     "output_type": "execute_result"
    }
   ],
   "source": [
    "dfTN"
   ]
  },
  {
   "cell_type": "code",
   "execution_count": 44,
   "metadata": {},
   "outputs": [
    {
     "name": "stdout",
     "output_type": "stream",
     "text": [
      "                Quantidade acertos\n",
      "Verdadeiro Negativo                 477\n"
     ]
    }
   ],
   "source": [
    "print(dfTN)"
   ]
  },
  {
   "cell_type": "markdown",
   "metadata": {},
   "source": [
    "---\n",
    "\n",
    "### Falso Positivos - False Positives:FP\n",
    "Este valor indica a quantidade de registros que foram classificados como comentários positivos de maneira incorreta, ou seja, a resposta do classificador foi que o comentário era positivo, mas o comentário era negativo."
   ]
  },
  {
   "cell_type": "code",
   "execution_count": 45,
   "metadata": {},
   "outputs": [],
   "source": [
    "FP = confusion_matrix_lda['Previsão dos positivos'][0]\n",
    "dfFP = pandas.DataFrame(FP, index = ['Falso Positivo'], columns = ['Quantidade acertos'] )"
   ]
  },
  {
   "cell_type": "code",
   "execution_count": 46,
   "metadata": {},
   "outputs": [
    {
     "data": {
      "text/html": [
       "<div>\n",
       "<style scoped>\n",
       "    .dataframe tbody tr th:only-of-type {\n",
       "        vertical-align: middle;\n",
       "    }\n",
       "\n",
       "    .dataframe tbody tr th {\n",
       "        vertical-align: top;\n",
       "    }\n",
       "\n",
       "    .dataframe thead th {\n",
       "        text-align: right;\n",
       "    }\n",
       "</style>\n",
       "<table border=\"1\" class=\"dataframe\">\n",
       "  <thead>\n",
       "    <tr style=\"text-align: right;\">\n",
       "      <th></th>\n",
       "      <th>Quantidade acertos</th>\n",
       "    </tr>\n",
       "  </thead>\n",
       "  <tbody>\n",
       "    <tr>\n",
       "      <td>Falso Positivo</td>\n",
       "      <td>17</td>\n",
       "    </tr>\n",
       "  </tbody>\n",
       "</table>\n",
       "</div>"
      ],
      "text/plain": [
       "                Quantidade acertos\n",
       "Falso Positivo                  17"
      ]
     },
     "execution_count": 46,
     "metadata": {},
     "output_type": "execute_result"
    }
   ],
   "source": [
    "dfFP"
   ]
  },
  {
   "cell_type": "code",
   "execution_count": 47,
   "metadata": {},
   "outputs": [
    {
     "name": "stdout",
     "output_type": "stream",
     "text": [
      "                Quantidade acertos\n",
      "Falso Positivo                  17\n"
     ]
    }
   ],
   "source": [
    "print(dfFP)"
   ]
  },
  {
   "cell_type": "markdown",
   "metadata": {},
   "source": [
    "---\n",
    "\n",
    "### False Negatives:FN\n",
    "Este valor indica a quantidade de registros que foram classificados como comentários negativos de maneira incorreta, ou seja, a resposta do classificador foi que o comentário era negativo, mas o comentário era positivo."
   ]
  },
  {
   "cell_type": "code",
   "execution_count": 48,
   "metadata": {},
   "outputs": [],
   "source": [
    "FN = confusion_matrix_lda['Previsão dos negativos'][1]\n",
    "dfFN = pandas.DataFrame(FN, index = ['Negativos Falsos'], columns = ['Quantidade acertos'] )"
   ]
  },
  {
   "cell_type": "code",
   "execution_count": 49,
   "metadata": {},
   "outputs": [
    {
     "data": {
      "text/html": [
       "<div>\n",
       "<style scoped>\n",
       "    .dataframe tbody tr th:only-of-type {\n",
       "        vertical-align: middle;\n",
       "    }\n",
       "\n",
       "    .dataframe tbody tr th {\n",
       "        vertical-align: top;\n",
       "    }\n",
       "\n",
       "    .dataframe thead th {\n",
       "        text-align: right;\n",
       "    }\n",
       "</style>\n",
       "<table border=\"1\" class=\"dataframe\">\n",
       "  <thead>\n",
       "    <tr style=\"text-align: right;\">\n",
       "      <th></th>\n",
       "      <th>Quantidade acertos</th>\n",
       "    </tr>\n",
       "  </thead>\n",
       "  <tbody>\n",
       "    <tr>\n",
       "      <td>Negativos Falsos</td>\n",
       "      <td>68</td>\n",
       "    </tr>\n",
       "  </tbody>\n",
       "</table>\n",
       "</div>"
      ],
      "text/plain": [
       "                       Quantidade acertos\n",
       "Negativos Falsos                  68"
      ]
     },
     "execution_count": 49,
     "metadata": {},
     "output_type": "execute_result"
    }
   ],
   "source": [
    "dfFN"
   ]
  },
  {
   "cell_type": "code",
   "execution_count": 50,
   "metadata": {},
   "outputs": [
    {
     "name": "stdout",
     "output_type": "stream",
     "text": [
      "                       Quantidade acertos\n",
      "Negativos Falsos                  68\n"
     ]
    }
   ],
   "source": [
    "print(dfFN)"
   ]
  },
  {
   "cell_type": "markdown",
   "metadata": {},
   "source": [
    "---\n",
    "\n",
    "### Especificidade (Specificity)\n",
    "Especificidade é a proporção de previsões negativas corretas para o total não de previsões negativas. Isso determina o grau de especificidade do classificador na previsão de instâncias positivas.\n",
    "\n",
    "Specificity = (Numero de previsões negativas correta) / (Total do Numero Negativas prevista)\n",
    "\n",
    "TN = / TN + FP"
   ]
  },
  {
   "cell_type": "code",
   "execution_count": 51,
   "metadata": {},
   "outputs": [],
   "source": [
    "Specificity = TN / float(TN + FP)\n",
    "dfSpecificity = pandas.DataFrame(Specificity, index = ['Specificity'], columns = ['resultado'] )"
   ]
  },
  {
   "cell_type": "code",
   "execution_count": 52,
   "metadata": {},
   "outputs": [
    {
     "data": {
      "text/html": [
       "<div>\n",
       "<style scoped>\n",
       "    .dataframe tbody tr th:only-of-type {\n",
       "        vertical-align: middle;\n",
       "    }\n",
       "\n",
       "    .dataframe tbody tr th {\n",
       "        vertical-align: top;\n",
       "    }\n",
       "\n",
       "    .dataframe thead th {\n",
       "        text-align: right;\n",
       "    }\n",
       "</style>\n",
       "<table border=\"1\" class=\"dataframe\">\n",
       "  <thead>\n",
       "    <tr style=\"text-align: right;\">\n",
       "      <th></th>\n",
       "      <th>resultado</th>\n",
       "    </tr>\n",
       "  </thead>\n",
       "  <tbody>\n",
       "    <tr>\n",
       "      <td>Specificity</td>\n",
       "      <td>0.965587</td>\n",
       "    </tr>\n",
       "  </tbody>\n",
       "</table>\n",
       "</div>"
      ],
      "text/plain": [
       "             resultado\n",
       "Specificity   0.965587"
      ]
     },
     "execution_count": 52,
     "metadata": {},
     "output_type": "execute_result"
    }
   ],
   "source": [
    "dfSpecificity"
   ]
  },
  {
   "cell_type": "code",
   "execution_count": 53,
   "metadata": {},
   "outputs": [
    {
     "name": "stdout",
     "output_type": "stream",
     "text": [
      "             resultado\n",
      "Specificity   0.965587\n"
     ]
    }
   ],
   "source": [
    "print(dfSpecificity)"
   ]
  },
  {
   "cell_type": "markdown",
   "metadata": {},
   "source": [
    "---\n",
    "\n",
    "### Precisão Geral (Accuracy)\n",
    "A precisão da classificação é a proporção de previsões corretas para o total não  de previsões. \n",
    "\n",
    "Accuracy = (numero de predições corretas / numero de predições)\n",
    "\n",
    "$$ Accuracy = \\frac{TP + TN}{TP + TN + FP + FN}$$"
   ]
  },
  {
   "cell_type": "code",
   "execution_count": 54,
   "metadata": {},
   "outputs": [
    {
     "name": "stdout",
     "output_type": "stream",
     "text": [
      "0.9106203995793901\n",
      "0.9106203995793901\n",
      "Accuracy  91.062039957939\n"
     ]
    }
   ],
   "source": [
    "#trés maneiras de fazer o caluclo\n",
    "print((TP + TN) / float(TP + TN + FP + FN))\n",
    "print(accuracy_score(y_test, y_pred))\n",
    "print(\"Accuracy \", classifier.score(X_test, y_test)*100)\n",
    "Accuracy= classifier.score(X_test, y_test)"
   ]
  },
  {
   "cell_type": "code",
   "execution_count": 55,
   "metadata": {},
   "outputs": [
    {
     "data": {
      "text/html": [
       "<div>\n",
       "<style scoped>\n",
       "    .dataframe tbody tr th:only-of-type {\n",
       "        vertical-align: middle;\n",
       "    }\n",
       "\n",
       "    .dataframe tbody tr th {\n",
       "        vertical-align: top;\n",
       "    }\n",
       "\n",
       "    .dataframe thead th {\n",
       "        text-align: right;\n",
       "    }\n",
       "</style>\n",
       "<table border=\"1\" class=\"dataframe\">\n",
       "  <thead>\n",
       "    <tr style=\"text-align: right;\">\n",
       "      <th></th>\n",
       "      <th>resultado</th>\n",
       "    </tr>\n",
       "  </thead>\n",
       "  <tbody>\n",
       "    <tr>\n",
       "      <td>Accuracy</td>\n",
       "      <td>0.91062</td>\n",
       "    </tr>\n",
       "  </tbody>\n",
       "</table>\n",
       "</div>"
      ],
      "text/plain": [
       "          resultado\n",
       "Accuracy    0.91062"
      ]
     },
     "execution_count": 55,
     "metadata": {},
     "output_type": "execute_result"
    }
   ],
   "source": [
    "dfAccuracy = pandas.DataFrame(Accuracy, index = ['Accuracy'], columns = ['resultado'] )\n",
    "dfAccuracy"
   ]
  },
  {
   "cell_type": "code",
   "execution_count": 56,
   "metadata": {},
   "outputs": [
    {
     "name": "stdout",
     "output_type": "stream",
     "text": [
      "          resultado\n",
      "Accuracy    0.91062\n"
     ]
    }
   ],
   "source": [
    "print(dfAccuracy)"
   ]
  },
  {
   "cell_type": "markdown",
   "metadata": {},
   "source": [
    "---\n",
    "\n",
    "### Sensibilidade ou recordação Recall\n",
    "\n",
    "\n",
    "\n",
    "\n",
    "Sensibilidade ou recordação é a razão de previsões positivas corretas para o total não de previsões positivas, ou, mais simplesmente, quão sensível o classificador é para detectar instâncias positivas. Isso também é chamado de True Positive Rate\n",
    "\n",
    "Recall = (Numero de positivas previstas corretamente) /( total de Predições positivas)\n",
    "\n",
    "$$Recall = \\frac{TP}{TP +FN}$$\n"
   ]
  },
  {
   "cell_type": "code",
   "execution_count": 57,
   "metadata": {},
   "outputs": [
    {
     "name": "stdout",
     "output_type": "stream",
     "text": [
      "0.8512035010940919\n",
      "0.8512035010940919\n"
     ]
    }
   ],
   "source": [
    "print(TP / float(TP + FN))\n",
    "print(recall_score(y_test, y_pred))\n",
    "Recall= recall_score(y_test, y_pred)"
   ]
  },
  {
   "cell_type": "code",
   "execution_count": 58,
   "metadata": {},
   "outputs": [
    {
     "data": {
      "text/html": [
       "<div>\n",
       "<style scoped>\n",
       "    .dataframe tbody tr th:only-of-type {\n",
       "        vertical-align: middle;\n",
       "    }\n",
       "\n",
       "    .dataframe tbody tr th {\n",
       "        vertical-align: top;\n",
       "    }\n",
       "\n",
       "    .dataframe thead th {\n",
       "        text-align: right;\n",
       "    }\n",
       "</style>\n",
       "<table border=\"1\" class=\"dataframe\">\n",
       "  <thead>\n",
       "    <tr style=\"text-align: right;\">\n",
       "      <th></th>\n",
       "      <th>resultado</th>\n",
       "    </tr>\n",
       "  </thead>\n",
       "  <tbody>\n",
       "    <tr>\n",
       "      <td>Sensibilidade-Recall</td>\n",
       "      <td>0.851204</td>\n",
       "    </tr>\n",
       "  </tbody>\n",
       "</table>\n",
       "</div>"
      ],
      "text/plain": [
       "                      resultado\n",
       "Sensibilidade-Recall   0.851204"
      ]
     },
     "execution_count": 58,
     "metadata": {},
     "output_type": "execute_result"
    }
   ],
   "source": [
    "dfRecall = pandas.DataFrame(Recall, index = ['Sensibilidade-Recall'], columns = ['resultado'] )\n",
    "dfRecall"
   ]
  },
  {
   "cell_type": "code",
   "execution_count": 59,
   "metadata": {},
   "outputs": [
    {
     "name": "stdout",
     "output_type": "stream",
     "text": [
      "                      resultado\n",
      "Sensibilidade-Recall   0.851204\n"
     ]
    }
   ],
   "source": [
    "print(dfRecall)"
   ]
  },
  {
   "cell_type": "markdown",
   "metadata": {},
   "source": [
    "---\n",
    "\n",
    "## Taxa positiva falsa (False Positive Rate)\n",
    "A *false positive rate*, é a proporção de previsões negativas que foram determinadas como positivas para o número total de previsões negativas ou quando o valor real é negativo, com que frequência a previsão é incorreta.\n",
    "\n",
    "FalsePositveRate = Números de falsos positivos / Total de predições negativas\n",
    "\n",
    "\n",
    "$$FalsePositveRate = \\frac{FP}{ TN + FP}$$\n"
   ]
  },
  {
   "cell_type": "code",
   "execution_count": 60,
   "metadata": {},
   "outputs": [
    {
     "name": "stdout",
     "output_type": "stream",
     "text": [
      "0.03441295546558704\n"
     ]
    }
   ],
   "source": [
    "print(FP / float(TN + FP))\n",
    "FalsePositveRate = FP / float(TN + FP)"
   ]
  },
  {
   "cell_type": "code",
   "execution_count": 61,
   "metadata": {},
   "outputs": [
    {
     "data": {
      "text/html": [
       "<div>\n",
       "<style scoped>\n",
       "    .dataframe tbody tr th:only-of-type {\n",
       "        vertical-align: middle;\n",
       "    }\n",
       "\n",
       "    .dataframe tbody tr th {\n",
       "        vertical-align: top;\n",
       "    }\n",
       "\n",
       "    .dataframe thead th {\n",
       "        text-align: right;\n",
       "    }\n",
       "</style>\n",
       "<table border=\"1\" class=\"dataframe\">\n",
       "  <thead>\n",
       "    <tr style=\"text-align: right;\">\n",
       "      <th></th>\n",
       "      <th>resultado</th>\n",
       "    </tr>\n",
       "  </thead>\n",
       "  <tbody>\n",
       "    <tr>\n",
       "      <td>Taxa de Falso Positvo</td>\n",
       "      <td>0.034413</td>\n",
       "    </tr>\n",
       "  </tbody>\n",
       "</table>\n",
       "</div>"
      ],
      "text/plain": [
       "                       resultado\n",
       "Taxa de Falso Positvo   0.034413"
      ]
     },
     "execution_count": 61,
     "metadata": {},
     "output_type": "execute_result"
    }
   ],
   "source": [
    "dfFalsePositveRate = pandas.DataFrame(FalsePositveRate, index = ['Taxa de Falso Positvo'], columns = ['resultado'] )\n",
    "dfFalsePositveRate"
   ]
  },
  {
   "cell_type": "code",
   "execution_count": 62,
   "metadata": {},
   "outputs": [
    {
     "name": "stdout",
     "output_type": "stream",
     "text": [
      "                       resultado\n",
      "Taxa de Falso Positvo   0.034413\n"
     ]
    }
   ],
   "source": [
    "print(dfFalsePositveRate)"
   ]
  },
  {
   "cell_type": "markdown",
   "metadata": {},
   "source": [
    "---\n",
    "### Precisão (Precision)\n",
    "A precisão é a proporção de previsões corretas para o total  de não previsões preditas corretas. Isso mede a precisão do classificador ao prever instâncias positivas.\n",
    "\n",
    "Precision = Número de positivas verdadeiras / Numero total de predicados positivos\n",
    "\n",
    "$$Precision = \\frac{TP} {TP + FP}$$"
   ]
  },
  {
   "cell_type": "code",
   "execution_count": 63,
   "metadata": {},
   "outputs": [
    {
     "name": "stdout",
     "output_type": "stream",
     "text": [
      "0.958128078817734\n",
      "0.958128078817734\n"
     ]
    }
   ],
   "source": [
    "print(TP / float(TP + FP))\n",
    "print(precision_score(y_test, y_pred))\n",
    "Precision = precision_score(y_test, y_pred)"
   ]
  },
  {
   "cell_type": "code",
   "execution_count": 64,
   "metadata": {},
   "outputs": [
    {
     "data": {
      "text/html": [
       "<div>\n",
       "<style scoped>\n",
       "    .dataframe tbody tr th:only-of-type {\n",
       "        vertical-align: middle;\n",
       "    }\n",
       "\n",
       "    .dataframe tbody tr th {\n",
       "        vertical-align: top;\n",
       "    }\n",
       "\n",
       "    .dataframe thead th {\n",
       "        text-align: right;\n",
       "    }\n",
       "</style>\n",
       "<table border=\"1\" class=\"dataframe\">\n",
       "  <thead>\n",
       "    <tr style=\"text-align: right;\">\n",
       "      <th></th>\n",
       "      <th>resultado</th>\n",
       "    </tr>\n",
       "  </thead>\n",
       "  <tbody>\n",
       "    <tr>\n",
       "      <td>Precisão</td>\n",
       "      <td>0.958128</td>\n",
       "    </tr>\n",
       "  </tbody>\n",
       "</table>\n",
       "</div>"
      ],
      "text/plain": [
       "          resultado\n",
       "Precisão   0.958128"
      ]
     },
     "execution_count": 64,
     "metadata": {},
     "output_type": "execute_result"
    }
   ],
   "source": [
    "dfPrecision = pandas.DataFrame(Precision, index = ['Precisão'], columns = ['resultado'] )\n",
    "dfPrecision"
   ]
  },
  {
   "cell_type": "code",
   "execution_count": 65,
   "metadata": {},
   "outputs": [
    {
     "name": "stdout",
     "output_type": "stream",
     "text": [
      "          resultado\n",
      "Precisão   0.958128\n"
     ]
    }
   ],
   "source": [
    "print(dfPrecision)"
   ]
  },
  {
   "cell_type": "markdown",
   "metadata": {},
   "source": [
    "---\n",
    "\n",
    "### F1 Score\n",
    "O F1 Score é uma média harmônica entre precisão (que, apesar de ter o mesmo nome, não é a mesma citada acima) e recall. Veja abaixo as definições destes dois termos.\n",
    "\n",
    "Ela é muito boa quando você possui um dataset com classes desproporcionais, e o seu modelo não emite probabilidades. Em geral, quanto maior o F1 score, melhor.\n",
    "\n",
    "\n",
    "\n",
    "$$F1Score = \\frac{2 \\times Precisão \\times Recall }{Precisão + Recall}$$\n"
   ]
  },
  {
   "cell_type": "code",
   "execution_count": 66,
   "metadata": {},
   "outputs": [],
   "source": [
    "F1Score = 2 * Precision *  Recall /  Precision + Recall"
   ]
  },
  {
   "cell_type": "code",
   "execution_count": 67,
   "metadata": {},
   "outputs": [
    {
     "name": "stdout",
     "output_type": "stream",
     "text": [
      "2.553610503282276\n"
     ]
    }
   ],
   "source": [
    "print(F1Score)\n"
   ]
  },
  {
   "cell_type": "code",
   "execution_count": 68,
   "metadata": {},
   "outputs": [
    {
     "data": {
      "text/html": [
       "<div>\n",
       "<style scoped>\n",
       "    .dataframe tbody tr th:only-of-type {\n",
       "        vertical-align: middle;\n",
       "    }\n",
       "\n",
       "    .dataframe tbody tr th {\n",
       "        vertical-align: top;\n",
       "    }\n",
       "\n",
       "    .dataframe thead th {\n",
       "        text-align: right;\n",
       "    }\n",
       "</style>\n",
       "<table border=\"1\" class=\"dataframe\">\n",
       "  <thead>\n",
       "    <tr style=\"text-align: right;\">\n",
       "      <th></th>\n",
       "      <th>resultado</th>\n",
       "    </tr>\n",
       "  </thead>\n",
       "  <tbody>\n",
       "    <tr>\n",
       "      <td>F1 Score</td>\n",
       "      <td>2.553611</td>\n",
       "    </tr>\n",
       "  </tbody>\n",
       "</table>\n",
       "</div>"
      ],
      "text/plain": [
       "          resultado\n",
       "F1 Score   2.553611"
      ]
     },
     "execution_count": 68,
     "metadata": {},
     "output_type": "execute_result"
    }
   ],
   "source": [
    "dfF1Score = pandas.DataFrame(F1Score, index = ['F1 Score'], columns = ['resultado'] )\n",
    "dfF1Score"
   ]
  },
  {
   "cell_type": "code",
   "execution_count": 69,
   "metadata": {},
   "outputs": [
    {
     "name": "stdout",
     "output_type": "stream",
     "text": [
      "          resultado\n",
      "F1 Score   2.553611\n"
     ]
    }
   ],
   "source": [
    "print(dfF1Score)"
   ]
  },
  {
   "cell_type": "markdown",
   "metadata": {},
   "source": [
    "---\n",
    "### Curva ROC\n",
    "Uma curva ROC é uma forma comumente usada para visualizar o desempenho de um classificador binário, significando um classificador com duas classes de saída possíveis. A curva plota a Taxa Positiva Real (Recall) contra a Taxa Falsa Positiva (também interpretada como Especificidade 1)."
   ]
  },
  {
   "cell_type": "code",
   "execution_count": 70,
   "metadata": {},
   "outputs": [],
   "source": [
    "def plot_roc_curve(fpr, tpr):\n",
    "    plt.plot(fpr, tpr, color='red', label='ROC')\n",
    "    plt.plot([0, 1], [0, 1], color='darkblue', linestyle='--')\n",
    "    plt.xlabel('Taxa de falsos positivos')\n",
    "    plt.ylabel('Taxa de verdadeiros positivos')\n",
    "    plt.title('Curva ROC:Receiver Operating Characteristic (ROC) Curve')\n",
    "    plt.legend()\n",
    "    plt.show()"
   ]
  },
  {
   "cell_type": "markdown",
   "metadata": {},
   "source": [
    "#### Calcula a propabildade de previsão."
   ]
  },
  {
   "cell_type": "code",
   "execution_count": 71,
   "metadata": {},
   "outputs": [],
   "source": [
    "y_pred_prob = classifier.predict_proba(X_test)[:, 1]"
   ]
  },
  {
   "cell_type": "code",
   "execution_count": 72,
   "metadata": {},
   "outputs": [],
   "source": [
    "fpr, tpr, thresholds = roc_curve(y_test, y_pred_prob)"
   ]
  },
  {
   "cell_type": "code",
   "execution_count": 73,
   "metadata": {},
   "outputs": [
    {
     "data": {
      "image/png": "[encoded data removed]",
      "text/plain": [
       "<Figure size 720x360 with 1 Axes>"
      ]
     },
     "metadata": {},
     "output_type": "display_data"
    }
   ],
   "source": [
    "plot_roc_curve(fpr, tpr)"
   ]
  },
  {
   "cell_type": "markdown",
   "metadata": {},
   "source": [
    "---\n",
    "\n",
    "### AUC (área sob a curva) da Curva ROC\n",
    "AUC ou Area Under the Curve é a porcentagem do gráfico do ROC que está abaixo da curva. AUC é útil como um único número de resumo do desempenho do classificador."
   ]
  },
  {
   "cell_type": "code",
   "execution_count": 74,
   "metadata": {},
   "outputs": [
    {
     "name": "stdout",
     "output_type": "stream",
     "text": [
      "0.9339779764172256\n"
     ]
    }
   ],
   "source": [
    "print(roc_auc_score(y_test, y_pred_prob))\n",
    "Auc=roc_auc_score(y_test, y_pred_prob)"
   ]
  },
  {
   "cell_type": "code",
   "execution_count": 75,
   "metadata": {},
   "outputs": [
    {
     "data": {
      "text/html": [
       "<div>\n",
       "<style scoped>\n",
       "    .dataframe tbody tr th:only-of-type {\n",
       "        vertical-align: middle;\n",
       "    }\n",
       "\n",
       "    .dataframe tbody tr th {\n",
       "        vertical-align: top;\n",
       "    }\n",
       "\n",
       "    .dataframe thead th {\n",
       "        text-align: right;\n",
       "    }\n",
       "</style>\n",
       "<table border=\"1\" class=\"dataframe\">\n",
       "  <thead>\n",
       "    <tr style=\"text-align: right;\">\n",
       "      <th></th>\n",
       "      <th>resultado</th>\n",
       "    </tr>\n",
       "  </thead>\n",
       "  <tbody>\n",
       "    <tr>\n",
       "      <td>AUC</td>\n",
       "      <td>0.933978</td>\n",
       "    </tr>\n",
       "  </tbody>\n",
       "</table>\n",
       "</div>"
      ],
      "text/plain": [
       "     resultado\n",
       "AUC   0.933978"
      ]
     },
     "execution_count": 75,
     "metadata": {},
     "output_type": "execute_result"
    }
   ],
   "source": [
    "dfAuc = pandas.DataFrame(Auc, index = ['AUC'], columns = ['resultado'] )\n",
    "dfAuc"
   ]
  },
  {
   "cell_type": "code",
   "execution_count": 76,
   "metadata": {},
   "outputs": [
    {
     "name": "stdout",
     "output_type": "stream",
     "text": [
      "     resultado\n",
      "AUC   0.933978\n"
     ]
    }
   ],
   "source": [
    "print(dfAuc)"
   ]
  },
  {
   "cell_type": "markdown",
   "metadata": {},
   "source": [
    "---\n",
    "### Histograma das Probabilidades da Previsão.\n",
    "Após o treinamento, o modelo expõe um atributo chamado predict_prob, que retorna a probabilidade de os dados do teste estarem em uma determinada classe de resposta. A partir disso, obteremos as probabilidades de prever um resultado par determinr a genrero pela voz."
   ]
  },
  {
   "cell_type": "code",
   "execution_count": 77,
   "metadata": {},
   "outputs": [
    {
     "data": {
      "text/plain": [
       "Text(0, 0.5, 'Frequência')"
      ]
     },
     "execution_count": 77,
     "metadata": {},
     "output_type": "execute_result"
    },
    {
     "data": {
      "image/png": "[encoded data removed]",
      "text/plain": [
       "<Figure size 720x360 with 1 Axes>"
      ]
     },
     "metadata": {},
     "output_type": "display_data"
    }
   ],
   "source": [
    "plt.hist(y_pred_prob, bins=8, linewidth=1.2)\n",
    "plt.xlim(0, 1)\n",
    "plt.title('Histograma das Probabilidade da Previsão')\n",
    "plt.xlabel('Previsão de probabilidade de ser voz feminina')\n",
    "plt.ylabel('Frequência')"
   ]
  },
  {
   "cell_type": "markdown",
   "metadata": {},
   "source": [
    "---\n",
    "### Precisão Geral (Accuracy_cross) por validação cruzada.\n",
    "Precissão do modelo sobre tecnicar de Validação cruzada media dos resultados."
   ]
  },
  {
   "cell_type": "code",
   "execution_count": 78,
   "metadata": {},
   "outputs": [
    {
     "data": {
      "text/plain": [
       "0.9000577183345275"
      ]
     },
     "execution_count": 78,
     "metadata": {},
     "output_type": "execute_result"
    }
   ],
   "source": [
    "accuracy_cross\n"
   ]
  },
  {
   "cell_type": "code",
   "execution_count": 79,
   "metadata": {},
   "outputs": [
    {
     "data": {
      "text/html": [
       "<div>\n",
       "<style scoped>\n",
       "    .dataframe tbody tr th:only-of-type {\n",
       "        vertical-align: middle;\n",
       "    }\n",
       "\n",
       "    .dataframe tbody tr th {\n",
       "        vertical-align: top;\n",
       "    }\n",
       "\n",
       "    .dataframe thead th {\n",
       "        text-align: right;\n",
       "    }\n",
       "</style>\n",
       "<table border=\"1\" class=\"dataframe\">\n",
       "  <thead>\n",
       "    <tr style=\"text-align: right;\">\n",
       "      <th></th>\n",
       "      <th>resultado</th>\n",
       "    </tr>\n",
       "  </thead>\n",
       "  <tbody>\n",
       "    <tr>\n",
       "      <td>Acurácia por validação cruzada</td>\n",
       "      <td>0.900058</td>\n",
       "    </tr>\n",
       "  </tbody>\n",
       "</table>\n",
       "</div>"
      ],
      "text/plain": [
       "                                resultado\n",
       "Acurácia por validação cruzada   0.900058"
      ]
     },
     "execution_count": 79,
     "metadata": {},
     "output_type": "execute_result"
    }
   ],
   "source": [
    "dfaccuracy_cross = pandas.DataFrame(accuracy_cross, index = ['Acurácia por validação cruzada'], columns = ['resultado'] )\n",
    "dfaccuracy_cross"
   ]
  },
  {
   "cell_type": "code",
   "execution_count": 80,
   "metadata": {},
   "outputs": [
    {
     "name": "stdout",
     "output_type": "stream",
     "text": [
      "                                resultado\n",
      "Acurácia por validação cruzada   0.900058\n"
     ]
    }
   ],
   "source": [
    "print(dfaccuracy_cross)"
   ]
  },
  {
   "cell_type": "markdown",
   "metadata": {},
   "source": [
    "---\n",
    "### Taxa entre as Accuracy e Accuracy_cross.\n",
    "Taxa Perda de acurácia da validação cruzada em relação acurácia.\n",
    "\n",
    "$$ RateLossAAC = \\frac{Accuracy - Accuracy_cross }{Accuracy \\times AccuracyCross} \\times 100$$\n",
    "\n"
   ]
  },
  {
   "cell_type": "code",
   "execution_count": 81,
   "metadata": {},
   "outputs": [
    {
     "name": "stdout",
     "output_type": "stream",
     "text": [
      "1.0440160120657485\n"
     ]
    }
   ],
   "source": [
    "print((Accuracy - accuracy_cross)/ Accuracy * accuracy_cross * 100) \n",
    "RateLossAAC = (Accuracy - accuracy_cross)/ Accuracy * accuracy_cross * 100"
   ]
  },
  {
   "cell_type": "code",
   "execution_count": 82,
   "metadata": {},
   "outputs": [
    {
     "data": {
      "text/html": [
       "<div>\n",
       "<style scoped>\n",
       "    .dataframe tbody tr th:only-of-type {\n",
       "        vertical-align: middle;\n",
       "    }\n",
       "\n",
       "    .dataframe tbody tr th {\n",
       "        vertical-align: top;\n",
       "    }\n",
       "\n",
       "    .dataframe thead th {\n",
       "        text-align: right;\n",
       "    }\n",
       "</style>\n",
       "<table border=\"1\" class=\"dataframe\">\n",
       "  <thead>\n",
       "    <tr style=\"text-align: right;\">\n",
       "      <th></th>\n",
       "      <th>resultado</th>\n",
       "    </tr>\n",
       "  </thead>\n",
       "  <tbody>\n",
       "    <tr>\n",
       "      <td>Taxas perdas em acurácia e acurácia por validação cruzada</td>\n",
       "      <td>1.044016</td>\n",
       "    </tr>\n",
       "  </tbody>\n",
       "</table>\n",
       "</div>"
      ],
      "text/plain": [
       "                                                    resultado\n",
       "Taxas perdas em acurácia e acurácia por validaç...   1.044016"
      ]
     },
     "execution_count": 82,
     "metadata": {},
     "output_type": "execute_result"
    }
   ],
   "source": [
    "dfRateLossAAC = pandas.DataFrame(RateLossAAC, index = ['Taxas perdas em acurácia e acurácia por validação cruzada'], columns = ['resultado'] )\n",
    "dfRateLossAAC"
   ]
  },
  {
   "cell_type": "code",
   "execution_count": 83,
   "metadata": {},
   "outputs": [
    {
     "name": "stdout",
     "output_type": "stream",
     "text": [
      "                                                    resultado\n",
      "Taxas perdas em acurácia e acurácia por validaç...   1.044016\n"
     ]
    }
   ],
   "source": [
    "print(dfRateLossAAC)"
   ]
  },
  {
   "cell_type": "markdown",
   "metadata": {},
   "source": [
    "---\n",
    "##   17)   Modelo regressão logística rodando no modulo estatístico para análise de redução de probabilidade."
   ]
  },
  {
   "cell_type": "code",
   "execution_count": 84,
   "metadata": {},
   "outputs": [
    {
     "name": "stdout",
     "output_type": "stream",
     "text": [
      "                           Logit Regression Results                           \n",
      "==============================================================================\n",
      "Dep. Variable:                   sexo   No. Observations:                 2217\n",
      "Model:                          Logit   Df Residuals:                     2197\n",
      "Method:                           MLE   Df Model:                           19\n",
      "Date:                Wed, 18 Sep 2019   Pseudo R-squ.:                  0.8630\n",
      "Time:                        08:17:37   Log-Likelihood:                -210.45\n",
      "converged:                       True   LL-Null:                       -1536.4\n",
      "Covariance Type:            nonrobust   LLR p-value:                     0.000\n",
      "==============================================================================\n",
      "                 coef    std err          z      P>|z|      [0.025      0.975]\n",
      "------------------------------------------------------------------------------\n",
      "meanfreq      -9.5665   2.52e+13  -3.79e-13      1.000   -4.94e+13    4.94e+13\n",
      "sd           -35.9751     33.830     -1.063      0.288    -102.280      30.330\n",
      "median        -3.0328      9.678     -0.313      0.754     -22.001      15.936\n",
      "Q25            2.9779      9.239      0.322      0.747     -15.131      21.087\n",
      "Q75           -2.8505     11.375     -0.251      0.802     -25.145      19.444\n",
      "IQR          -44.9883     11.819     -3.806      0.000     -68.154     -21.823\n",
      "skew          -0.4747      0.307     -1.545      0.122      -1.077       0.127\n",
      "kurt          -0.0302      0.091     -0.331      0.741      -0.209       0.149\n",
      "sp.ent       -53.3118      9.634     -5.534      0.000     -72.193     -34.430\n",
      "sfm           11.8626      2.770      4.283      0.000       6.434      17.292\n",
      "mode          -3.8309      2.352     -1.629      0.103      -8.440       0.779\n",
      "centroid      -9.5665   2.52e+13  -3.79e-13      1.000   -4.94e+13    4.94e+13\n",
      "meanfun      163.9070     10.413     15.741      0.000     143.498     184.316\n",
      "minfun       -40.9616     12.938     -3.166      0.002     -66.320     -15.603\n",
      "maxfun         5.9899     35.739      0.168      0.867     -64.057      76.036\n",
      "meandom        0.6586      0.505      1.305      0.192      -0.331       1.648\n",
      "mindom        16.7958     22.877      0.734      0.463     -28.042      61.634\n",
      "maxdom         1.9232      2.383      0.807      0.420      -2.747       6.593\n",
      "dfrange       -2.1260      2.368     -0.898      0.369      -6.768       2.516\n",
      "modindx       -6.0078      6.158     -0.976      0.329     -18.077       6.062\n",
      "int           33.1116        nan        nan        nan         nan         nan\n",
      "==============================================================================\n",
      "\n",
      "Possibly complete quasi-separation: A fraction 0.16 of observations can be\n",
      "perfectly predicted. This might indicate that there is complete\n",
      "quasi-separation. In this case some parameters will not be identified.\n"
     ]
    },
    {
     "name": "stderr",
     "output_type": "stream",
     "text": [
      "c:\\users\\jorge\\appdata\\local\\programs\\python\\python37-32\\lib\\site-packages\\scipy\\stats\\_distn_infrastructure.py:877: RuntimeWarning: invalid value encountered in greater\n",
      "  return (self.a < x) & (x < self.b)\n",
      "c:\\users\\jorge\\appdata\\local\\programs\\python\\python37-32\\lib\\site-packages\\scipy\\stats\\_distn_infrastructure.py:877: RuntimeWarning: invalid value encountered in less\n",
      "  return (self.a < x) & (x < self.b)\n",
      "c:\\users\\jorge\\appdata\\local\\programs\\python\\python37-32\\lib\\site-packages\\scipy\\stats\\_distn_infrastructure.py:1831: RuntimeWarning: invalid value encountered in less_equal\n",
      "  cond2 = cond0 & (x <= self.a)\n"
     ]
    }
   ],
   "source": [
    "#summarize the model\n",
    "print(result.summary())"
   ]
  },
  {
   "cell_type": "markdown",
   "metadata": {},
   "source": [
    "### Coeficientes da regressão. "
   ]
  },
  {
   "cell_type": "code",
   "execution_count": 85,
   "metadata": {},
   "outputs": [
    {
     "name": "stdout",
     "output_type": "stream",
     "text": [
      "meanfreq     -9.566454\n",
      "sd          -35.975055\n",
      "median       -3.032813\n",
      "Q25           2.977875\n",
      "Q75          -2.850482\n",
      "IQR         -44.988253\n",
      "skew         -0.474746\n",
      "kurt         -0.030199\n",
      "sp.ent      -53.311758\n",
      "sfm          11.862621\n",
      "mode         -3.830922\n",
      "centroid     -9.566454\n",
      "meanfun     163.906966\n",
      "minfun      -40.961576\n",
      "maxfun        5.989897\n",
      "meandom       0.658639\n",
      "mindom       16.795812\n",
      "maxdom        1.923217\n",
      "dfrange      -2.125986\n",
      "modindx      -6.007787\n",
      "int          33.111592\n",
      "dtype: float64\n"
     ]
    }
   ],
   "source": [
    "print(result.params)"
   ]
  },
  {
   "cell_type": "markdown",
   "metadata": {},
   "source": [
    "##   18)  Equação da Regressão Logística\n",
    "### A funão de y é:\n",
    "\n",
    "\n",
    "$$p = P(Y=1) = \\frac{1}{1 +e^{-(B0int+B1meanfreq+B2sd+B3median+B4Q25+B5Q75+B6IQR+...+B18mindom+B19maxdom+B20dfrange\t+B21modindx)}}$$\n",
    "\n",
    "$$g(x) = B0 +B1X1 + ... BpXp$$\n",
    "\n",
    "\n",
    "\n"
   ]
  },
  {
   "cell_type": "markdown",
   "metadata": {},
   "source": [
    "---\n",
    "\n",
    "## Reduzir as variáveis:\n",
    "Dado intervalo de confinça de 95% e :\n",
    " $$p-valor = 0.05$$"
   ]
  },
  {
   "cell_type": "code",
   "execution_count": 86,
   "metadata": {},
   "outputs": [
    {
     "name": "stdout",
     "output_type": "stream",
     "text": [
      "['meanfreq', 'sd', 'median', 'Q25', 'Q75', 'skew', 'kurt', 'mode', 'centroid', 'maxfun', 'meandom', 'mindom', 'maxdom', 'dfrange', 'modindx', 'int']\n"
     ]
    }
   ],
   "source": [
    "Dados = []\n",
    "for x in colunas:\n",
    "    if x == \"label\":\n",
    "        continue\n",
    "    P = result.pvalues[x]\n",
    "    if P >= 0.05:\n",
    "        Dados.append(x)\n",
    "Dados.append('int') \n",
    "print(Dados)\n",
    "        \n"
   ]
  },
  {
   "cell_type": "code",
   "execution_count": 87,
   "metadata": {},
   "outputs": [
    {
     "data": {
      "text/html": [
       "<div>\n",
       "<style scoped>\n",
       "    .dataframe tbody tr th:only-of-type {\n",
       "        vertical-align: middle;\n",
       "    }\n",
       "\n",
       "    .dataframe tbody tr th {\n",
       "        vertical-align: top;\n",
       "    }\n",
       "\n",
       "    .dataframe thead th {\n",
       "        text-align: right;\n",
       "    }\n",
       "</style>\n",
       "<table border=\"1\" class=\"dataframe\">\n",
       "  <thead>\n",
       "    <tr style=\"text-align: right;\">\n",
       "      <th></th>\n",
       "      <th>meanfreq</th>\n",
       "      <th>sd</th>\n",
       "      <th>median</th>\n",
       "      <th>Q25</th>\n",
       "      <th>Q75</th>\n",
       "      <th>IQR</th>\n",
       "      <th>skew</th>\n",
       "      <th>kurt</th>\n",
       "      <th>sp.ent</th>\n",
       "      <th>sfm</th>\n",
       "      <th>...</th>\n",
       "      <th>meanfun</th>\n",
       "      <th>minfun</th>\n",
       "      <th>maxfun</th>\n",
       "      <th>meandom</th>\n",
       "      <th>mindom</th>\n",
       "      <th>maxdom</th>\n",
       "      <th>dfrange</th>\n",
       "      <th>modindx</th>\n",
       "      <th>sexo</th>\n",
       "      <th>int</th>\n",
       "    </tr>\n",
       "  </thead>\n",
       "  <tbody>\n",
       "    <tr>\n",
       "      <td>0</td>\n",
       "      <td>0.183506</td>\n",
       "      <td>0.064241</td>\n",
       "      <td>0.190591</td>\n",
       "      <td>0.142287</td>\n",
       "      <td>0.225624</td>\n",
       "      <td>0.075122</td>\n",
       "      <td>2.196061</td>\n",
       "      <td>8.442361</td>\n",
       "      <td>0.893369</td>\n",
       "      <td>0.491918</td>\n",
       "      <td>...</td>\n",
       "      <td>0.084279</td>\n",
       "      <td>0.015702</td>\n",
       "      <td>0.275862</td>\n",
       "      <td>0.007812</td>\n",
       "      <td>0.007812</td>\n",
       "      <td>0.007812</td>\n",
       "      <td>0.000000</td>\n",
       "      <td>0.133737</td>\n",
       "      <td>0</td>\n",
       "      <td>1</td>\n",
       "    </tr>\n",
       "    <tr>\n",
       "      <td>1</td>\n",
       "      <td>0.183506</td>\n",
       "      <td>0.067310</td>\n",
       "      <td>0.190591</td>\n",
       "      <td>0.142482</td>\n",
       "      <td>0.225624</td>\n",
       "      <td>0.073252</td>\n",
       "      <td>2.196061</td>\n",
       "      <td>8.442361</td>\n",
       "      <td>0.892193</td>\n",
       "      <td>0.513724</td>\n",
       "      <td>...</td>\n",
       "      <td>0.107937</td>\n",
       "      <td>0.015826</td>\n",
       "      <td>0.274345</td>\n",
       "      <td>0.009014</td>\n",
       "      <td>0.007812</td>\n",
       "      <td>0.054688</td>\n",
       "      <td>0.046875</td>\n",
       "      <td>0.124252</td>\n",
       "      <td>0</td>\n",
       "      <td>1</td>\n",
       "    </tr>\n",
       "    <tr>\n",
       "      <td>2</td>\n",
       "      <td>0.183506</td>\n",
       "      <td>0.083829</td>\n",
       "      <td>0.190591</td>\n",
       "      <td>0.142287</td>\n",
       "      <td>0.225624</td>\n",
       "      <td>0.123207</td>\n",
       "      <td>2.196061</td>\n",
       "      <td>8.442361</td>\n",
       "      <td>0.846389</td>\n",
       "      <td>0.478905</td>\n",
       "      <td>...</td>\n",
       "      <td>0.098706</td>\n",
       "      <td>0.015656</td>\n",
       "      <td>0.271186</td>\n",
       "      <td>0.007990</td>\n",
       "      <td>0.007812</td>\n",
       "      <td>0.015625</td>\n",
       "      <td>0.007812</td>\n",
       "      <td>0.124252</td>\n",
       "      <td>0</td>\n",
       "      <td>1</td>\n",
       "    </tr>\n",
       "    <tr>\n",
       "      <td>3</td>\n",
       "      <td>0.151228</td>\n",
       "      <td>0.072111</td>\n",
       "      <td>0.158011</td>\n",
       "      <td>0.096582</td>\n",
       "      <td>0.207955</td>\n",
       "      <td>0.111374</td>\n",
       "      <td>1.232831</td>\n",
       "      <td>4.177296</td>\n",
       "      <td>0.963322</td>\n",
       "      <td>0.727232</td>\n",
       "      <td>...</td>\n",
       "      <td>0.088965</td>\n",
       "      <td>0.017798</td>\n",
       "      <td>0.274345</td>\n",
       "      <td>0.201497</td>\n",
       "      <td>0.007812</td>\n",
       "      <td>0.562500</td>\n",
       "      <td>0.554688</td>\n",
       "      <td>0.129050</td>\n",
       "      <td>0</td>\n",
       "      <td>1</td>\n",
       "    </tr>\n",
       "    <tr>\n",
       "      <td>4</td>\n",
       "      <td>0.135120</td>\n",
       "      <td>0.079146</td>\n",
       "      <td>0.124656</td>\n",
       "      <td>0.078720</td>\n",
       "      <td>0.206045</td>\n",
       "      <td>0.127325</td>\n",
       "      <td>1.101174</td>\n",
       "      <td>4.333713</td>\n",
       "      <td>0.971955</td>\n",
       "      <td>0.783568</td>\n",
       "      <td>...</td>\n",
       "      <td>0.106398</td>\n",
       "      <td>0.016931</td>\n",
       "      <td>0.275533</td>\n",
       "      <td>0.712812</td>\n",
       "      <td>0.007812</td>\n",
       "      <td>5.484375</td>\n",
       "      <td>5.476562</td>\n",
       "      <td>0.126195</td>\n",
       "      <td>0</td>\n",
       "      <td>1</td>\n",
       "    </tr>\n",
       "  </tbody>\n",
       "</table>\n",
       "<p>5 rows × 22 columns</p>\n",
       "</div>"
      ],
      "text/plain": [
       "   meanfreq        sd    median       Q25       Q75       IQR      skew  \\\n",
       "0  0.183506  0.064241  0.190591  0.142287  0.225624  0.075122  2.196061   \n",
       "1  0.183506  0.067310  0.190591  0.142482  0.225624  0.073252  2.196061   \n",
       "2  0.183506  0.083829  0.190591  0.142287  0.225624  0.123207  2.196061   \n",
       "3  0.151228  0.072111  0.158011  0.096582  0.207955  0.111374  1.232831   \n",
       "4  0.135120  0.079146  0.124656  0.078720  0.206045  0.127325  1.101174   \n",
       "\n",
       "       kurt    sp.ent       sfm  ...   meanfun    minfun    maxfun   meandom  \\\n",
       "0  8.442361  0.893369  0.491918  ...  0.084279  0.015702  0.275862  0.007812   \n",
       "1  8.442361  0.892193  0.513724  ...  0.107937  0.015826  0.274345  0.009014   \n",
       "2  8.442361  0.846389  0.478905  ...  0.098706  0.015656  0.271186  0.007990   \n",
       "3  4.177296  0.963322  0.727232  ...  0.088965  0.017798  0.274345  0.201497   \n",
       "4  4.333713  0.971955  0.783568  ...  0.106398  0.016931  0.275533  0.712812   \n",
       "\n",
       "     mindom    maxdom   dfrange   modindx  sexo  int  \n",
       "0  0.007812  0.007812  0.000000  0.133737     0    1  \n",
       "1  0.007812  0.054688  0.046875  0.124252     0    1  \n",
       "2  0.007812  0.015625  0.007812  0.124252     0    1  \n",
       "3  0.007812  0.562500  0.554688  0.129050     0    1  \n",
       "4  0.007812  5.484375  5.476562  0.126195     0    1  \n",
       "\n",
       "[5 rows x 22 columns]"
      ]
     },
     "execution_count": 87,
     "metadata": {},
     "output_type": "execute_result"
    }
   ],
   "source": [
    "df.head()"
   ]
  },
  {
   "cell_type": "code",
   "execution_count": 88,
   "metadata": {},
   "outputs": [],
   "source": [
    "Xr_entrada = df.drop(columns=['sexo'])\n",
    "Xr_entrada =  df[Dados]"
   ]
  },
  {
   "cell_type": "code",
   "execution_count": 89,
   "metadata": {},
   "outputs": [],
   "source": [
    "Yr_entrada = df['sexo']"
   ]
  },
  {
   "cell_type": "code",
   "execution_count": 90,
   "metadata": {},
   "outputs": [
    {
     "data": {
      "text/html": [
       "<div>\n",
       "<style scoped>\n",
       "    .dataframe tbody tr th:only-of-type {\n",
       "        vertical-align: middle;\n",
       "    }\n",
       "\n",
       "    .dataframe tbody tr th {\n",
       "        vertical-align: top;\n",
       "    }\n",
       "\n",
       "    .dataframe thead th {\n",
       "        text-align: right;\n",
       "    }\n",
       "</style>\n",
       "<table border=\"1\" class=\"dataframe\">\n",
       "  <thead>\n",
       "    <tr style=\"text-align: right;\">\n",
       "      <th></th>\n",
       "      <th>meanfreq</th>\n",
       "      <th>sd</th>\n",
       "      <th>median</th>\n",
       "      <th>Q25</th>\n",
       "      <th>Q75</th>\n",
       "      <th>skew</th>\n",
       "      <th>kurt</th>\n",
       "      <th>mode</th>\n",
       "      <th>centroid</th>\n",
       "      <th>maxfun</th>\n",
       "      <th>meandom</th>\n",
       "      <th>mindom</th>\n",
       "      <th>maxdom</th>\n",
       "      <th>dfrange</th>\n",
       "      <th>modindx</th>\n",
       "      <th>int</th>\n",
       "    </tr>\n",
       "  </thead>\n",
       "  <tbody>\n",
       "    <tr>\n",
       "      <td>0</td>\n",
       "      <td>0.183506</td>\n",
       "      <td>0.064241</td>\n",
       "      <td>0.190591</td>\n",
       "      <td>0.142287</td>\n",
       "      <td>0.225624</td>\n",
       "      <td>2.196061</td>\n",
       "      <td>8.442361</td>\n",
       "      <td>0.000000</td>\n",
       "      <td>0.183506</td>\n",
       "      <td>0.275862</td>\n",
       "      <td>0.007812</td>\n",
       "      <td>0.007812</td>\n",
       "      <td>0.007812</td>\n",
       "      <td>0.000000</td>\n",
       "      <td>0.133737</td>\n",
       "      <td>1</td>\n",
       "    </tr>\n",
       "    <tr>\n",
       "      <td>1</td>\n",
       "      <td>0.183506</td>\n",
       "      <td>0.067310</td>\n",
       "      <td>0.190591</td>\n",
       "      <td>0.142482</td>\n",
       "      <td>0.225624</td>\n",
       "      <td>2.196061</td>\n",
       "      <td>8.442361</td>\n",
       "      <td>0.000000</td>\n",
       "      <td>0.183506</td>\n",
       "      <td>0.274345</td>\n",
       "      <td>0.009014</td>\n",
       "      <td>0.007812</td>\n",
       "      <td>0.054688</td>\n",
       "      <td>0.046875</td>\n",
       "      <td>0.124252</td>\n",
       "      <td>1</td>\n",
       "    </tr>\n",
       "    <tr>\n",
       "      <td>2</td>\n",
       "      <td>0.183506</td>\n",
       "      <td>0.083829</td>\n",
       "      <td>0.190591</td>\n",
       "      <td>0.142287</td>\n",
       "      <td>0.225624</td>\n",
       "      <td>2.196061</td>\n",
       "      <td>8.442361</td>\n",
       "      <td>0.000000</td>\n",
       "      <td>0.183506</td>\n",
       "      <td>0.271186</td>\n",
       "      <td>0.007990</td>\n",
       "      <td>0.007812</td>\n",
       "      <td>0.015625</td>\n",
       "      <td>0.007812</td>\n",
       "      <td>0.124252</td>\n",
       "      <td>1</td>\n",
       "    </tr>\n",
       "    <tr>\n",
       "      <td>3</td>\n",
       "      <td>0.151228</td>\n",
       "      <td>0.072111</td>\n",
       "      <td>0.158011</td>\n",
       "      <td>0.096582</td>\n",
       "      <td>0.207955</td>\n",
       "      <td>1.232831</td>\n",
       "      <td>4.177296</td>\n",
       "      <td>0.083878</td>\n",
       "      <td>0.151228</td>\n",
       "      <td>0.274345</td>\n",
       "      <td>0.201497</td>\n",
       "      <td>0.007812</td>\n",
       "      <td>0.562500</td>\n",
       "      <td>0.554688</td>\n",
       "      <td>0.129050</td>\n",
       "      <td>1</td>\n",
       "    </tr>\n",
       "    <tr>\n",
       "      <td>4</td>\n",
       "      <td>0.135120</td>\n",
       "      <td>0.079146</td>\n",
       "      <td>0.124656</td>\n",
       "      <td>0.078720</td>\n",
       "      <td>0.206045</td>\n",
       "      <td>1.101174</td>\n",
       "      <td>4.333713</td>\n",
       "      <td>0.104261</td>\n",
       "      <td>0.135120</td>\n",
       "      <td>0.275533</td>\n",
       "      <td>0.712812</td>\n",
       "      <td>0.007812</td>\n",
       "      <td>5.484375</td>\n",
       "      <td>5.476562</td>\n",
       "      <td>0.126195</td>\n",
       "      <td>1</td>\n",
       "    </tr>\n",
       "  </tbody>\n",
       "</table>\n",
       "</div>"
      ],
      "text/plain": [
       "   meanfreq        sd    median       Q25       Q75      skew      kurt  \\\n",
       "0  0.183506  0.064241  0.190591  0.142287  0.225624  2.196061  8.442361   \n",
       "1  0.183506  0.067310  0.190591  0.142482  0.225624  2.196061  8.442361   \n",
       "2  0.183506  0.083829  0.190591  0.142287  0.225624  2.196061  8.442361   \n",
       "3  0.151228  0.072111  0.158011  0.096582  0.207955  1.232831  4.177296   \n",
       "4  0.135120  0.079146  0.124656  0.078720  0.206045  1.101174  4.333713   \n",
       "\n",
       "       mode  centroid    maxfun   meandom    mindom    maxdom   dfrange  \\\n",
       "0  0.000000  0.183506  0.275862  0.007812  0.007812  0.007812  0.000000   \n",
       "1  0.000000  0.183506  0.274345  0.009014  0.007812  0.054688  0.046875   \n",
       "2  0.000000  0.183506  0.271186  0.007990  0.007812  0.015625  0.007812   \n",
       "3  0.083878  0.151228  0.274345  0.201497  0.007812  0.562500  0.554688   \n",
       "4  0.104261  0.135120  0.275533  0.712812  0.007812  5.484375  5.476562   \n",
       "\n",
       "    modindx  int  \n",
       "0  0.133737    1  \n",
       "1  0.124252    1  \n",
       "2  0.124252    1  \n",
       "3  0.129050    1  \n",
       "4  0.126195    1  "
      ]
     },
     "execution_count": 90,
     "metadata": {},
     "output_type": "execute_result"
    }
   ],
   "source": [
    "Xr_entrada.head()"
   ]
  },
  {
   "cell_type": "code",
   "execution_count": 91,
   "metadata": {},
   "outputs": [
    {
     "data": {
      "text/plain": [
       "0       0\n",
       "1       0\n",
       "2       0\n",
       "3       0\n",
       "4       0\n",
       "       ..\n",
       "3163    1\n",
       "3164    1\n",
       "3165    1\n",
       "3166    1\n",
       "3167    1\n",
       "Name: sexo, Length: 3168, dtype: int64"
      ]
     },
     "execution_count": 91,
     "metadata": {},
     "output_type": "execute_result"
    }
   ],
   "source": [
    "Yr_entrada"
   ]
  },
  {
   "cell_type": "markdown",
   "metadata": {},
   "source": [
    "##  19)  Divisão de 30% teste e 70%  para o treino.no."
   ]
  },
  {
   "cell_type": "code",
   "execution_count": 92,
   "metadata": {},
   "outputs": [],
   "source": [
    "Xr_train,Xr_test,yr_train,yr_test=train_test_split(Xr_entrada,Yr_entrada,test_size=0.30,random_state=0)"
   ]
  },
  {
   "cell_type": "code",
   "execution_count": 93,
   "metadata": {},
   "outputs": [],
   "source": [
    "\n",
    "dictabela = {}\n",
    "dictabela['Registros para treino'] = Xr_train.shape[0]\n",
    "dictabela['Registros para teste'] = Xr_test.shape[0]"
   ]
  },
  {
   "cell_type": "code",
   "execution_count": 94,
   "metadata": {},
   "outputs": [],
   "source": [
    "dftreinotester = pandas.DataFrame.from_dict(dictabela, orient=\"index\").reset_index()"
   ]
  },
  {
   "cell_type": "code",
   "execution_count": 95,
   "metadata": {},
   "outputs": [
    {
     "data": {
      "text/html": [
       "<div>\n",
       "<style scoped>\n",
       "    .dataframe tbody tr th:only-of-type {\n",
       "        vertical-align: middle;\n",
       "    }\n",
       "\n",
       "    .dataframe tbody tr th {\n",
       "        vertical-align: top;\n",
       "    }\n",
       "\n",
       "    .dataframe thead th {\n",
       "        text-align: right;\n",
       "    }\n",
       "</style>\n",
       "<table border=\"1\" class=\"dataframe\">\n",
       "  <thead>\n",
       "    <tr style=\"text-align: right;\">\n",
       "      <th></th>\n",
       "      <th>divisão do dados</th>\n",
       "      <th>total</th>\n",
       "    </tr>\n",
       "  </thead>\n",
       "  <tbody>\n",
       "    <tr>\n",
       "      <td>0</td>\n",
       "      <td>Registros para treino</td>\n",
       "      <td>2217</td>\n",
       "    </tr>\n",
       "    <tr>\n",
       "      <td>1</td>\n",
       "      <td>Registros para teste</td>\n",
       "      <td>951</td>\n",
       "    </tr>\n",
       "  </tbody>\n",
       "</table>\n",
       "</div>"
      ],
      "text/plain": [
       "        divisão do dados  total\n",
       "0  Registros para treino   2217\n",
       "1   Registros para teste    951"
      ]
     },
     "execution_count": 95,
     "metadata": {},
     "output_type": "execute_result"
    }
   ],
   "source": [
    "dftreinotester =dftreinotester.rename(columns={'index': 'divisão do dados'})\n",
    "dftreinotester =dftreinotester.rename(columns={0: 'total'})\n",
    "dftreinotester"
   ]
  },
  {
   "cell_type": "markdown",
   "metadata": {},
   "source": [
    "##  20)  Normalização dos dados por questão de escala."
   ]
  },
  {
   "cell_type": "code",
   "execution_count": 96,
   "metadata": {},
   "outputs": [
    {
     "data": {
      "text/html": [
       "<div>\n",
       "<style scoped>\n",
       "    .dataframe tbody tr th:only-of-type {\n",
       "        vertical-align: middle;\n",
       "    }\n",
       "\n",
       "    .dataframe tbody tr th {\n",
       "        vertical-align: top;\n",
       "    }\n",
       "\n",
       "    .dataframe thead th {\n",
       "        text-align: right;\n",
       "    }\n",
       "</style>\n",
       "<table border=\"1\" class=\"dataframe\">\n",
       "  <thead>\n",
       "    <tr style=\"text-align: right;\">\n",
       "      <th></th>\n",
       "      <th>meanfreq</th>\n",
       "      <th>sd</th>\n",
       "      <th>median</th>\n",
       "      <th>Q25</th>\n",
       "      <th>Q75</th>\n",
       "      <th>skew</th>\n",
       "      <th>kurt</th>\n",
       "      <th>mode</th>\n",
       "      <th>centroid</th>\n",
       "      <th>maxfun</th>\n",
       "      <th>meandom</th>\n",
       "      <th>mindom</th>\n",
       "      <th>maxdom</th>\n",
       "      <th>dfrange</th>\n",
       "      <th>modindx</th>\n",
       "      <th>int</th>\n",
       "    </tr>\n",
       "  </thead>\n",
       "  <tbody>\n",
       "    <tr>\n",
       "      <td>943</td>\n",
       "      <td>0.200303</td>\n",
       "      <td>0.061665</td>\n",
       "      <td>0.229964</td>\n",
       "      <td>0.135451</td>\n",
       "      <td>0.256245</td>\n",
       "      <td>1.619882</td>\n",
       "      <td>5.194025</td>\n",
       "      <td>0.256245</td>\n",
       "      <td>0.200303</td>\n",
       "      <td>0.279070</td>\n",
       "      <td>1.690770</td>\n",
       "      <td>0.023438</td>\n",
       "      <td>6.515625</td>\n",
       "      <td>6.492188</td>\n",
       "      <td>0.179513</td>\n",
       "      <td>1</td>\n",
       "    </tr>\n",
       "    <tr>\n",
       "      <td>2486</td>\n",
       "      <td>0.214223</td>\n",
       "      <td>0.037987</td>\n",
       "      <td>0.216717</td>\n",
       "      <td>0.206465</td>\n",
       "      <td>0.225556</td>\n",
       "      <td>3.377777</td>\n",
       "      <td>7.847583</td>\n",
       "      <td>0.220960</td>\n",
       "      <td>0.214223</td>\n",
       "      <td>0.279070</td>\n",
       "      <td>2.030966</td>\n",
       "      <td>0.023438</td>\n",
       "      <td>8.859375</td>\n",
       "      <td>8.835938</td>\n",
       "      <td>0.108594</td>\n",
       "      <td>1</td>\n",
       "    </tr>\n",
       "    <tr>\n",
       "      <td>517</td>\n",
       "      <td>0.150002</td>\n",
       "      <td>0.068328</td>\n",
       "      <td>0.162544</td>\n",
       "      <td>0.093932</td>\n",
       "      <td>0.202894</td>\n",
       "      <td>1.953073</td>\n",
       "      <td>7.469802</td>\n",
       "      <td>0.084131</td>\n",
       "      <td>0.150002</td>\n",
       "      <td>0.274345</td>\n",
       "      <td>0.470982</td>\n",
       "      <td>0.007812</td>\n",
       "      <td>4.875000</td>\n",
       "      <td>4.867188</td>\n",
       "      <td>0.135587</td>\n",
       "      <td>1</td>\n",
       "    </tr>\n",
       "    <tr>\n",
       "      <td>778</td>\n",
       "      <td>0.172459</td>\n",
       "      <td>0.059078</td>\n",
       "      <td>0.178675</td>\n",
       "      <td>0.111729</td>\n",
       "      <td>0.213958</td>\n",
       "      <td>1.473990</td>\n",
       "      <td>5.318155</td>\n",
       "      <td>0.209887</td>\n",
       "      <td>0.172459</td>\n",
       "      <td>0.274345</td>\n",
       "      <td>0.348145</td>\n",
       "      <td>0.017774</td>\n",
       "      <td>2.882812</td>\n",
       "      <td>2.796875</td>\n",
       "      <td>0.074115</td>\n",
       "      <td>1</td>\n",
       "    </tr>\n",
       "    <tr>\n",
       "      <td>1280</td>\n",
       "      <td>0.176249</td>\n",
       "      <td>0.076477</td>\n",
       "      <td>0.189526</td>\n",
       "      <td>0.118162</td>\n",
       "      <td>0.251532</td>\n",
       "      <td>2.258821</td>\n",
       "      <td>9.384604</td>\n",
       "      <td>0.258162</td>\n",
       "      <td>0.176249</td>\n",
       "      <td>0.279070</td>\n",
       "      <td>0.464062</td>\n",
       "      <td>0.023438</td>\n",
       "      <td>3.070312</td>\n",
       "      <td>3.046875</td>\n",
       "      <td>0.067483</td>\n",
       "      <td>1</td>\n",
       "    </tr>\n",
       "    <tr>\n",
       "      <td>...</td>\n",
       "      <td>...</td>\n",
       "      <td>...</td>\n",
       "      <td>...</td>\n",
       "      <td>...</td>\n",
       "      <td>...</td>\n",
       "      <td>...</td>\n",
       "      <td>...</td>\n",
       "      <td>...</td>\n",
       "      <td>...</td>\n",
       "      <td>...</td>\n",
       "      <td>...</td>\n",
       "      <td>...</td>\n",
       "      <td>...</td>\n",
       "      <td>...</td>\n",
       "      <td>...</td>\n",
       "      <td>...</td>\n",
       "    </tr>\n",
       "    <tr>\n",
       "      <td>763</td>\n",
       "      <td>0.165049</td>\n",
       "      <td>0.060078</td>\n",
       "      <td>0.178088</td>\n",
       "      <td>0.105885</td>\n",
       "      <td>0.211425</td>\n",
       "      <td>1.577942</td>\n",
       "      <td>5.393908</td>\n",
       "      <td>0.210907</td>\n",
       "      <td>0.165049</td>\n",
       "      <td>0.274345</td>\n",
       "      <td>0.696403</td>\n",
       "      <td>0.017774</td>\n",
       "      <td>4.921875</td>\n",
       "      <td>4.828125</td>\n",
       "      <td>0.129050</td>\n",
       "      <td>1</td>\n",
       "    </tr>\n",
       "    <tr>\n",
       "      <td>835</td>\n",
       "      <td>0.174274</td>\n",
       "      <td>0.057816</td>\n",
       "      <td>0.191211</td>\n",
       "      <td>0.116053</td>\n",
       "      <td>0.218474</td>\n",
       "      <td>1.932602</td>\n",
       "      <td>8.103753</td>\n",
       "      <td>0.199316</td>\n",
       "      <td>0.174274</td>\n",
       "      <td>0.279070</td>\n",
       "      <td>0.794705</td>\n",
       "      <td>0.023438</td>\n",
       "      <td>5.343750</td>\n",
       "      <td>5.320312</td>\n",
       "      <td>0.079036</td>\n",
       "      <td>1</td>\n",
       "    </tr>\n",
       "    <tr>\n",
       "      <td>1653</td>\n",
       "      <td>0.134785</td>\n",
       "      <td>0.082020</td>\n",
       "      <td>0.142053</td>\n",
       "      <td>0.057067</td>\n",
       "      <td>0.202405</td>\n",
       "      <td>1.341973</td>\n",
       "      <td>5.596726</td>\n",
       "      <td>0.200352</td>\n",
       "      <td>0.134785</td>\n",
       "      <td>0.275862</td>\n",
       "      <td>0.521739</td>\n",
       "      <td>0.023438</td>\n",
       "      <td>3.875000</td>\n",
       "      <td>3.851562</td>\n",
       "      <td>0.153772</td>\n",
       "      <td>1</td>\n",
       "    </tr>\n",
       "    <tr>\n",
       "      <td>2607</td>\n",
       "      <td>0.236909</td>\n",
       "      <td>0.029605</td>\n",
       "      <td>0.241928</td>\n",
       "      <td>0.220241</td>\n",
       "      <td>0.253494</td>\n",
       "      <td>3.055783</td>\n",
       "      <td>7.587060</td>\n",
       "      <td>0.241928</td>\n",
       "      <td>0.236909</td>\n",
       "      <td>0.279070</td>\n",
       "      <td>1.571875</td>\n",
       "      <td>0.023438</td>\n",
       "      <td>9.726562</td>\n",
       "      <td>9.703125</td>\n",
       "      <td>0.123188</td>\n",
       "      <td>1</td>\n",
       "    </tr>\n",
       "    <tr>\n",
       "      <td>2732</td>\n",
       "      <td>0.186664</td>\n",
       "      <td>0.033863</td>\n",
       "      <td>0.191071</td>\n",
       "      <td>0.166171</td>\n",
       "      <td>0.202759</td>\n",
       "      <td>2.271343</td>\n",
       "      <td>7.793855</td>\n",
       "      <td>0.199201</td>\n",
       "      <td>0.186664</td>\n",
       "      <td>0.279070</td>\n",
       "      <td>1.740057</td>\n",
       "      <td>0.023438</td>\n",
       "      <td>9.281250</td>\n",
       "      <td>9.257812</td>\n",
       "      <td>0.135353</td>\n",
       "      <td>1</td>\n",
       "    </tr>\n",
       "  </tbody>\n",
       "</table>\n",
       "<p>2217 rows × 16 columns</p>\n",
       "</div>"
      ],
      "text/plain": [
       "      meanfreq        sd    median       Q25       Q75      skew      kurt  \\\n",
       "943   0.200303  0.061665  0.229964  0.135451  0.256245  1.619882  5.194025   \n",
       "2486  0.214223  0.037987  0.216717  0.206465  0.225556  3.377777  7.847583   \n",
       "517   0.150002  0.068328  0.162544  0.093932  0.202894  1.953073  7.469802   \n",
       "778   0.172459  0.059078  0.178675  0.111729  0.213958  1.473990  5.318155   \n",
       "1280  0.176249  0.076477  0.189526  0.118162  0.251532  2.258821  9.384604   \n",
       "...        ...       ...       ...       ...       ...       ...       ...   \n",
       "763   0.165049  0.060078  0.178088  0.105885  0.211425  1.577942  5.393908   \n",
       "835   0.174274  0.057816  0.191211  0.116053  0.218474  1.932602  8.103753   \n",
       "1653  0.134785  0.082020  0.142053  0.057067  0.202405  1.341973  5.596726   \n",
       "2607  0.236909  0.029605  0.241928  0.220241  0.253494  3.055783  7.587060   \n",
       "2732  0.186664  0.033863  0.191071  0.166171  0.202759  2.271343  7.793855   \n",
       "\n",
       "          mode  centroid    maxfun   meandom    mindom    maxdom   dfrange  \\\n",
       "943   0.256245  0.200303  0.279070  1.690770  0.023438  6.515625  6.492188   \n",
       "2486  0.220960  0.214223  0.279070  2.030966  0.023438  8.859375  8.835938   \n",
       "517   0.084131  0.150002  0.274345  0.470982  0.007812  4.875000  4.867188   \n",
       "778   0.209887  0.172459  0.274345  0.348145  0.017774  2.882812  2.796875   \n",
       "1280  0.258162  0.176249  0.279070  0.464062  0.023438  3.070312  3.046875   \n",
       "...        ...       ...       ...       ...       ...       ...       ...   \n",
       "763   0.210907  0.165049  0.274345  0.696403  0.017774  4.921875  4.828125   \n",
       "835   0.199316  0.174274  0.279070  0.794705  0.023438  5.343750  5.320312   \n",
       "1653  0.200352  0.134785  0.275862  0.521739  0.023438  3.875000  3.851562   \n",
       "2607  0.241928  0.236909  0.279070  1.571875  0.023438  9.726562  9.703125   \n",
       "2732  0.199201  0.186664  0.279070  1.740057  0.023438  9.281250  9.257812   \n",
       "\n",
       "       modindx  int  \n",
       "943   0.179513    1  \n",
       "2486  0.108594    1  \n",
       "517   0.135587    1  \n",
       "778   0.074115    1  \n",
       "1280  0.067483    1  \n",
       "...        ...  ...  \n",
       "763   0.129050    1  \n",
       "835   0.079036    1  \n",
       "1653  0.153772    1  \n",
       "2607  0.123188    1  \n",
       "2732  0.135353    1  \n",
       "\n",
       "[2217 rows x 16 columns]"
      ]
     },
     "execution_count": 96,
     "metadata": {},
     "output_type": "execute_result"
    }
   ],
   "source": [
    "Xr_train"
   ]
  },
  {
   "cell_type": "code",
   "execution_count": 97,
   "metadata": {},
   "outputs": [
    {
     "data": {
      "text/plain": [
       "Normalizer(copy=True, norm='l2')"
      ]
     },
     "execution_count": 97,
     "metadata": {},
     "output_type": "execute_result"
    }
   ],
   "source": [
    "# Instantiate \n",
    "normr = Normalizer()\n",
    "# Fit\n",
    "normr.fit(Xr_train)"
   ]
  },
  {
   "cell_type": "code",
   "execution_count": 98,
   "metadata": {},
   "outputs": [],
   "source": [
    "Xr_train_norm = normr.transform(Xr_train)"
   ]
  },
  {
   "cell_type": "code",
   "execution_count": 99,
   "metadata": {},
   "outputs": [],
   "source": [
    "Xr_test_norm = normr.transform(Xr_test)"
   ]
  },
  {
   "cell_type": "code",
   "execution_count": 100,
   "metadata": {},
   "outputs": [
    {
     "name": "stdout",
     "output_type": "stream",
     "text": [
      "(2217, 16) (951, 16)\n"
     ]
    }
   ],
   "source": [
    "print(Xr_train_norm.shape , Xr_test_norm.shape)"
   ]
  },
  {
   "cell_type": "markdown",
   "metadata": {},
   "source": [
    "---\n",
    "---\n",
    "\n",
    "#  21)   Declarando o modelo com as variáveis reduzidas."
   ]
  },
  {
   "cell_type": "code",
   "execution_count": 101,
   "metadata": {},
   "outputs": [],
   "source": [
    "#logistic Regression\n",
    "Rclassifier = LogisticRegression(C=1, multi_class='ovr', penalty='l2', solver='liblinear')"
   ]
  },
  {
   "cell_type": "markdown",
   "metadata": {},
   "source": [
    "##  22)  Declarando o modelo para Validação cruzada."
   ]
  },
  {
   "cell_type": "code",
   "execution_count": 102,
   "metadata": {},
   "outputs": [],
   "source": [
    "#logistic Regression\n",
    "RclassifierComp = LogisticRegression(C=1, multi_class='ovr', penalty='l2', solver='liblinear')"
   ]
  },
  {
   "cell_type": "markdown",
   "metadata": {},
   "source": [
    "## 23)Treinando o modelo com redução das variáveis."
   ]
  },
  {
   "cell_type": "markdown",
   "metadata": {},
   "source": [
    "### Principal dos modelos."
   ]
  },
  {
   "cell_type": "code",
   "execution_count": 103,
   "metadata": {},
   "outputs": [
    {
     "data": {
      "text/plain": [
       "LogisticRegression(C=1, class_weight=None, dual=False, fit_intercept=True,\n",
       "                   intercept_scaling=1, l1_ratio=None, max_iter=100,\n",
       "                   multi_class='ovr', n_jobs=None, penalty='l2',\n",
       "                   random_state=None, solver='liblinear', tol=0.0001, verbose=0,\n",
       "                   warm_start=False)"
      ]
     },
     "execution_count": 103,
     "metadata": {},
     "output_type": "execute_result"
    }
   ],
   "source": [
    "Rclassifier.fit(Xr_train,yr_train)"
   ]
  },
  {
   "cell_type": "code",
   "execution_count": 104,
   "metadata": {},
   "outputs": [],
   "source": [
    "yr_pred=Rclassifier.predict(Xr_test)"
   ]
  },
  {
   "cell_type": "markdown",
   "metadata": {},
   "source": [
    "##  Declarando o modelo para Validação cruzada."
   ]
  },
  {
   "cell_type": "code",
   "execution_count": 105,
   "metadata": {},
   "outputs": [],
   "source": [
    "Raccuracy_cross = cross_val_score(RclassifierComp, Xr_entrada,Yr_entrada, cv = 10, scoring='accuracy').mean()"
   ]
  },
  {
   "cell_type": "markdown",
   "metadata": {},
   "source": [
    "---\n",
    "# Modelo de avaliação de métricas."
   ]
  },
  {
   "cell_type": "markdown",
   "metadata": {},
   "source": [
    "### Matriz de confusão."
   ]
  },
  {
   "cell_type": "code",
   "execution_count": 106,
   "metadata": {},
   "outputs": [],
   "source": [
    "rcm=confusion_matrix(yr_test,yr_pred)"
   ]
  },
  {
   "cell_type": "code",
   "execution_count": 107,
   "metadata": {},
   "outputs": [],
   "source": [
    "rconfusion_matrix_lda = pandas.DataFrame(rcm, index = ['Negativos','Positivos'], columns = ['Previsão dos negativos','Previsão dos positivos'] )\n",
    "rconfusion_matrix_lda['Total'] = 1\n",
    "rconfusion_matrix_lda['Total'][0] = rcm[0][0] + rcm[0][1]\n",
    "rconfusion_matrix_lda['Total'][1] = rcm[1][0] + rcm[1][1]"
   ]
  },
  {
   "cell_type": "code",
   "execution_count": 108,
   "metadata": {},
   "outputs": [
    {
     "data": {
      "text/html": [
       "<div>\n",
       "<style scoped>\n",
       "    .dataframe tbody tr th:only-of-type {\n",
       "        vertical-align: middle;\n",
       "    }\n",
       "\n",
       "    .dataframe tbody tr th {\n",
       "        vertical-align: top;\n",
       "    }\n",
       "\n",
       "    .dataframe thead th {\n",
       "        text-align: right;\n",
       "    }\n",
       "</style>\n",
       "<table border=\"1\" class=\"dataframe\">\n",
       "  <thead>\n",
       "    <tr style=\"text-align: right;\">\n",
       "      <th></th>\n",
       "      <th>Previsão dos negativos</th>\n",
       "      <th>Previsão dos positivos</th>\n",
       "      <th>Total</th>\n",
       "    </tr>\n",
       "  </thead>\n",
       "  <tbody>\n",
       "    <tr>\n",
       "      <td>Negativos</td>\n",
       "      <td>406</td>\n",
       "      <td>88</td>\n",
       "      <td>494</td>\n",
       "    </tr>\n",
       "    <tr>\n",
       "      <td>Positivos</td>\n",
       "      <td>104</td>\n",
       "      <td>353</td>\n",
       "      <td>457</td>\n",
       "    </tr>\n",
       "  </tbody>\n",
       "</table>\n",
       "</div>"
      ],
      "text/plain": [
       "           Previsão dos negativos  Previsão dos positivos  Total\n",
       "Negativos                     406                      88    494\n",
       "Positivos                     104                     353    457"
      ]
     },
     "execution_count": 108,
     "metadata": {},
     "output_type": "execute_result"
    }
   ],
   "source": [
    "rconfusion_matrix_lda"
   ]
  },
  {
   "cell_type": "code",
   "execution_count": 109,
   "metadata": {},
   "outputs": [
    {
     "name": "stdout",
     "output_type": "stream",
     "text": [
      "           Previsão dos negativos  Previsão dos positivos  Total\n",
      "Negativos                     406                      88    494\n",
      "Positivos                     104                     353    457\n"
     ]
    }
   ],
   "source": [
    "print(rconfusion_matrix_lda)"
   ]
  },
  {
   "cell_type": "code",
   "execution_count": 110,
   "metadata": {},
   "outputs": [
    {
     "data": {
      "image/png": "[encoded data removed]",
      "text/plain": [
       "<Figure size 720x360 with 2 Axes>"
      ]
     },
     "metadata": {},
     "output_type": "display_data"
    }
   ],
   "source": [
    "#Plot the confusion matrix\n",
    "plt.rcParams['figure.figsize'] = (10,5)\n",
    "sb.set(font_scale=1.5)\n",
    "sb.heatmap(rcm, annot=True, fmt='g')\n",
    "plt.show()"
   ]
  },
  {
   "cell_type": "markdown",
   "metadata": {},
   "source": [
    "---\n",
    "\n",
    "### Precisão Geral (Accuracy)\n",
    "A precisão da classificação é a proporção de previsões corretas para o total não  de previsões. \n",
    "\n",
    "Accuracy = (numero de predições corretas / numero de predições)\n",
    "\n",
    "$$ Accuracy = \\frac{TP + TN}{TP + TN + FP + FN}$$"
   ]
  },
  {
   "cell_type": "code",
   "execution_count": 111,
   "metadata": {},
   "outputs": [],
   "source": [
    "RAccuracy= Rclassifier.score(Xr_test, yr_test)"
   ]
  },
  {
   "cell_type": "code",
   "execution_count": 112,
   "metadata": {},
   "outputs": [
    {
     "data": {
      "text/html": [
       "<div>\n",
       "<style scoped>\n",
       "    .dataframe tbody tr th:only-of-type {\n",
       "        vertical-align: middle;\n",
       "    }\n",
       "\n",
       "    .dataframe tbody tr th {\n",
       "        vertical-align: top;\n",
       "    }\n",
       "\n",
       "    .dataframe thead th {\n",
       "        text-align: right;\n",
       "    }\n",
       "</style>\n",
       "<table border=\"1\" class=\"dataframe\">\n",
       "  <thead>\n",
       "    <tr style=\"text-align: right;\">\n",
       "      <th></th>\n",
       "      <th>resultado</th>\n",
       "    </tr>\n",
       "  </thead>\n",
       "  <tbody>\n",
       "    <tr>\n",
       "      <td>Accuracy</td>\n",
       "      <td>0.798107</td>\n",
       "    </tr>\n",
       "  </tbody>\n",
       "</table>\n",
       "</div>"
      ],
      "text/plain": [
       "          resultado\n",
       "Accuracy   0.798107"
      ]
     },
     "execution_count": 112,
     "metadata": {},
     "output_type": "execute_result"
    }
   ],
   "source": [
    "dfRAccuracy = pandas.DataFrame(RAccuracy, index = ['Accuracy'], columns = ['resultado'] )\n",
    "dfRAccuracy"
   ]
  },
  {
   "cell_type": "code",
   "execution_count": 113,
   "metadata": {},
   "outputs": [
    {
     "name": "stdout",
     "output_type": "stream",
     "text": [
      "          resultado\n",
      "Accuracy   0.798107\n"
     ]
    }
   ],
   "source": [
    "print(dfRAccuracy)"
   ]
  },
  {
   "cell_type": "markdown",
   "metadata": {},
   "source": [
    "### Curva ROC"
   ]
  },
  {
   "cell_type": "code",
   "execution_count": 114,
   "metadata": {},
   "outputs": [],
   "source": [
    "yr_pred_prob = Rclassifier.predict_proba(Xr_test)[:, 1]"
   ]
  },
  {
   "cell_type": "code",
   "execution_count": 115,
   "metadata": {},
   "outputs": [],
   "source": [
    "rfpr, rtpr, rthresholds = roc_curve(yr_test, yr_pred_prob)"
   ]
  },
  {
   "cell_type": "code",
   "execution_count": 116,
   "metadata": {},
   "outputs": [
    {
     "data": {
      "image/png": "[encoded data removed]",
      "text/plain": [
       "<Figure size 720x360 with 1 Axes>"
      ]
     },
     "metadata": {},
     "output_type": "display_data"
    }
   ],
   "source": [
    "plot_roc_curve(rfpr, rtpr)"
   ]
  },
  {
   "cell_type": "markdown",
   "metadata": {},
   "source": [
    "### AUC (área sob a curva) da Curva ROC."
   ]
  },
  {
   "cell_type": "code",
   "execution_count": 117,
   "metadata": {},
   "outputs": [
    {
     "name": "stdout",
     "output_type": "stream",
     "text": [
      "0.8422071421610751\n"
     ]
    }
   ],
   "source": [
    "print(roc_auc_score(yr_test, yr_pred_prob))\n",
    "rAuc=roc_auc_score(yr_test, yr_pred_prob)"
   ]
  },
  {
   "cell_type": "code",
   "execution_count": 118,
   "metadata": {},
   "outputs": [
    {
     "data": {
      "text/html": [
       "<div>\n",
       "<style scoped>\n",
       "    .dataframe tbody tr th:only-of-type {\n",
       "        vertical-align: middle;\n",
       "    }\n",
       "\n",
       "    .dataframe tbody tr th {\n",
       "        vertical-align: top;\n",
       "    }\n",
       "\n",
       "    .dataframe thead th {\n",
       "        text-align: right;\n",
       "    }\n",
       "</style>\n",
       "<table border=\"1\" class=\"dataframe\">\n",
       "  <thead>\n",
       "    <tr style=\"text-align: right;\">\n",
       "      <th></th>\n",
       "      <th>resultado</th>\n",
       "    </tr>\n",
       "  </thead>\n",
       "  <tbody>\n",
       "    <tr>\n",
       "      <td>AUC</td>\n",
       "      <td>0.842207</td>\n",
       "    </tr>\n",
       "  </tbody>\n",
       "</table>\n",
       "</div>"
      ],
      "text/plain": [
       "     resultado\n",
       "AUC   0.842207"
      ]
     },
     "execution_count": 118,
     "metadata": {},
     "output_type": "execute_result"
    }
   ],
   "source": [
    "dfrAuc = pandas.DataFrame(rAuc, index = ['AUC'], columns = ['resultado'] )\n",
    "dfrAuc"
   ]
  },
  {
   "cell_type": "code",
   "execution_count": 119,
   "metadata": {},
   "outputs": [
    {
     "name": "stdout",
     "output_type": "stream",
     "text": [
      "     resultado\n",
      "AUC   0.842207\n"
     ]
    }
   ],
   "source": [
    "print(dfrAuc)"
   ]
  },
  {
   "cell_type": "markdown",
   "metadata": {},
   "source": [
    "---\n",
    "### Precisão Geral (Accuracy_cross) por validação cruzada.\n",
    "Precissão do modelo sobre tecnicar de Validação cruzada media dos resultados."
   ]
  },
  {
   "cell_type": "code",
   "execution_count": 120,
   "metadata": {},
   "outputs": [
    {
     "name": "stdout",
     "output_type": "stream",
     "text": [
      "0.7888981768967439\n"
     ]
    }
   ],
   "source": [
    "print(Raccuracy_cross)"
   ]
  },
  {
   "cell_type": "code",
   "execution_count": 121,
   "metadata": {},
   "outputs": [
    {
     "data": {
      "text/html": [
       "<div>\n",
       "<style scoped>\n",
       "    .dataframe tbody tr th:only-of-type {\n",
       "        vertical-align: middle;\n",
       "    }\n",
       "\n",
       "    .dataframe tbody tr th {\n",
       "        vertical-align: top;\n",
       "    }\n",
       "\n",
       "    .dataframe thead th {\n",
       "        text-align: right;\n",
       "    }\n",
       "</style>\n",
       "<table border=\"1\" class=\"dataframe\">\n",
       "  <thead>\n",
       "    <tr style=\"text-align: right;\">\n",
       "      <th></th>\n",
       "      <th>resultado</th>\n",
       "    </tr>\n",
       "  </thead>\n",
       "  <tbody>\n",
       "    <tr>\n",
       "      <td>Acurácia por validação cruzada</td>\n",
       "      <td>0.788898</td>\n",
       "    </tr>\n",
       "  </tbody>\n",
       "</table>\n",
       "</div>"
      ],
      "text/plain": [
       "                                resultado\n",
       "Acurácia por validação cruzada   0.788898"
      ]
     },
     "execution_count": 121,
     "metadata": {},
     "output_type": "execute_result"
    }
   ],
   "source": [
    "dfRaccuracy_cross = pandas.DataFrame(Raccuracy_cross, index = ['Acurácia por validação cruzada'], columns = ['resultado'] )\n",
    "dfRaccuracy_cross"
   ]
  },
  {
   "cell_type": "code",
   "execution_count": 122,
   "metadata": {},
   "outputs": [
    {
     "name": "stdout",
     "output_type": "stream",
     "text": [
      "                                resultado\n",
      "Acurácia por validação cruzada   0.788898\n"
     ]
    }
   ],
   "source": [
    "print(dfRaccuracy_cross)"
   ]
  },
  {
   "cell_type": "markdown",
   "metadata": {},
   "source": [
    "---\n",
    "### Taxa entre as Accuracy e Accuracy_cross.\n",
    "Taxa Perda de acurácia da validação cruzada em relação acurácia.\n",
    "\n",
    "$$ RateLossAAC = \\frac{Accuracy - Accuracy_cross }{Accuracy \\times AccuracyCross} \\times 100$$"
   ]
  },
  {
   "cell_type": "code",
   "execution_count": 123,
   "metadata": {},
   "outputs": [
    {
     "name": "stdout",
     "output_type": "stream",
     "text": [
      "0.9102818307854695\n"
     ]
    }
   ],
   "source": [
    "print((RAccuracy - Raccuracy_cross)/ RAccuracy * Raccuracy_cross * 100) \n",
    "RRateLossAAC = (RAccuracy - Raccuracy_cross)/ RAccuracy * Raccuracy_cross * 100"
   ]
  },
  {
   "cell_type": "code",
   "execution_count": 124,
   "metadata": {},
   "outputs": [
    {
     "data": {
      "text/html": [
       "<div>\n",
       "<style scoped>\n",
       "    .dataframe tbody tr th:only-of-type {\n",
       "        vertical-align: middle;\n",
       "    }\n",
       "\n",
       "    .dataframe tbody tr th {\n",
       "        vertical-align: top;\n",
       "    }\n",
       "\n",
       "    .dataframe thead th {\n",
       "        text-align: right;\n",
       "    }\n",
       "</style>\n",
       "<table border=\"1\" class=\"dataframe\">\n",
       "  <thead>\n",
       "    <tr style=\"text-align: right;\">\n",
       "      <th></th>\n",
       "      <th>resultado</th>\n",
       "    </tr>\n",
       "  </thead>\n",
       "  <tbody>\n",
       "    <tr>\n",
       "      <td>Taxas perdas em acurácia e acurácia por validação cruzada</td>\n",
       "      <td>0.910282</td>\n",
       "    </tr>\n",
       "  </tbody>\n",
       "</table>\n",
       "</div>"
      ],
      "text/plain": [
       "                                                    resultado\n",
       "Taxas perdas em acurácia e acurácia por validaç...   0.910282"
      ]
     },
     "execution_count": 124,
     "metadata": {},
     "output_type": "execute_result"
    }
   ],
   "source": [
    "dfRRateLossAAC = pandas.DataFrame(RRateLossAAC, index = ['Taxas perdas em acurácia e acurácia por validação cruzada'], columns = ['resultado'] )\n",
    "dfRRateLossAAC"
   ]
  },
  {
   "cell_type": "code",
   "execution_count": 125,
   "metadata": {},
   "outputs": [
    {
     "name": "stdout",
     "output_type": "stream",
     "text": [
      "                                                    resultado\n",
      "Taxas perdas em acurácia e acurácia por validaç...   0.910282\n"
     ]
    }
   ],
   "source": [
    "print(dfRRateLossAAC)"
   ]
  },
  {
   "cell_type": "markdown",
   "metadata": {},
   "source": [
    "## Gráficos comparativos."
   ]
  },
  {
   "cell_type": "markdown",
   "metadata": {},
   "source": [
    "### Acurácia entre modelos de regressão logística, todos dados, treinado por validação cruzada, treinado com redução de dimensionabilidade."
   ]
  },
  {
   "cell_type": "code",
   "execution_count": 126,
   "metadata": {},
   "outputs": [
    {
     "data": {
      "text/plain": [
       "<matplotlib.axes._subplots.AxesSubplot at 0x15b848d0>"
      ]
     },
     "execution_count": 126,
     "metadata": {},
     "output_type": "execute_result"
    },
    {
     "data": {
      "image/png": "[encoded data removed]",
      "text/plain": [
       "<Figure size 1080x576 with 1 Axes>"
      ]
     },
     "metadata": {},
     "output_type": "display_data"
    }
   ],
   "source": [
    "df = pandas.DataFrame(([Accuracy,accuracy_cross,RAccuracy,Raccuracy_cross],[]), \n",
    "                  index=['Accuracy Score',''],\n",
    "                  columns=pandas.Index(['M1 Regressão Logística','M1 Regressão Logística e valid. cruzada','M2 Reg. Logística Redução de dimensões','M3 Reg. Logística Redução de dimensões e valid. cruzada'], \n",
    "                 name='Valores Maximos')).round(2)\n",
    "df.plot(kind='bar',figsize=(15,8))"
   ]
  },
  {
   "cell_type": "markdown",
   "metadata": {},
   "source": [
    "### Acurácia e área da curva da ROC entre modelos de regressão logística e  regressão logística com redução de dimensionabilidade."
   ]
  },
  {
   "cell_type": "code",
   "execution_count": 127,
   "metadata": {},
   "outputs": [
    {
     "data": {
      "text/plain": [
       "<matplotlib.axes._subplots.AxesSubplot at 0x15b84450>"
      ]
     },
     "execution_count": 127,
     "metadata": {},
     "output_type": "execute_result"
    },
    {
     "data": {
      "image/png": "[encoded data removed]",
      "text/plain": [
       "<Figure size 1080x576 with 1 Axes>"
      ]
     },
     "metadata": {},
     "output_type": "display_data"
    }
   ],
   "source": [
    "df = pandas.DataFrame(([Auc,rAuc,],[Accuracy,RAccuracy],[]), \n",
    "                  index=['AUC','Accuracy',''],\n",
    "                  columns=pandas.Index(['M1 Regressão Logística','M2 Reg. Logística Redução de dimensões'], \n",
    "                 name='Valores Maximos')).round(2)\n",
    "df.plot(kind='bar',figsize=(15,8))"
   ]
  },
  {
   "cell_type": "markdown",
   "metadata": {},
   "source": [
    "# Fim da avaliação do modelo."
   ]
  },
  {
   "cell_type": "markdown",
   "metadata": {},
   "source": [
    "# Salva dados para usar no gráfico consolidado."
   ]
  },
  {
   "cell_type": "code",
   "execution_count": 128,
   "metadata": {},
   "outputs": [],
   "source": [
    "dic_logist={}"
   ]
  },
  {
   "cell_type": "code",
   "execution_count": 129,
   "metadata": {},
   "outputs": [],
   "source": [
    "dic_logist['RAccuracy']=RAccuracy\n",
    "dic_logist['Accuracy']=Accuracy\n",
    "\n",
    "dic_logist['accuracy_cross']=accuracy_cross\n",
    "dic_logist['Raccuracy_cross']=Raccuracy_cross\n",
    "\n",
    "dic_logist['Auc']=Auc\n",
    "dic_logist['rAuc']=rAuc\n",
    "\n",
    "dic_logist['rfpr']=rfpr\n",
    "dic_logist['rtpr']=rtpr\n",
    "\n",
    "\n",
    "dic_logist['fpr']=fpr\n",
    "dic_logist['tpr']=tpr\n",
    "\n",
    "\n",
    "\n",
    "\n",
    "\n",
    "\n",
    "\n",
    "\n",
    "\n"
   ]
  },
  {
   "cell_type": "code",
   "execution_count": 130,
   "metadata": {},
   "outputs": [],
   "source": [
    "#dic_logist"
   ]
  },
  {
   "cell_type": "code",
   "execution_count": 131,
   "metadata": {},
   "outputs": [],
   "source": [
    "import pickle"
   ]
  },
  {
   "cell_type": "code",
   "execution_count": 132,
   "metadata": {},
   "outputs": [],
   "source": [
    "filename = 'regressaologitica.jss'\n",
    "outfile = open(filename,'wb')\n",
    "pickle.dump(dic_logist,outfile)\n",
    "outfile.close()"
   ]
  },
  {
   "cell_type": "code",
   "execution_count": 133,
   "metadata": {},
   "outputs": [],
   "source": [
    "infile = open(filename,'rb')\n",
    "test_dict = pickle.load(infile)\n",
    "infile.close()"
   ]
  },
  {
   "cell_type": "code",
   "execution_count": 134,
   "metadata": {},
   "outputs": [],
   "source": [
    "#print(test_dict)\n"
   ]
  },
  {
   "cell_type": "code",
   "execution_count": 135,
   "metadata": {},
   "outputs": [
    {
     "name": "stdout",
     "output_type": "stream",
     "text": [
      "<class 'dict'>\n"
     ]
    }
   ],
   "source": [
    "print(type(test_dict))"
   ]
  },
  {
   "cell_type": "code",
   "execution_count": null,
   "metadata": {},
   "outputs": [],
   "source": []
  },
  {
   "cell_type": "code",
   "execution_count": null,
   "metadata": {},
   "outputs": [],
   "source": []
  },
  {
   "cell_type": "code",
   "execution_count": null,
   "metadata": {},
   "outputs": [],
   "source": []
  }
 ],
 "metadata": {
  "kernelspec": {
   "display_name": "Python 3",
   "language": "python",
   "name": "python3"
  },
  "language_info": {
   "codemirror_mode": {
    "name": "ipython",
    "version": 3
   },
   "file_extension": ".py",
   "mimetype": "text/x-python",
   "name": "python",
   "nbconvert_exporter": "python",
   "pygments_lexer": "ipython3",
   "version": "3.7.0"
  }
 },
 "nbformat": 4,
 "nbformat_minor": 2
}
