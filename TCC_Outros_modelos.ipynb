{
 "cells": [
  {
   "cell_type": "markdown",
   "metadata": {},
   "source": [
    "# MODELO 3 - Avaliação dos Modelos de marchine learning.\n",
    "\n"
   ]
  },
  {
   "cell_type": "markdown",
   "metadata": {},
   "source": [
    "---\n",
    "\n",
    "---\n",
    "\n",
    "---\n"
   ]
  },
  {
   "cell_type": "code",
   "execution_count": 1,
   "metadata": {},
   "outputs": [],
   "source": [
    "%matplotlib inline"
   ]
  },
  {
   "cell_type": "code",
   "execution_count": 2,
   "metadata": {},
   "outputs": [],
   "source": [
    "# Importa as bibliotecas\n",
    "import pandas\n",
    "import matplotlib.pyplot as plt\n",
    "import numpy \n",
    "#from pandas.tools.plotting import scatter_matrix\n",
    "from  pandas.plotting  import scatter_matrix\n",
    "import seaborn as sb\n",
    "from sklearn.model_selection import train_test_split,cross_val_score\n",
    "from sklearn.preprocessing import Normalizer\n",
    "#Logistic Regression\n",
    "from sklearn.linear_model import LogisticRegression\n",
    "from sklearn.metrics import roc_auc_score , roc_curve, auc ,accuracy_score,recall_score, precision_score,f1_score\n",
    "import statsmodels.api as sm\n",
    "from sklearn.metrics import confusion_matrix\n",
    "# Load libraries\n",
    "import pandas as pd\n",
    "from sklearn.tree import DecisionTreeClassifier # Import Decision Tree Classifier\n",
    "from sklearn import metrics #Import scikit-learn metrics module for accuracy calculation\n"
   ]
  },
  {
   "cell_type": "markdown",
   "metadata": {},
   "source": [
    "#  1) Carregando os dados de treino e teste para avalição do modelo"
   ]
  },
  {
   "cell_type": "code",
   "execution_count": 3,
   "metadata": {},
   "outputs": [],
   "source": [
    "try:\n",
    "    import cPickle as pickle\n",
    "except ModuleNotFoundError:\n",
    "    import pickle"
   ]
  },
  {
   "cell_type": "code",
   "execution_count": 4,
   "metadata": {},
   "outputs": [],
   "source": [
    "output = \".\\\\baseDados\\\\voice_treino_test.pk\""
   ]
  },
  {
   "cell_type": "code",
   "execution_count": 5,
   "metadata": {},
   "outputs": [],
   "source": [
    "dic_base_treino_file = pickle.load(open( output, \"rb\" ))"
   ]
  },
  {
   "cell_type": "code",
   "execution_count": 6,
   "metadata": {},
   "outputs": [
    {
     "name": "stdout",
     "output_type": "stream",
     "text": [
      "Index(['meanfreq', 'sd', 'median', 'Q25', 'Q75', 'IQR', 'skew', 'kurt',\n",
      "       'sp.ent', 'sfm', 'mode', 'centroid', 'meanfun', 'minfun', 'maxfun',\n",
      "       'meandom', 'mindom', 'maxdom', 'dfrange', 'modindx', 'int'],\n",
      "      dtype='object')\n"
     ]
    }
   ],
   "source": [
    "y_train = dic_base_treino_file['y_train'] \n",
    "y_test = dic_base_treino_file['y_test'] \n",
    "X_train = dic_base_treino_file['X_train_norm']  \n",
    "X_test = dic_base_treino_file['X_test_norm']\n",
    "feature_cols =  dic_base_treino_file['feature_cols']\n",
    "\n",
    "print(feature_cols)\n"
   ]
  },
  {
   "cell_type": "code",
   "execution_count": 7,
   "metadata": {},
   "outputs": [
    {
     "name": "stdout",
     "output_type": "stream",
     "text": [
      "genero\n",
      "0    1108\n",
      "1    1108\n",
      "dtype: int64\n"
     ]
    }
   ],
   "source": [
    "dfContador =pandas.DataFrame(list(y_train), columns = ['genero'])\n",
    "contagem = dfContador.groupby('genero').size()\n",
    "print(contagem)"
   ]
  },
  {
   "cell_type": "code",
   "execution_count": 8,
   "metadata": {},
   "outputs": [
    {
     "name": "stdout",
     "output_type": "stream",
     "text": [
      "genero\n",
      "0    476\n",
      "1    476\n",
      "dtype: int64\n"
     ]
    }
   ],
   "source": [
    "dfContador =pandas.DataFrame(list(y_test), columns = ['genero'])\n",
    "contagem = dfContador.groupby('genero').size()\n",
    "print(contagem)"
   ]
  },
  {
   "cell_type": "markdown",
   "metadata": {},
   "source": [
    "---\n",
    "---\n",
    "---\n",
    "---\n",
    "\n",
    "---"
   ]
  },
  {
   "cell_type": "markdown",
   "metadata": {},
   "source": [
    "# 2) carregando o modelo Random Forest"
   ]
  },
  {
   "cell_type": "code",
   "execution_count": 9,
   "metadata": {},
   "outputs": [],
   "source": [
    "from sklearn.ensemble import RandomForestClassifier\n",
    "rf_model = RandomForestClassifier(random_state=1,n_estimators=100,min_impurity_decrease=0.05)\n",
    "\n"
   ]
  },
  {
   "cell_type": "markdown",
   "metadata": {},
   "source": [
    "## Treinamento e teste do modelo:  Random Forest."
   ]
  },
  {
   "cell_type": "code",
   "execution_count": 10,
   "metadata": {},
   "outputs": [
    {
     "data": {
      "text/plain": [
       "RandomForestClassifier(bootstrap=True, class_weight=None, criterion='gini',\n",
       "                       max_depth=None, max_features='auto', max_leaf_nodes=None,\n",
       "                       min_impurity_decrease=0.05, min_impurity_split=None,\n",
       "                       min_samples_leaf=1, min_samples_split=2,\n",
       "                       min_weight_fraction_leaf=0.0, n_estimators=100,\n",
       "                       n_jobs=None, oob_score=False, random_state=1, verbose=0,\n",
       "                       warm_start=False)"
      ]
     },
     "execution_count": 10,
     "metadata": {},
     "output_type": "execute_result"
    }
   ],
   "source": [
    "rf_model.fit(X_train, y_train.ravel())"
   ]
  },
  {
   "cell_type": "code",
   "execution_count": 11,
   "metadata": {},
   "outputs": [],
   "source": [
    "rf_pred=rf_model.predict(X_test)"
   ]
  },
  {
   "cell_type": "markdown",
   "metadata": {},
   "source": [
    "---\n",
    "\n",
    "##  Modelo de avaliação de métricas."
   ]
  },
  {
   "cell_type": "markdown",
   "metadata": {},
   "source": [
    "### Precisão Geral (Accuracy)"
   ]
  },
  {
   "cell_type": "code",
   "execution_count": 12,
   "metadata": {},
   "outputs": [],
   "source": [
    "#get accuracy\n",
    "rf_accuracy_testdata = metrics.accuracy_score(y_test, rf_pred)\n"
   ]
  },
  {
   "cell_type": "code",
   "execution_count": 13,
   "metadata": {},
   "outputs": [
    {
     "name": "stdout",
     "output_type": "stream",
     "text": [
      "Accuracy: 0.8918\n",
      "0.8918067226890757\n"
     ]
    }
   ],
   "source": [
    "#print accuracy\n",
    "print (\"Accuracy: {0:.4f}\".format(rf_accuracy_testdata))\n",
    "RF_Accuracy = metrics.accuracy_score(y_test, rf_pred)\n",
    "print(RF_Accuracy)"
   ]
  },
  {
   "cell_type": "markdown",
   "metadata": {},
   "source": [
    "### Matriz de confusão: Random Forest"
   ]
  },
  {
   "cell_type": "code",
   "execution_count": 14,
   "metadata": {},
   "outputs": [
    {
     "data": {
      "image/png": "[encoded data removed]",
      "text/plain": [
       "<Figure size 720x360 with 2 Axes>"
      ]
     },
     "metadata": {},
     "output_type": "display_data"
    }
   ],
   "source": [
    "import plot as plot\n",
    "cm=confusion_matrix(y_test,rf_pred)\n",
    "#Plot the confusion matrix\n",
    "plt.rcParams['figure.figsize'] = (10,5)\n",
    "sb.set(font_scale=1.5)\n",
    "sb.heatmap(cm, annot=True, fmt='g')\n",
    "plt.show()\n",
    "\n"
   ]
  },
  {
   "cell_type": "markdown",
   "metadata": {},
   "source": [
    "### Metricas Report: Random Forest"
   ]
  },
  {
   "cell_type": "code",
   "execution_count": 15,
   "metadata": {},
   "outputs": [
    {
     "name": "stdout",
     "output_type": "stream",
     "text": [
      "              precision    recall  f1-score   support\n",
      "\n",
      "           0       0.86      0.94      0.90       476\n",
      "           1       0.94      0.84      0.89       476\n",
      "\n",
      "    accuracy                           0.89       952\n",
      "   macro avg       0.90      0.89      0.89       952\n",
      "weighted avg       0.90      0.89      0.89       952\n",
      "\n"
     ]
    }
   ],
   "source": [
    "print (\"{0}\".format(metrics.classification_report(y_test, rf_pred, labels=[0, 1])))\n"
   ]
  },
  {
   "cell_type": "code",
   "execution_count": 16,
   "metadata": {},
   "outputs": [],
   "source": [
    "cm=confusion_matrix(y_test,rf_pred)\n",
    "confusion_matrix_lda = pandas.DataFrame(cm, index = ['Negativos','Positivos'], columns = ['Previsão dos negativos','Previsão dos positivos'] )\n",
    "confusion_matrix_lda['Total'] = 1\n",
    "confusion_matrix_lda['Total'][0] = cm[0][0] + cm[0][1]\n",
    "confusion_matrix_lda['Total'][1] = cm[1][0] + cm[1][1]"
   ]
  },
  {
   "cell_type": "code",
   "execution_count": 17,
   "metadata": {},
   "outputs": [
    {
     "data": {
      "text/html": [
       "<div>\n",
       "<style scoped>\n",
       "    .dataframe tbody tr th:only-of-type {\n",
       "        vertical-align: middle;\n",
       "    }\n",
       "\n",
       "    .dataframe tbody tr th {\n",
       "        vertical-align: top;\n",
       "    }\n",
       "\n",
       "    .dataframe thead th {\n",
       "        text-align: right;\n",
       "    }\n",
       "</style>\n",
       "<table border=\"1\" class=\"dataframe\">\n",
       "  <thead>\n",
       "    <tr style=\"text-align: right;\">\n",
       "      <th></th>\n",
       "      <th>Previsão dos negativos</th>\n",
       "      <th>Previsão dos positivos</th>\n",
       "      <th>Total</th>\n",
       "    </tr>\n",
       "  </thead>\n",
       "  <tbody>\n",
       "    <tr>\n",
       "      <td>Negativos</td>\n",
       "      <td>449</td>\n",
       "      <td>27</td>\n",
       "      <td>476</td>\n",
       "    </tr>\n",
       "    <tr>\n",
       "      <td>Positivos</td>\n",
       "      <td>76</td>\n",
       "      <td>400</td>\n",
       "      <td>476</td>\n",
       "    </tr>\n",
       "  </tbody>\n",
       "</table>\n",
       "</div>"
      ],
      "text/plain": [
       "           Previsão dos negativos  Previsão dos positivos  Total\n",
       "Negativos                     449                      27    476\n",
       "Positivos                      76                     400    476"
      ]
     },
     "execution_count": 17,
     "metadata": {},
     "output_type": "execute_result"
    }
   ],
   "source": [
    "confusion_matrix_lda"
   ]
  },
  {
   "cell_type": "code",
   "execution_count": 18,
   "metadata": {},
   "outputs": [
    {
     "name": "stdout",
     "output_type": "stream",
     "text": [
      "           Previsão dos negativos  Previsão dos positivos  Total\n",
      "Negativos                     449                      27    476\n",
      "Positivos                      76                     400    476\n"
     ]
    }
   ],
   "source": [
    "print(confusion_matrix_lda)"
   ]
  },
  {
   "cell_type": "code",
   "execution_count": 19,
   "metadata": {},
   "outputs": [],
   "source": [
    "TP = confusion_matrix_lda['Previsão dos positivos'][1]\n",
    "dfTP = pandas.DataFrame(TP, index = ['Positivos verdadeiros'], columns = ['Quantidade acertos'] )"
   ]
  },
  {
   "cell_type": "code",
   "execution_count": 20,
   "metadata": {},
   "outputs": [],
   "source": [
    "TN = confusion_matrix_lda['Previsão dos negativos'][0]\n",
    "dfTN = pandas.DataFrame(TN, index = ['Verdadeiro Negativo'], columns = ['Quantidade acertos'] )"
   ]
  },
  {
   "cell_type": "code",
   "execution_count": 21,
   "metadata": {},
   "outputs": [],
   "source": [
    "FP = confusion_matrix_lda['Previsão dos positivos'][0]\n",
    "dfFP = pandas.DataFrame(FP, index = ['Falso Positivo'], columns = ['Quantidade acertos'] )"
   ]
  },
  {
   "cell_type": "code",
   "execution_count": 22,
   "metadata": {},
   "outputs": [],
   "source": [
    "FN = confusion_matrix_lda['Previsão dos negativos'][1]\n",
    "dfFN = pandas.DataFrame(FN, index = ['Negativos Falsos'], columns = ['Quantidade acertos'] )"
   ]
  },
  {
   "cell_type": "code",
   "execution_count": 23,
   "metadata": {},
   "outputs": [],
   "source": [
    "rfSpecificity = TN / float(TN + FP)\n",
    "dfSpecificity = pandas.DataFrame(rfSpecificity, index = ['Specificity'], columns = ['resultado'] )"
   ]
  },
  {
   "cell_type": "code",
   "execution_count": 24,
   "metadata": {},
   "outputs": [
    {
     "data": {
      "text/html": [
       "<div>\n",
       "<style scoped>\n",
       "    .dataframe tbody tr th:only-of-type {\n",
       "        vertical-align: middle;\n",
       "    }\n",
       "\n",
       "    .dataframe tbody tr th {\n",
       "        vertical-align: top;\n",
       "    }\n",
       "\n",
       "    .dataframe thead th {\n",
       "        text-align: right;\n",
       "    }\n",
       "</style>\n",
       "<table border=\"1\" class=\"dataframe\">\n",
       "  <thead>\n",
       "    <tr style=\"text-align: right;\">\n",
       "      <th></th>\n",
       "      <th>resultado</th>\n",
       "    </tr>\n",
       "  </thead>\n",
       "  <tbody>\n",
       "    <tr>\n",
       "      <td>Specificity</td>\n",
       "      <td>0.943277</td>\n",
       "    </tr>\n",
       "  </tbody>\n",
       "</table>\n",
       "</div>"
      ],
      "text/plain": [
       "             resultado\n",
       "Specificity   0.943277"
      ]
     },
     "execution_count": 24,
     "metadata": {},
     "output_type": "execute_result"
    }
   ],
   "source": [
    "dfSpecificity"
   ]
  },
  {
   "cell_type": "code",
   "execution_count": 25,
   "metadata": {},
   "outputs": [
    {
     "name": "stdout",
     "output_type": "stream",
     "text": [
      "0.8403361344537815\n"
     ]
    }
   ],
   "source": [
    "rfRecall= recall_score(y_test, rf_pred)\n",
    "print(rfRecall)"
   ]
  },
  {
   "cell_type": "code",
   "execution_count": 26,
   "metadata": {},
   "outputs": [
    {
     "name": "stdout",
     "output_type": "stream",
     "text": [
      "0.936768149882904\n",
      "0.936768149882904\n"
     ]
    }
   ],
   "source": [
    "print(TP / float(TP + FP))\n",
    "print(precision_score(y_test, rf_pred))\n",
    "rfPrecision = precision_score(y_test, rf_pred)"
   ]
  },
  {
   "cell_type": "code",
   "execution_count": 27,
   "metadata": {},
   "outputs": [
    {
     "name": "stdout",
     "output_type": "stream",
     "text": [
      "0.8859357696566998\n"
     ]
    }
   ],
   "source": [
    "rfF1Score = 2 * rfPrecision *  rfRecall /  float(rfPrecision + rfRecall)\n",
    "print(rfF1Score)\n"
   ]
  },
  {
   "cell_type": "code",
   "execution_count": null,
   "metadata": {},
   "outputs": [],
   "source": []
  },
  {
   "cell_type": "code",
   "execution_count": null,
   "metadata": {},
   "outputs": [],
   "source": []
  },
  {
   "cell_type": "markdown",
   "metadata": {},
   "source": [
    "---\n",
    "###  Curva ROC: Random Forest\n",
    "Uma curva ROC é uma forma comumente usada para visualizar o desempenho de um classificador binário, significando um classificador com duas classes de saída possíveis. A curva plota a Taxa Positiva Real (Recall) contra a Taxa Falsa Positiva (também interpretada como Especificidade 1)."
   ]
  },
  {
   "cell_type": "code",
   "execution_count": 28,
   "metadata": {},
   "outputs": [],
   "source": [
    "rf_pred_prob = rf_model.predict_proba(X_test)[:, 1]"
   ]
  },
  {
   "cell_type": "code",
   "execution_count": 29,
   "metadata": {},
   "outputs": [],
   "source": [
    "rf_fpr, rf_tpr, thresholds = roc_curve(y_test, rf_pred_prob)"
   ]
  },
  {
   "cell_type": "code",
   "execution_count": 30,
   "metadata": {},
   "outputs": [],
   "source": [
    "def plot_roc_curve(fpr, tpr,nome='ROC'):\n",
    "    plt.plot(fpr, tpr, color='red', label=nome)\n",
    "    plt.plot([0, 1], [0, 1], color='darkblue', linestyle='--')\n",
    "    plt.xlabel('Taxa de falsos positivos')\n",
    "    plt.ylabel('Taxa de verdadeiros positivos')\n",
    "    plt.title('Curva ROC:Receiver Operating Characteristic (ROC) Curve')\n",
    "    plt.legend()\n",
    "    plt.show()"
   ]
  },
  {
   "cell_type": "code",
   "execution_count": 31,
   "metadata": {},
   "outputs": [
    {
     "data": {
      "image/png": "[encoded data removed]",
      "text/plain": [
       "<Figure size 720x360 with 1 Axes>"
      ]
     },
     "metadata": {},
     "output_type": "display_data"
    }
   ],
   "source": [
    "plot_roc_curve(rf_fpr, rf_tpr,'Random Forest')"
   ]
  },
  {
   "cell_type": "markdown",
   "metadata": {},
   "source": [
    "---\n",
    "\n",
    "###  AUC (área sob a curva) da Curva ROC : Random Forest\n",
    "AUC ou Area Under the Curve é a porcentagem do gráfico do ROC que está abaixo da curva. AUC é útil como um único número de resumo do desempenho do classificador."
   ]
  },
  {
   "cell_type": "code",
   "execution_count": 32,
   "metadata": {},
   "outputs": [
    {
     "name": "stdout",
     "output_type": "stream",
     "text": [
      "0.9785767248075701\n"
     ]
    }
   ],
   "source": [
    "print(roc_auc_score(y_test, rf_pred_prob))\n",
    "RF_Auc=roc_auc_score(y_test, rf_pred_prob)"
   ]
  },
  {
   "cell_type": "code",
   "execution_count": 33,
   "metadata": {},
   "outputs": [
    {
     "data": {
      "text/html": [
       "<div>\n",
       "<style scoped>\n",
       "    .dataframe tbody tr th:only-of-type {\n",
       "        vertical-align: middle;\n",
       "    }\n",
       "\n",
       "    .dataframe tbody tr th {\n",
       "        vertical-align: top;\n",
       "    }\n",
       "\n",
       "    .dataframe thead th {\n",
       "        text-align: right;\n",
       "    }\n",
       "</style>\n",
       "<table border=\"1\" class=\"dataframe\">\n",
       "  <thead>\n",
       "    <tr style=\"text-align: right;\">\n",
       "      <th></th>\n",
       "      <th>resultado</th>\n",
       "    </tr>\n",
       "  </thead>\n",
       "  <tbody>\n",
       "    <tr>\n",
       "      <td>AUC</td>\n",
       "      <td>0.978577</td>\n",
       "    </tr>\n",
       "  </tbody>\n",
       "</table>\n",
       "</div>"
      ],
      "text/plain": [
       "     resultado\n",
       "AUC   0.978577"
      ]
     },
     "execution_count": 33,
     "metadata": {},
     "output_type": "execute_result"
    }
   ],
   "source": [
    "dfAuc = pandas.DataFrame(RF_Auc, index = ['AUC'], columns = ['resultado'] )\n",
    "dfAuc"
   ]
  },
  {
   "cell_type": "code",
   "execution_count": 34,
   "metadata": {},
   "outputs": [
    {
     "name": "stdout",
     "output_type": "stream",
     "text": [
      "     resultado\n",
      "AUC   0.978577\n"
     ]
    }
   ],
   "source": [
    "print(dfAuc)"
   ]
  },
  {
   "cell_type": "markdown",
   "metadata": {},
   "source": [
    "---\n",
    "---\n",
    "---\n",
    "---\n",
    "---"
   ]
  },
  {
   "cell_type": "markdown",
   "metadata": {},
   "source": [
    "# Carregando o modelo  Máquina de vetores de suporte SVM"
   ]
  },
  {
   "cell_type": "code",
   "execution_count": 35,
   "metadata": {},
   "outputs": [],
   "source": [
    "from sklearn.svm import SVC\n",
    "svm_model = SVC(kernel='linear', C=45, random_state=2 ,probability=True,coef0=0.3)\n",
    "\n",
    "#kernel='linear'"
   ]
  },
  {
   "cell_type": "markdown",
   "metadata": {},
   "source": [
    "### Treinamento e teste do modelo: SVM."
   ]
  },
  {
   "cell_type": "code",
   "execution_count": 36,
   "metadata": {},
   "outputs": [
    {
     "data": {
      "text/plain": [
       "SVC(C=45, cache_size=200, class_weight=None, coef0=0.3,\n",
       "    decision_function_shape='ovr', degree=3, gamma='auto_deprecated',\n",
       "    kernel='linear', max_iter=-1, probability=True, random_state=2,\n",
       "    shrinking=True, tol=0.001, verbose=False)"
      ]
     },
     "execution_count": 36,
     "metadata": {},
     "output_type": "execute_result"
    }
   ],
   "source": [
    "\n",
    "svm_model.fit(X_train, y_train)\n"
   ]
  },
  {
   "cell_type": "code",
   "execution_count": 37,
   "metadata": {},
   "outputs": [],
   "source": [
    "svm_pred = svm_model.predict(X_train)\n"
   ]
  },
  {
   "cell_type": "markdown",
   "metadata": {},
   "source": [
    "---\n",
    "\n",
    "##  Modelo de avaliação de métricas."
   ]
  },
  {
   "cell_type": "markdown",
   "metadata": {},
   "source": [
    "### Precisão Geral (Accuracy): SVM"
   ]
  },
  {
   "cell_type": "code",
   "execution_count": 38,
   "metadata": {},
   "outputs": [
    {
     "name": "stdout",
     "output_type": "stream",
     "text": [
      "accuracy score: 0.9887\n",
      "\n"
     ]
    }
   ],
   "source": [
    "print(f\"accuracy score: {accuracy_score(y_train, svm_pred):.4f}\\n\")\n",
    "svm_accuracy_testdata = accuracy_score(y_train, svm_pred)"
   ]
  },
  {
   "cell_type": "markdown",
   "metadata": {},
   "source": [
    "### Matriz de confusão: SVM"
   ]
  },
  {
   "cell_type": "code",
   "execution_count": 39,
   "metadata": {},
   "outputs": [],
   "source": [
    "cm=confusion_matrix(y_train, svm_model.predict(X_train))"
   ]
  },
  {
   "cell_type": "code",
   "execution_count": 40,
   "metadata": {},
   "outputs": [],
   "source": [
    "confusion_matrix_lda = pandas.DataFrame(cm, index = ['Negativos','Positivos'], columns = ['Previsão dos negativos','Previsão dos positivos'] )\n",
    "confusion_matrix_lda['Total'] = 1\n",
    "confusion_matrix_lda['Total'][0] = cm[0][0] + cm[0][1]\n",
    "confusion_matrix_lda['Total'][1] = cm[1][0] + cm[1][1]"
   ]
  },
  {
   "cell_type": "code",
   "execution_count": 41,
   "metadata": {},
   "outputs": [
    {
     "data": {
      "text/html": [
       "<div>\n",
       "<style scoped>\n",
       "    .dataframe tbody tr th:only-of-type {\n",
       "        vertical-align: middle;\n",
       "    }\n",
       "\n",
       "    .dataframe tbody tr th {\n",
       "        vertical-align: top;\n",
       "    }\n",
       "\n",
       "    .dataframe thead th {\n",
       "        text-align: right;\n",
       "    }\n",
       "</style>\n",
       "<table border=\"1\" class=\"dataframe\">\n",
       "  <thead>\n",
       "    <tr style=\"text-align: right;\">\n",
       "      <th></th>\n",
       "      <th>Previsão dos negativos</th>\n",
       "      <th>Previsão dos positivos</th>\n",
       "      <th>Total</th>\n",
       "    </tr>\n",
       "  </thead>\n",
       "  <tbody>\n",
       "    <tr>\n",
       "      <td>Negativos</td>\n",
       "      <td>1105</td>\n",
       "      <td>3</td>\n",
       "      <td>1108</td>\n",
       "    </tr>\n",
       "    <tr>\n",
       "      <td>Positivos</td>\n",
       "      <td>22</td>\n",
       "      <td>1086</td>\n",
       "      <td>1108</td>\n",
       "    </tr>\n",
       "  </tbody>\n",
       "</table>\n",
       "</div>"
      ],
      "text/plain": [
       "           Previsão dos negativos  Previsão dos positivos  Total\n",
       "Negativos                    1105                       3   1108\n",
       "Positivos                      22                    1086   1108"
      ]
     },
     "execution_count": 41,
     "metadata": {},
     "output_type": "execute_result"
    }
   ],
   "source": [
    "confusion_matrix_lda"
   ]
  },
  {
   "cell_type": "code",
   "execution_count": 42,
   "metadata": {},
   "outputs": [
    {
     "data": {
      "text/plain": [
       "1086"
      ]
     },
     "execution_count": 42,
     "metadata": {},
     "output_type": "execute_result"
    }
   ],
   "source": [
    "TP = confusion_matrix_lda['Previsão dos positivos'][1]\n",
    "dfTP = pandas.DataFrame(TP, index = ['Positivos verdadeiros'], columns = ['Quantidade acertos'] )\n",
    "TP"
   ]
  },
  {
   "cell_type": "code",
   "execution_count": 43,
   "metadata": {},
   "outputs": [
    {
     "data": {
      "text/plain": [
       "1105"
      ]
     },
     "execution_count": 43,
     "metadata": {},
     "output_type": "execute_result"
    }
   ],
   "source": [
    "TN = confusion_matrix_lda['Previsão dos negativos'][0]\n",
    "dfTN = pandas.DataFrame(TN, index = ['Verdadeiro Negativo'], columns = ['Quantidade acertos'] )\n",
    "TN"
   ]
  },
  {
   "cell_type": "code",
   "execution_count": 44,
   "metadata": {},
   "outputs": [
    {
     "data": {
      "text/plain": [
       "3"
      ]
     },
     "execution_count": 44,
     "metadata": {},
     "output_type": "execute_result"
    }
   ],
   "source": [
    "FP = confusion_matrix_lda['Previsão dos positivos'][0]\n",
    "dfFP = pandas.DataFrame(FP, index = ['Falso Positivo'], columns = ['Quantidade acertos'] )\n",
    "FP"
   ]
  },
  {
   "cell_type": "code",
   "execution_count": 45,
   "metadata": {},
   "outputs": [
    {
     "data": {
      "text/plain": [
       "22"
      ]
     },
     "execution_count": 45,
     "metadata": {},
     "output_type": "execute_result"
    }
   ],
   "source": [
    "FN = confusion_matrix_lda['Previsão dos negativos'][1]\n",
    "dfFN = pandas.DataFrame(FN, index = ['Negativos Falsos'], columns = ['Quantidade acertos'] )\n",
    "FN"
   ]
  },
  {
   "cell_type": "code",
   "execution_count": 46,
   "metadata": {},
   "outputs": [
    {
     "name": "stdout",
     "output_type": "stream",
     "text": [
      "accuracy score: 0.9887\n",
      "\n"
     ]
    }
   ],
   "source": [
    "print(f\"accuracy score: {accuracy_score(y_train, svm_pred):.4f}\\n\")\n",
    "svmAccuracy = accuracy_score(y_train, svm_pred)"
   ]
  },
  {
   "cell_type": "code",
   "execution_count": 47,
   "metadata": {},
   "outputs": [
    {
     "data": {
      "image/png": "[encoded data removed]",
      "text/plain": [
       "<Figure size 720x360 with 2 Axes>"
      ]
     },
     "metadata": {},
     "output_type": "display_data"
    }
   ],
   "source": [
    "import plot as plot\n",
    "cm=confusion_matrix(y_train, svm_model.predict(X_train))\n",
    "#Plot the confusion matrix\n",
    "plt.rcParams['figure.figsize'] = (10,5)\n",
    "sb.set(font_scale=1.5)\n",
    "sb.heatmap(cm, annot=True, fmt='g')\n",
    "plt.show()"
   ]
  },
  {
   "cell_type": "markdown",
   "metadata": {},
   "source": [
    "### Metricas Report: svm"
   ]
  },
  {
   "cell_type": "code",
   "execution_count": 48,
   "metadata": {},
   "outputs": [
    {
     "name": "stdout",
     "output_type": "stream",
     "text": [
      "Classification Report: \n",
      " \tPrecision: 0.9972451790633609\n",
      "\tRecall Score: 0.98014440433213\n",
      "\tF1 score: 0.9886208466090123\n",
      "\n"
     ]
    }
   ],
   "source": [
    "print(f\"Classification Report: \\n \\tPrecision: {precision_score(y_train, svm_pred)}\\n\\tRecall Score: {recall_score(y_train,svm_pred)}\\n\\tF1 score: {f1_score(y_train, svm_pred)}\\n\")\n"
   ]
  },
  {
   "cell_type": "code",
   "execution_count": 49,
   "metadata": {},
   "outputs": [],
   "source": [
    "svmPrecision = precision_score(y_train, svm_pred)"
   ]
  },
  {
   "cell_type": "code",
   "execution_count": 50,
   "metadata": {},
   "outputs": [],
   "source": [
    "svmRecall = recall_score(y_train, svm_pred)"
   ]
  },
  {
   "cell_type": "code",
   "execution_count": 51,
   "metadata": {},
   "outputs": [],
   "source": [
    "svmF1_score = f1_score(y_train, svm_pred)"
   ]
  },
  {
   "cell_type": "code",
   "execution_count": 52,
   "metadata": {},
   "outputs": [
    {
     "data": {
      "text/plain": [
       "0.9972924187725631"
      ]
     },
     "execution_count": 52,
     "metadata": {},
     "output_type": "execute_result"
    }
   ],
   "source": [
    "svmSpecificity = TN / float(TN + FP)\n",
    "dfSpecificity = pandas.DataFrame(svmSpecificity, index = ['Specificity'], columns = ['resultado'] )\n",
    "svmSpecificity"
   ]
  },
  {
   "cell_type": "markdown",
   "metadata": {},
   "source": [
    "---\n",
    "###  Curva ROC: SVM\n"
   ]
  },
  {
   "cell_type": "code",
   "execution_count": 53,
   "metadata": {},
   "outputs": [],
   "source": [
    "svm_pred_prob = svm_model.predict_proba(X_test)[:, 1]\n"
   ]
  },
  {
   "cell_type": "code",
   "execution_count": 54,
   "metadata": {},
   "outputs": [],
   "source": [
    "svm_fpr, svm_tpr, thresholds = roc_curve(y_test, svm_pred_prob)"
   ]
  },
  {
   "cell_type": "code",
   "execution_count": 55,
   "metadata": {},
   "outputs": [
    {
     "data": {
      "image/png": "[encoded data removed]",
      "text/plain": [
       "<Figure size 720x360 with 1 Axes>"
      ]
     },
     "metadata": {},
     "output_type": "display_data"
    }
   ],
   "source": [
    "plot_roc_curve(svm_fpr, svm_tpr,'SVM')"
   ]
  },
  {
   "cell_type": "markdown",
   "metadata": {},
   "source": [
    "---\n",
    "\n",
    "###  AUC (área sob a curva) da Curva ROC : SVM\n",
    "AUC ou Area Under the Curve é a porcentagem do gráfico do ROC que está abaixo da curva. AUC é útil como um único número de resumo do desempenho do classificador."
   ]
  },
  {
   "cell_type": "code",
   "execution_count": 56,
   "metadata": {},
   "outputs": [
    {
     "name": "stdout",
     "output_type": "stream",
     "text": [
      "0.9981772120612952\n"
     ]
    }
   ],
   "source": [
    "print(roc_auc_score(y_test, svm_pred_prob))\n",
    "SVM_Auc=roc_auc_score(y_test, svm_pred_prob)"
   ]
  },
  {
   "cell_type": "markdown",
   "metadata": {},
   "source": [
    "---\n",
    "---\n",
    "---\n",
    "---\n",
    "---"
   ]
  },
  {
   "cell_type": "markdown",
   "metadata": {},
   "source": [
    "# Carregando o modelo  Máquina de Naive Bayes"
   ]
  },
  {
   "cell_type": "code",
   "execution_count": 57,
   "metadata": {},
   "outputs": [],
   "source": [
    "from sklearn.naive_bayes import GaussianNB\n",
    "nb_model = GaussianNB()\n",
    "\n"
   ]
  },
  {
   "cell_type": "markdown",
   "metadata": {},
   "source": [
    "### Treinamento e teste do modelo: NB."
   ]
  },
  {
   "cell_type": "code",
   "execution_count": 58,
   "metadata": {},
   "outputs": [
    {
     "data": {
      "text/plain": [
       "GaussianNB(priors=None, var_smoothing=1e-09)"
      ]
     },
     "execution_count": 58,
     "metadata": {},
     "output_type": "execute_result"
    }
   ],
   "source": [
    "nb_model.fit(X_train, y_train)"
   ]
  },
  {
   "cell_type": "code",
   "execution_count": 59,
   "metadata": {},
   "outputs": [],
   "source": [
    "nb_pred = nb_model.predict(X_train)"
   ]
  },
  {
   "cell_type": "markdown",
   "metadata": {},
   "source": [
    "##  Modelo de avaliação de métricas. NB."
   ]
  },
  {
   "cell_type": "markdown",
   "metadata": {},
   "source": [
    "### Precisão Geral (Accuracy): NB."
   ]
  },
  {
   "cell_type": "code",
   "execution_count": 60,
   "metadata": {},
   "outputs": [
    {
     "name": "stdout",
     "output_type": "stream",
     "text": [
      "accuracy score: 0.9057\n",
      "\n"
     ]
    }
   ],
   "source": [
    "#get accuracy\n",
    "print(f\"accuracy score: {accuracy_score(y_train, nb_pred):.4f}\\n\")\n",
    "nb_accuracy_testdata = accuracy_score(y_train, nb_pred)"
   ]
  },
  {
   "cell_type": "markdown",
   "metadata": {},
   "source": [
    "### Matriz de confusão: NB."
   ]
  },
  {
   "cell_type": "code",
   "execution_count": 61,
   "metadata": {},
   "outputs": [
    {
     "data": {
      "text/html": [
       "<div>\n",
       "<style scoped>\n",
       "    .dataframe tbody tr th:only-of-type {\n",
       "        vertical-align: middle;\n",
       "    }\n",
       "\n",
       "    .dataframe tbody tr th {\n",
       "        vertical-align: top;\n",
       "    }\n",
       "\n",
       "    .dataframe thead th {\n",
       "        text-align: right;\n",
       "    }\n",
       "</style>\n",
       "<table border=\"1\" class=\"dataframe\">\n",
       "  <thead>\n",
       "    <tr style=\"text-align: right;\">\n",
       "      <th></th>\n",
       "      <th>Previsão dos negativos</th>\n",
       "      <th>Previsão dos positivos</th>\n",
       "      <th>Total</th>\n",
       "    </tr>\n",
       "  </thead>\n",
       "  <tbody>\n",
       "    <tr>\n",
       "      <td>Negativos</td>\n",
       "      <td>1011</td>\n",
       "      <td>97</td>\n",
       "      <td>1108</td>\n",
       "    </tr>\n",
       "    <tr>\n",
       "      <td>Positivos</td>\n",
       "      <td>112</td>\n",
       "      <td>996</td>\n",
       "      <td>1108</td>\n",
       "    </tr>\n",
       "  </tbody>\n",
       "</table>\n",
       "</div>"
      ],
      "text/plain": [
       "           Previsão dos negativos  Previsão dos positivos  Total\n",
       "Negativos                    1011                      97   1108\n",
       "Positivos                     112                     996   1108"
      ]
     },
     "execution_count": 61,
     "metadata": {},
     "output_type": "execute_result"
    }
   ],
   "source": [
    "cm=confusion_matrix(y_train, nb_model.predict(X_train))\n",
    "confusion_matrix_lda = pandas.DataFrame(cm, index = ['Negativos','Positivos'], columns = ['Previsão dos negativos','Previsão dos positivos'] )\n",
    "confusion_matrix_lda['Total'] = 1\n",
    "confusion_matrix_lda['Total'][0] = cm[0][0] + cm[0][1]\n",
    "confusion_matrix_lda['Total'][1] = cm[1][0] + cm[1][1]\n",
    "confusion_matrix_lda"
   ]
  },
  {
   "cell_type": "code",
   "execution_count": 62,
   "metadata": {},
   "outputs": [
    {
     "data": {
      "image/png": "[encoded data removed]",
      "text/plain": [
       "<Figure size 720x360 with 2 Axes>"
      ]
     },
     "metadata": {},
     "output_type": "display_data"
    }
   ],
   "source": [
    "import plot as plot\n",
    "cm=confusion_matrix(y_train, nb_model.predict(X_train))\n",
    "#Plot the confusion matrix\n",
    "plt.rcParams['figure.figsize'] = (10,5)\n",
    "sb.set(font_scale=1.5)\n",
    "sb.heatmap(cm, annot=True, fmt='g')\n",
    "plt.show()"
   ]
  },
  {
   "cell_type": "markdown",
   "metadata": {},
   "source": [
    "### Metricas Report: NB."
   ]
  },
  {
   "cell_type": "code",
   "execution_count": 63,
   "metadata": {},
   "outputs": [
    {
     "name": "stdout",
     "output_type": "stream",
     "text": [
      "Classification Report: \n",
      " \tPrecision: 0.9112534309240622\n",
      "\tRecall Score: 0.8989169675090253\n",
      "\tF1 score: 0.9050431621990005\n",
      "\n"
     ]
    }
   ],
   "source": [
    "print(f\"Classification Report: \\n \\tPrecision: {precision_score(y_train, nb_pred)}\\n\\tRecall Score: {recall_score(y_train,nb_pred)}\\n\\tF1 score: {f1_score(y_train, nb_pred)}\\n\")\n"
   ]
  },
  {
   "cell_type": "code",
   "execution_count": 64,
   "metadata": {},
   "outputs": [
    {
     "data": {
      "text/plain": [
       "996"
      ]
     },
     "execution_count": 64,
     "metadata": {},
     "output_type": "execute_result"
    }
   ],
   "source": [
    "TP = confusion_matrix_lda['Previsão dos positivos'][1]\n",
    "dfTP = pandas.DataFrame(TP, index = ['Positivos verdadeiros'], columns = ['Quantidade acertos'] )\n",
    "TP"
   ]
  },
  {
   "cell_type": "code",
   "execution_count": 65,
   "metadata": {},
   "outputs": [
    {
     "data": {
      "text/plain": [
       "1011"
      ]
     },
     "execution_count": 65,
     "metadata": {},
     "output_type": "execute_result"
    }
   ],
   "source": [
    "TN = confusion_matrix_lda['Previsão dos negativos'][0]\n",
    "dfTN = pandas.DataFrame(TN, index = ['Verdadeiro Negativo'], columns = ['Quantidade acertos'] )\n",
    "TN"
   ]
  },
  {
   "cell_type": "code",
   "execution_count": 66,
   "metadata": {},
   "outputs": [
    {
     "data": {
      "text/plain": [
       "97"
      ]
     },
     "execution_count": 66,
     "metadata": {},
     "output_type": "execute_result"
    }
   ],
   "source": [
    "FP = confusion_matrix_lda['Previsão dos positivos'][0]\n",
    "dfFP = pandas.DataFrame(FP, index = ['Falso Positivo'], columns = ['Quantidade acertos'] )\n",
    "FP"
   ]
  },
  {
   "cell_type": "code",
   "execution_count": 67,
   "metadata": {},
   "outputs": [
    {
     "data": {
      "text/plain": [
       "112"
      ]
     },
     "execution_count": 67,
     "metadata": {},
     "output_type": "execute_result"
    }
   ],
   "source": [
    "FN = confusion_matrix_lda['Previsão dos negativos'][1]\n",
    "dfFN = pandas.DataFrame(FN, index = ['Negativos Falsos'], columns = ['Quantidade acertos'] )\n",
    "FN"
   ]
  },
  {
   "cell_type": "code",
   "execution_count": 68,
   "metadata": {},
   "outputs": [
    {
     "name": "stdout",
     "output_type": "stream",
     "text": [
      "accuracy score: 0.9057\n",
      "\n"
     ]
    }
   ],
   "source": [
    "print(f\"accuracy score: {accuracy_score(y_train, nb_pred):.4f}\\n\")\n",
    "nbAccuracy = accuracy_score(y_train, nb_pred)"
   ]
  },
  {
   "cell_type": "code",
   "execution_count": 69,
   "metadata": {},
   "outputs": [],
   "source": [
    "nbPrecision = precision_score(y_train, nb_pred)"
   ]
  },
  {
   "cell_type": "code",
   "execution_count": 70,
   "metadata": {},
   "outputs": [],
   "source": [
    "nbRecall = recall_score(y_train, nb_pred)"
   ]
  },
  {
   "cell_type": "code",
   "execution_count": 71,
   "metadata": {},
   "outputs": [],
   "source": [
    "nbF1_score = f1_score(y_train, nb_pred)"
   ]
  },
  {
   "cell_type": "code",
   "execution_count": 72,
   "metadata": {},
   "outputs": [
    {
     "data": {
      "text/plain": [
       "0.9124548736462094"
      ]
     },
     "execution_count": 72,
     "metadata": {},
     "output_type": "execute_result"
    }
   ],
   "source": [
    "nbSpecificity = TN / float(TN + FP)\n",
    "dfSpecificity = pandas.DataFrame(nbSpecificity, index = ['Specificity'], columns = ['resultado'] )\n",
    "nbSpecificity"
   ]
  },
  {
   "cell_type": "markdown",
   "metadata": {},
   "source": [
    "---\n",
    "###  Curva ROC: NB."
   ]
  },
  {
   "cell_type": "code",
   "execution_count": 73,
   "metadata": {},
   "outputs": [],
   "source": [
    "nb_pred_prob = nb_model.predict_proba(X_test)[:, 1]"
   ]
  },
  {
   "cell_type": "code",
   "execution_count": 74,
   "metadata": {},
   "outputs": [],
   "source": [
    "nb_fpr, nb_tpr, thresholds = roc_curve(y_test, nb_pred_prob)"
   ]
  },
  {
   "cell_type": "code",
   "execution_count": 75,
   "metadata": {},
   "outputs": [
    {
     "data": {
      "image/png": "[encoded data removed]",
      "text/plain": [
       "<Figure size 720x360 with 1 Axes>"
      ]
     },
     "metadata": {},
     "output_type": "display_data"
    }
   ],
   "source": [
    "plot_roc_curve(nb_fpr, nb_tpr,'Naive Bayes')"
   ]
  },
  {
   "cell_type": "markdown",
   "metadata": {},
   "source": [
    "###  AUC (área sob a curva) da Curva ROC : NB."
   ]
  },
  {
   "cell_type": "code",
   "execution_count": 76,
   "metadata": {},
   "outputs": [
    {
     "name": "stdout",
     "output_type": "stream",
     "text": [
      "0.9599516277099075\n"
     ]
    }
   ],
   "source": [
    "print(roc_auc_score(y_test, nb_pred_prob))\n",
    "NB_Auc=roc_auc_score(y_test, nb_pred_prob)"
   ]
  },
  {
   "cell_type": "markdown",
   "metadata": {},
   "source": [
    "---\n",
    "---\n",
    "---\n",
    "---\n",
    "---\n",
    "---\n",
    "---"
   ]
  },
  {
   "cell_type": "markdown",
   "metadata": {},
   "source": [
    "# Comparativo entre os modelos"
   ]
  },
  {
   "cell_type": "code",
   "execution_count": 77,
   "metadata": {},
   "outputs": [],
   "source": [
    "import matplotlib.pyplot as plt\n",
    "from sklearn.metrics import roc_curve, auc\n",
    "import seaborn as sns\n",
    "#sns.set('talk', 'whitegrid', 'dark', font_scale=1.5, font='Ricty',   rc={\"lines.linewidth\": 2, 'grid.linestyle': '--'})\n",
    "\n"
   ]
  },
  {
   "cell_type": "markdown",
   "metadata": {},
   "source": [
    "### Carregar  o modelo de Árvore Decisão\n"
   ]
  },
  {
   "cell_type": "code",
   "execution_count": 78,
   "metadata": {},
   "outputs": [],
   "source": [
    "filename = '.\\\\baseDados\\\\cart.jss'\n",
    "infile = open(filename,'rb')\n",
    "cart_dict = pickle.load(infile)\n",
    "infile.close()\n",
    "CART_auc= cart_dict['Auc']\n",
    "CART_pred_prob= cart_dict['y_pred_prob']"
   ]
  },
  {
   "cell_type": "code",
   "execution_count": 79,
   "metadata": {},
   "outputs": [],
   "source": [
    "#print(cart_dict)"
   ]
  },
  {
   "cell_type": "code",
   "execution_count": 80,
   "metadata": {},
   "outputs": [],
   "source": [
    "#print(cart_dict)\n",
    "cart_fpr, cart_tpr, thresholds = roc_curve(y_test, CART_pred_prob)"
   ]
  },
  {
   "cell_type": "markdown",
   "metadata": {},
   "source": [
    "### Carregar  o modelo de Regressão logística"
   ]
  },
  {
   "cell_type": "code",
   "execution_count": 81,
   "metadata": {},
   "outputs": [],
   "source": [
    "filenamerl = '.\\\\baseDados\\\\regressaologitica.jss'\n",
    "infile = open(filenamerl,'rb')\n",
    "rlog_dict = pickle.load(infile)\n",
    "infile.close()\n",
    "#print(rlog_dict)\n",
    "rlog_auc= rlog_dict['Auc']\n",
    "rlog_pred_prob= rlog_dict['y_pred_prob']"
   ]
  },
  {
   "cell_type": "code",
   "execution_count": 82,
   "metadata": {},
   "outputs": [],
   "source": [
    "rlog_fpr, rlog_tpr, thresholds = roc_curve(y_test, rlog_pred_prob)"
   ]
  },
  {
   "cell_type": "markdown",
   "metadata": {},
   "source": [
    "## Mostra o gráfico comparativo"
   ]
  },
  {
   "cell_type": "code",
   "execution_count": 83,
   "metadata": {},
   "outputs": [
    {
     "data": {
      "image/png": "[encoded data removed]",
      "text/plain": [
       "<Figure size 720x360 with 1 Axes>"
      ]
     },
     "metadata": {},
     "output_type": "display_data"
    }
   ],
   "source": [
    "lw = 2\n",
    "plt.figure()\n",
    "plt.rcParams['figure.figsize'] = (12,6)\n",
    "\n",
    "\n",
    "\n",
    "plt.plot(nb_fpr, nb_tpr, color='darkorange',  lw=lw, label='Naive Bayes (AUC = %0.14f)' % NB_Auc)\n",
    "plt.plot(rf_fpr, rf_tpr , color='red',  lw=lw, label='Random Forest (AUC = %0.14f)' % RF_Auc)\n",
    "plt.plot(svm_fpr, svm_tpr , color='blue',  lw=lw, label='SVM (AUC = %0.14f)' % SVM_Auc)\n",
    "plt.plot(cart_fpr, cart_tpr , color='green',  lw=lw, label='Árvore de decisão (AUC = %0.14f)' % CART_auc)\n",
    "plt.plot(rlog_fpr, rlog_tpr , color='magenta',  lw=lw, label='Regressão logística (AUC = %0.14f)' % rlog_auc)\n",
    "\n",
    "\n",
    "#------------ linha central-----------------------------\n",
    "plt.plot([0, 1], [0, 1], color='darkblue',lw=lw, linestyle='--')\n",
    "plt.xlabel('Taxa de falsos positivos')\n",
    "plt.ylabel('Taxa de verdadeiros positivos')\n",
    "plt.title('Curva ROC:Receiver Operating Characteristic')\n",
    "\n",
    "\n",
    "sb.set(font_scale=1.5)\n",
    "plt.legend()\n",
    "plt.xlim([-0.04, 1.0])\n",
    "plt.ylim([0.0, 1.05])\n",
    "\n",
    "\n",
    "plt.show()\n",
    "plt.savefig('roc_auc.png')\n",
    "plt.close()"
   ]
  },
  {
   "cell_type": "code",
   "execution_count": 84,
   "metadata": {},
   "outputs": [
    {
     "data": {
      "text/plain": [
       "<Figure size 864x432 with 0 Axes>"
      ]
     },
     "metadata": {},
     "output_type": "display_data"
    }
   ],
   "source": [
    "plt.subplots_adjust(left=0.1, right=0.9, top=0.9, bottom=0.1)"
   ]
  },
  {
   "cell_type": "markdown",
   "metadata": {},
   "source": [
    "# Comparando as métricas dos modelos Acurácia, Precisão e AUC."
   ]
  },
  {
   "cell_type": "code",
   "execution_count": 85,
   "metadata": {},
   "outputs": [],
   "source": [
    "#print(cart_dict)\n",
    "\n"
   ]
  },
  {
   "cell_type": "code",
   "execution_count": 86,
   "metadata": {},
   "outputs": [],
   "source": [
    "dfresultado=pd.DataFrame.from_dict(dict([('Regressão Logística',[rlog_dict['Accuracy'], \n",
    "                                                     rlog_dict['Precision'], \n",
    "                                                     rlog_dict['Specificity'],\n",
    "                                                     rlog_dict['F1Score'],\n",
    "                                                     rlog_dict['Recall'],\n",
    "                                                     rlog_dict['Auc']]),\n",
    "                            ('Arvore de decisão',[cart_dict['Accuracy'], \n",
    "                                                     cart_dict['Precision'], \n",
    "                                                     cart_dict['Specificity'],\n",
    "                                                     cart_dict['F1Score'],\n",
    "                                                     cart_dict['Recall'],\n",
    "                                                     cart_dict['Auc']]),\n",
    "                            ('Random Forest', [RF_Accuracy, rfPrecision, rfSpecificity,rfF1Score,rfRecall,RF_Auc]),\n",
    "                            ('SVM', [svmAccuracy, svmPrecision, svmSpecificity,svmF1_score,svmRecall,SVM_Auc]),\n",
    "                            ('Naive Bayes', [nb_accuracy_testdata, nbPrecision, nbSpecificity,nbF1_score,nbRecall,NB_Auc])]),                   \n",
    "                            orient='index', columns=['Accuracy', 'Precision', 'Specificity', 'F1Score', 'Recall','AUC'])"
   ]
  },
  {
   "cell_type": "code",
   "execution_count": 87,
   "metadata": {},
   "outputs": [
    {
     "data": {
      "text/html": [
       "<div>\n",
       "<style scoped>\n",
       "    .dataframe tbody tr th:only-of-type {\n",
       "        vertical-align: middle;\n",
       "    }\n",
       "\n",
       "    .dataframe tbody tr th {\n",
       "        vertical-align: top;\n",
       "    }\n",
       "\n",
       "    .dataframe thead th {\n",
       "        text-align: right;\n",
       "    }\n",
       "</style>\n",
       "<table border=\"1\" class=\"dataframe\">\n",
       "  <thead>\n",
       "    <tr style=\"text-align: right;\">\n",
       "      <th></th>\n",
       "      <th>Accuracy</th>\n",
       "      <th>Precision</th>\n",
       "      <th>Specificity</th>\n",
       "      <th>F1Score</th>\n",
       "      <th>Recall</th>\n",
       "      <th>AUC</th>\n",
       "    </tr>\n",
       "  </thead>\n",
       "  <tbody>\n",
       "    <tr>\n",
       "      <td>Regressão Logística</td>\n",
       "      <td>0.830882</td>\n",
       "      <td>0.846154</td>\n",
       "      <td>0.852941</td>\n",
       "      <td>0.827068</td>\n",
       "      <td>0.808824</td>\n",
       "      <td>0.873182</td>\n",
       "    </tr>\n",
       "    <tr>\n",
       "      <td>Arvore de decisão</td>\n",
       "      <td>0.987395</td>\n",
       "      <td>0.995726</td>\n",
       "      <td>0.995798</td>\n",
       "      <td>0.987288</td>\n",
       "      <td>0.978992</td>\n",
       "      <td>0.987395</td>\n",
       "    </tr>\n",
       "    <tr>\n",
       "      <td>Random Forest</td>\n",
       "      <td>0.891807</td>\n",
       "      <td>0.936768</td>\n",
       "      <td>0.943277</td>\n",
       "      <td>0.885936</td>\n",
       "      <td>0.840336</td>\n",
       "      <td>0.978577</td>\n",
       "    </tr>\n",
       "    <tr>\n",
       "      <td>SVM</td>\n",
       "      <td>0.988718</td>\n",
       "      <td>0.997245</td>\n",
       "      <td>0.997292</td>\n",
       "      <td>0.988621</td>\n",
       "      <td>0.980144</td>\n",
       "      <td>0.998177</td>\n",
       "    </tr>\n",
       "    <tr>\n",
       "      <td>Naive Bayes</td>\n",
       "      <td>0.905686</td>\n",
       "      <td>0.911253</td>\n",
       "      <td>0.912455</td>\n",
       "      <td>0.905043</td>\n",
       "      <td>0.898917</td>\n",
       "      <td>0.959952</td>\n",
       "    </tr>\n",
       "  </tbody>\n",
       "</table>\n",
       "</div>"
      ],
      "text/plain": [
       "                     Accuracy  Precision  Specificity   F1Score    Recall  \\\n",
       "Regressão Logística  0.830882   0.846154     0.852941  0.827068  0.808824   \n",
       "Arvore de decisão    0.987395   0.995726     0.995798  0.987288  0.978992   \n",
       "Random Forest        0.891807   0.936768     0.943277  0.885936  0.840336   \n",
       "SVM                  0.988718   0.997245     0.997292  0.988621  0.980144   \n",
       "Naive Bayes          0.905686   0.911253     0.912455  0.905043  0.898917   \n",
       "\n",
       "                          AUC  \n",
       "Regressão Logística  0.873182  \n",
       "Arvore de decisão    0.987395  \n",
       "Random Forest        0.978577  \n",
       "SVM                  0.998177  \n",
       "Naive Bayes          0.959952  "
      ]
     },
     "execution_count": 87,
     "metadata": {},
     "output_type": "execute_result"
    }
   ],
   "source": [
    "dfresultado"
   ]
  },
  {
   "cell_type": "code",
   "execution_count": 88,
   "metadata": {},
   "outputs": [
    {
     "data": {
      "text/html": [
       "<div>\n",
       "<style scoped>\n",
       "    .dataframe tbody tr th:only-of-type {\n",
       "        vertical-align: middle;\n",
       "    }\n",
       "\n",
       "    .dataframe tbody tr th {\n",
       "        vertical-align: top;\n",
       "    }\n",
       "\n",
       "    .dataframe thead th {\n",
       "        text-align: right;\n",
       "    }\n",
       "</style>\n",
       "<table border=\"1\" class=\"dataframe\">\n",
       "  <thead>\n",
       "    <tr style=\"text-align: right;\">\n",
       "      <th></th>\n",
       "      <th>Accuracy</th>\n",
       "      <th>Precision</th>\n",
       "      <th>Specificity</th>\n",
       "      <th>F1Score</th>\n",
       "      <th>Recall</th>\n",
       "      <th>AUC</th>\n",
       "    </tr>\n",
       "  </thead>\n",
       "  <tbody>\n",
       "    <tr>\n",
       "      <td>count</td>\n",
       "      <td>5.000000</td>\n",
       "      <td>5.000000</td>\n",
       "      <td>5.000000</td>\n",
       "      <td>5.000000</td>\n",
       "      <td>5.000000</td>\n",
       "      <td>5.000000</td>\n",
       "    </tr>\n",
       "    <tr>\n",
       "      <td>mean</td>\n",
       "      <td>0.920898</td>\n",
       "      <td>0.937429</td>\n",
       "      <td>0.940353</td>\n",
       "      <td>0.918791</td>\n",
       "      <td>0.901443</td>\n",
       "      <td>0.959456</td>\n",
       "    </tr>\n",
       "    <tr>\n",
       "      <td>std</td>\n",
       "      <td>0.067457</td>\n",
       "      <td>0.063232</td>\n",
       "      <td>0.060712</td>\n",
       "      <td>0.069372</td>\n",
       "      <td>0.078305</td>\n",
       "      <td>0.050222</td>\n",
       "    </tr>\n",
       "    <tr>\n",
       "      <td>min</td>\n",
       "      <td>0.830882</td>\n",
       "      <td>0.846154</td>\n",
       "      <td>0.852941</td>\n",
       "      <td>0.827068</td>\n",
       "      <td>0.808824</td>\n",
       "      <td>0.873182</td>\n",
       "    </tr>\n",
       "    <tr>\n",
       "      <td>25%</td>\n",
       "      <td>0.891807</td>\n",
       "      <td>0.911253</td>\n",
       "      <td>0.912455</td>\n",
       "      <td>0.885936</td>\n",
       "      <td>0.840336</td>\n",
       "      <td>0.959952</td>\n",
       "    </tr>\n",
       "    <tr>\n",
       "      <td>50%</td>\n",
       "      <td>0.905686</td>\n",
       "      <td>0.936768</td>\n",
       "      <td>0.943277</td>\n",
       "      <td>0.905043</td>\n",
       "      <td>0.898917</td>\n",
       "      <td>0.978577</td>\n",
       "    </tr>\n",
       "    <tr>\n",
       "      <td>75%</td>\n",
       "      <td>0.987395</td>\n",
       "      <td>0.995726</td>\n",
       "      <td>0.995798</td>\n",
       "      <td>0.987288</td>\n",
       "      <td>0.978992</td>\n",
       "      <td>0.987395</td>\n",
       "    </tr>\n",
       "    <tr>\n",
       "      <td>max</td>\n",
       "      <td>0.988718</td>\n",
       "      <td>0.997245</td>\n",
       "      <td>0.997292</td>\n",
       "      <td>0.988621</td>\n",
       "      <td>0.980144</td>\n",
       "      <td>0.998177</td>\n",
       "    </tr>\n",
       "  </tbody>\n",
       "</table>\n",
       "</div>"
      ],
      "text/plain": [
       "       Accuracy  Precision  Specificity   F1Score    Recall       AUC\n",
       "count  5.000000   5.000000     5.000000  5.000000  5.000000  5.000000\n",
       "mean   0.920898   0.937429     0.940353  0.918791  0.901443  0.959456\n",
       "std    0.067457   0.063232     0.060712  0.069372  0.078305  0.050222\n",
       "min    0.830882   0.846154     0.852941  0.827068  0.808824  0.873182\n",
       "25%    0.891807   0.911253     0.912455  0.885936  0.840336  0.959952\n",
       "50%    0.905686   0.936768     0.943277  0.905043  0.898917  0.978577\n",
       "75%    0.987395   0.995726     0.995798  0.987288  0.978992  0.987395\n",
       "max    0.988718   0.997245     0.997292  0.988621  0.980144  0.998177"
      ]
     },
     "execution_count": 88,
     "metadata": {},
     "output_type": "execute_result"
    }
   ],
   "source": [
    "dfresultado.describe()"
   ]
  },
  {
   "cell_type": "code",
   "execution_count": 89,
   "metadata": {},
   "outputs": [
    {
     "data": {
      "image/png": "[encoded data removed]",
      "text/plain": [
       "<Figure size 864x432 with 1 Axes>"
      ]
     },
     "metadata": {},
     "output_type": "display_data"
    }
   ],
   "source": [
    "boxplot = dfresultado.boxplot()"
   ]
  },
  {
   "cell_type": "code",
   "execution_count": 90,
   "metadata": {},
   "outputs": [],
   "source": [
    "Amplitudedic = {}\n",
    "Varianciadic = {}\n",
    "CoeficienteVardic = {}\n",
    "juntar = {}\n",
    "IntervaloInterquartildic = {}\n",
    "colunas=['Accuracy', 'Precision', 'Specificity', 'F1Score', 'Recall','AUC']\n",
    "for x in colunas:\n",
    "    juntar[x] = dfresultado[x].std()/1\n",
    "    Amplitudedic[x]=dfresultado[x].max() - dfresultado[x].min()\n",
    "    Varianciadic[x] = dfresultado[x].var()\n",
    "    CoeficienteVardic[x] = (dfresultado[x].std()/dfresultado[x].mean()) *  100\n",
    "    IntervaloInterquartildic[x] = dfresultado[x].quantile(q=0.75) - dfresultado[x].quantile(q=0.25)"
   ]
  },
  {
   "cell_type": "code",
   "execution_count": 91,
   "metadata": {},
   "outputs": [
    {
     "data": {
      "text/html": [
       "<div>\n",
       "<style scoped>\n",
       "    .dataframe tbody tr th:only-of-type {\n",
       "        vertical-align: middle;\n",
       "    }\n",
       "\n",
       "    .dataframe tbody tr th {\n",
       "        vertical-align: top;\n",
       "    }\n",
       "\n",
       "    .dataframe thead th {\n",
       "        text-align: right;\n",
       "    }\n",
       "</style>\n",
       "<table border=\"1\" class=\"dataframe\">\n",
       "  <thead>\n",
       "    <tr style=\"text-align: right;\">\n",
       "      <th></th>\n",
       "      <th>quantitativas</th>\n",
       "      <th>Amplitude</th>\n",
       "    </tr>\n",
       "  </thead>\n",
       "  <tbody>\n",
       "    <tr>\n",
       "      <td>0</td>\n",
       "      <td>Accuracy</td>\n",
       "      <td>0.157836</td>\n",
       "    </tr>\n",
       "    <tr>\n",
       "      <td>1</td>\n",
       "      <td>Precision</td>\n",
       "      <td>0.151091</td>\n",
       "    </tr>\n",
       "    <tr>\n",
       "      <td>2</td>\n",
       "      <td>Specificity</td>\n",
       "      <td>0.144351</td>\n",
       "    </tr>\n",
       "    <tr>\n",
       "      <td>3</td>\n",
       "      <td>F1Score</td>\n",
       "      <td>0.161553</td>\n",
       "    </tr>\n",
       "    <tr>\n",
       "      <td>4</td>\n",
       "      <td>Recall</td>\n",
       "      <td>0.171321</td>\n",
       "    </tr>\n",
       "  </tbody>\n",
       "</table>\n",
       "</div>"
      ],
      "text/plain": [
       "  quantitativas  Amplitude\n",
       "0      Accuracy   0.157836\n",
       "1     Precision   0.151091\n",
       "2   Specificity   0.144351\n",
       "3       F1Score   0.161553\n",
       "4        Recall   0.171321"
      ]
     },
     "execution_count": 91,
     "metadata": {},
     "output_type": "execute_result"
    }
   ],
   "source": [
    "dfAmplitude = pandas.DataFrame.from_dict(Amplitudedic, orient=\"index\").reset_index()\n",
    "dfAmplitude.columns = [\"quantitativas\",\"Amplitude\"]\n",
    "dfAmplitude.head()\n",
    "\n"
   ]
  },
  {
   "cell_type": "code",
   "execution_count": 92,
   "metadata": {},
   "outputs": [
    {
     "data": {
      "text/html": [
       "<div>\n",
       "<style scoped>\n",
       "    .dataframe tbody tr th:only-of-type {\n",
       "        vertical-align: middle;\n",
       "    }\n",
       "\n",
       "    .dataframe tbody tr th {\n",
       "        vertical-align: top;\n",
       "    }\n",
       "\n",
       "    .dataframe thead th {\n",
       "        text-align: right;\n",
       "    }\n",
       "</style>\n",
       "<table border=\"1\" class=\"dataframe\">\n",
       "  <thead>\n",
       "    <tr style=\"text-align: right;\">\n",
       "      <th></th>\n",
       "      <th>quantitativas</th>\n",
       "      <th>std</th>\n",
       "    </tr>\n",
       "  </thead>\n",
       "  <tbody>\n",
       "    <tr>\n",
       "      <td>0</td>\n",
       "      <td>Accuracy</td>\n",
       "      <td>0.067457</td>\n",
       "    </tr>\n",
       "    <tr>\n",
       "      <td>1</td>\n",
       "      <td>Precision</td>\n",
       "      <td>0.063232</td>\n",
       "    </tr>\n",
       "    <tr>\n",
       "      <td>2</td>\n",
       "      <td>Specificity</td>\n",
       "      <td>0.060712</td>\n",
       "    </tr>\n",
       "    <tr>\n",
       "      <td>3</td>\n",
       "      <td>F1Score</td>\n",
       "      <td>0.069372</td>\n",
       "    </tr>\n",
       "    <tr>\n",
       "      <td>4</td>\n",
       "      <td>Recall</td>\n",
       "      <td>0.078305</td>\n",
       "    </tr>\n",
       "  </tbody>\n",
       "</table>\n",
       "</div>"
      ],
      "text/plain": [
       "  quantitativas       std\n",
       "0      Accuracy  0.067457\n",
       "1     Precision  0.063232\n",
       "2   Specificity  0.060712\n",
       "3       F1Score  0.069372\n",
       "4        Recall  0.078305"
      ]
     },
     "execution_count": 92,
     "metadata": {},
     "output_type": "execute_result"
    }
   ],
   "source": [
    "\n",
    "dfstd = pandas.DataFrame.from_dict(juntar, orient=\"index\").reset_index()\n",
    "dfstd.columns = [\"quantitativas\",\"std\"]\n",
    "dfstd.head()"
   ]
  },
  {
   "cell_type": "code",
   "execution_count": 93,
   "metadata": {},
   "outputs": [
    {
     "data": {
      "text/html": [
       "<div>\n",
       "<style scoped>\n",
       "    .dataframe tbody tr th:only-of-type {\n",
       "        vertical-align: middle;\n",
       "    }\n",
       "\n",
       "    .dataframe tbody tr th {\n",
       "        vertical-align: top;\n",
       "    }\n",
       "\n",
       "    .dataframe thead th {\n",
       "        text-align: right;\n",
       "    }\n",
       "</style>\n",
       "<table border=\"1\" class=\"dataframe\">\n",
       "  <thead>\n",
       "    <tr style=\"text-align: right;\">\n",
       "      <th></th>\n",
       "      <th>quantitativas</th>\n",
       "      <th>Variancia</th>\n",
       "    </tr>\n",
       "  </thead>\n",
       "  <tbody>\n",
       "    <tr>\n",
       "      <td>0</td>\n",
       "      <td>Accuracy</td>\n",
       "      <td>0.004550</td>\n",
       "    </tr>\n",
       "    <tr>\n",
       "      <td>1</td>\n",
       "      <td>Precision</td>\n",
       "      <td>0.003998</td>\n",
       "    </tr>\n",
       "    <tr>\n",
       "      <td>2</td>\n",
       "      <td>Specificity</td>\n",
       "      <td>0.003686</td>\n",
       "    </tr>\n",
       "    <tr>\n",
       "      <td>3</td>\n",
       "      <td>F1Score</td>\n",
       "      <td>0.004812</td>\n",
       "    </tr>\n",
       "    <tr>\n",
       "      <td>4</td>\n",
       "      <td>Recall</td>\n",
       "      <td>0.006132</td>\n",
       "    </tr>\n",
       "  </tbody>\n",
       "</table>\n",
       "</div>"
      ],
      "text/plain": [
       "  quantitativas  Variancia\n",
       "0      Accuracy   0.004550\n",
       "1     Precision   0.003998\n",
       "2   Specificity   0.003686\n",
       "3       F1Score   0.004812\n",
       "4        Recall   0.006132"
      ]
     },
     "execution_count": 93,
     "metadata": {},
     "output_type": "execute_result"
    }
   ],
   "source": [
    "dfVariancia = pandas.DataFrame.from_dict(Varianciadic, orient=\"index\").reset_index()\n",
    "dfVariancia.columns = [\"quantitativas\",\"Variancia\"]\n",
    "dfVariancia.head()"
   ]
  },
  {
   "cell_type": "code",
   "execution_count": 94,
   "metadata": {},
   "outputs": [
    {
     "data": {
      "text/html": [
       "<div>\n",
       "<style scoped>\n",
       "    .dataframe tbody tr th:only-of-type {\n",
       "        vertical-align: middle;\n",
       "    }\n",
       "\n",
       "    .dataframe tbody tr th {\n",
       "        vertical-align: top;\n",
       "    }\n",
       "\n",
       "    .dataframe thead th {\n",
       "        text-align: right;\n",
       "    }\n",
       "</style>\n",
       "<table border=\"1\" class=\"dataframe\">\n",
       "  <thead>\n",
       "    <tr style=\"text-align: right;\">\n",
       "      <th></th>\n",
       "      <th>quantitativas</th>\n",
       "      <th>Coef_Var_%</th>\n",
       "    </tr>\n",
       "  </thead>\n",
       "  <tbody>\n",
       "    <tr>\n",
       "      <td>0</td>\n",
       "      <td>Accuracy</td>\n",
       "      <td>7.325174</td>\n",
       "    </tr>\n",
       "    <tr>\n",
       "      <td>1</td>\n",
       "      <td>Precision</td>\n",
       "      <td>6.745293</td>\n",
       "    </tr>\n",
       "    <tr>\n",
       "      <td>2</td>\n",
       "      <td>Specificity</td>\n",
       "      <td>6.456339</td>\n",
       "    </tr>\n",
       "    <tr>\n",
       "      <td>3</td>\n",
       "      <td>F1Score</td>\n",
       "      <td>7.550318</td>\n",
       "    </tr>\n",
       "    <tr>\n",
       "      <td>4</td>\n",
       "      <td>Recall</td>\n",
       "      <td>8.686597</td>\n",
       "    </tr>\n",
       "  </tbody>\n",
       "</table>\n",
       "</div>"
      ],
      "text/plain": [
       "  quantitativas  Coef_Var_%\n",
       "0      Accuracy    7.325174\n",
       "1     Precision    6.745293\n",
       "2   Specificity    6.456339\n",
       "3       F1Score    7.550318\n",
       "4        Recall    8.686597"
      ]
     },
     "execution_count": 94,
     "metadata": {},
     "output_type": "execute_result"
    }
   ],
   "source": [
    "dfCoeficiente = pandas.DataFrame.from_dict(CoeficienteVardic, orient=\"index\").reset_index()\n",
    "dfCoeficiente.columns = [\"quantitativas\",\"Coef_Var_%\"]\n",
    "dfCoeficiente.head()"
   ]
  },
  {
   "cell_type": "code",
   "execution_count": 95,
   "metadata": {},
   "outputs": [
    {
     "data": {
      "text/html": [
       "<div>\n",
       "<style scoped>\n",
       "    .dataframe tbody tr th:only-of-type {\n",
       "        vertical-align: middle;\n",
       "    }\n",
       "\n",
       "    .dataframe tbody tr th {\n",
       "        vertical-align: top;\n",
       "    }\n",
       "\n",
       "    .dataframe thead th {\n",
       "        text-align: right;\n",
       "    }\n",
       "</style>\n",
       "<table border=\"1\" class=\"dataframe\">\n",
       "  <thead>\n",
       "    <tr style=\"text-align: right;\">\n",
       "      <th></th>\n",
       "      <th>quantitativas</th>\n",
       "      <th>Intervalo_Interquartil</th>\n",
       "    </tr>\n",
       "  </thead>\n",
       "  <tbody>\n",
       "    <tr>\n",
       "      <td>0</td>\n",
       "      <td>Accuracy</td>\n",
       "      <td>0.095588</td>\n",
       "    </tr>\n",
       "    <tr>\n",
       "      <td>1</td>\n",
       "      <td>Precision</td>\n",
       "      <td>0.084473</td>\n",
       "    </tr>\n",
       "    <tr>\n",
       "      <td>2</td>\n",
       "      <td>Specificity</td>\n",
       "      <td>0.083343</td>\n",
       "    </tr>\n",
       "    <tr>\n",
       "      <td>3</td>\n",
       "      <td>F1Score</td>\n",
       "      <td>0.101352</td>\n",
       "    </tr>\n",
       "    <tr>\n",
       "      <td>4</td>\n",
       "      <td>Recall</td>\n",
       "      <td>0.138655</td>\n",
       "    </tr>\n",
       "  </tbody>\n",
       "</table>\n",
       "</div>"
      ],
      "text/plain": [
       "  quantitativas  Intervalo_Interquartil\n",
       "0      Accuracy                0.095588\n",
       "1     Precision                0.084473\n",
       "2   Specificity                0.083343\n",
       "3       F1Score                0.101352\n",
       "4        Recall                0.138655"
      ]
     },
     "execution_count": 95,
     "metadata": {},
     "output_type": "execute_result"
    }
   ],
   "source": [
    "IntervaloInterquartil = pandas.DataFrame.from_dict(IntervaloInterquartildic, orient=\"index\").reset_index()\n",
    "IntervaloInterquartil.columns = [\"quantitativas\",\"Intervalo_Interquartil\"]\n",
    "IntervaloInterquartil.head()"
   ]
  },
  {
   "cell_type": "code",
   "execution_count": 96,
   "metadata": {
    "scrolled": true
   },
   "outputs": [
    {
     "data": {
      "text/html": [
       "<div>\n",
       "<style scoped>\n",
       "    .dataframe tbody tr th:only-of-type {\n",
       "        vertical-align: middle;\n",
       "    }\n",
       "\n",
       "    .dataframe tbody tr th {\n",
       "        vertical-align: top;\n",
       "    }\n",
       "\n",
       "    .dataframe thead th {\n",
       "        text-align: right;\n",
       "    }\n",
       "</style>\n",
       "<table border=\"1\" class=\"dataframe\">\n",
       "  <thead>\n",
       "    <tr style=\"text-align: right;\">\n",
       "      <th></th>\n",
       "      <th>quantitativas</th>\n",
       "      <th>Amplitude</th>\n",
       "      <th>Variancia</th>\n",
       "      <th>Coef_Var_%</th>\n",
       "      <th>Intervalo_Interquartil</th>\n",
       "      <th>std</th>\n",
       "    </tr>\n",
       "  </thead>\n",
       "  <tbody>\n",
       "    <tr>\n",
       "      <td>0</td>\n",
       "      <td>Accuracy</td>\n",
       "      <td>0.157836</td>\n",
       "      <td>0.004550</td>\n",
       "      <td>7.325174</td>\n",
       "      <td>0.095588</td>\n",
       "      <td>0.067457</td>\n",
       "    </tr>\n",
       "    <tr>\n",
       "      <td>1</td>\n",
       "      <td>Precision</td>\n",
       "      <td>0.151091</td>\n",
       "      <td>0.003998</td>\n",
       "      <td>6.745293</td>\n",
       "      <td>0.084473</td>\n",
       "      <td>0.063232</td>\n",
       "    </tr>\n",
       "    <tr>\n",
       "      <td>2</td>\n",
       "      <td>Specificity</td>\n",
       "      <td>0.144351</td>\n",
       "      <td>0.003686</td>\n",
       "      <td>6.456339</td>\n",
       "      <td>0.083343</td>\n",
       "      <td>0.060712</td>\n",
       "    </tr>\n",
       "    <tr>\n",
       "      <td>3</td>\n",
       "      <td>F1Score</td>\n",
       "      <td>0.161553</td>\n",
       "      <td>0.004812</td>\n",
       "      <td>7.550318</td>\n",
       "      <td>0.101352</td>\n",
       "      <td>0.069372</td>\n",
       "    </tr>\n",
       "    <tr>\n",
       "      <td>4</td>\n",
       "      <td>Recall</td>\n",
       "      <td>0.171321</td>\n",
       "      <td>0.006132</td>\n",
       "      <td>8.686597</td>\n",
       "      <td>0.138655</td>\n",
       "      <td>0.078305</td>\n",
       "    </tr>\n",
       "    <tr>\n",
       "      <td>5</td>\n",
       "      <td>AUC</td>\n",
       "      <td>0.124996</td>\n",
       "      <td>0.002522</td>\n",
       "      <td>5.234431</td>\n",
       "      <td>0.027443</td>\n",
       "      <td>0.050222</td>\n",
       "    </tr>\n",
       "  </tbody>\n",
       "</table>\n",
       "</div>"
      ],
      "text/plain": [
       "  quantitativas  Amplitude  Variancia  Coef_Var_%  Intervalo_Interquartil  \\\n",
       "0      Accuracy   0.157836   0.004550    7.325174                0.095588   \n",
       "1     Precision   0.151091   0.003998    6.745293                0.084473   \n",
       "2   Specificity   0.144351   0.003686    6.456339                0.083343   \n",
       "3       F1Score   0.161553   0.004812    7.550318                0.101352   \n",
       "4        Recall   0.171321   0.006132    8.686597                0.138655   \n",
       "5           AUC   0.124996   0.002522    5.234431                0.027443   \n",
       "\n",
       "        std  \n",
       "0  0.067457  \n",
       "1  0.063232  \n",
       "2  0.060712  \n",
       "3  0.069372  \n",
       "4  0.078305  \n",
       "5  0.050222  "
      ]
     },
     "execution_count": 96,
     "metadata": {},
     "output_type": "execute_result"
    }
   ],
   "source": [
    "dfresultado_frame=pandas.merge(dfAmplitude,dfVariancia,how='right',on='quantitativas')\n",
    "dfresultado_frame=pandas.merge(dfresultado_frame,dfCoeficiente,how='right',on='quantitativas')\n",
    "dfresultado_frame=pandas.merge(dfresultado_frame,IntervaloInterquartil,how='right',on='quantitativas')\n",
    "dfresultado_frame=pandas.merge(dfresultado_frame,dfstd,how='right',on='quantitativas')\n",
    "dfresultado_frame"
   ]
  },
  {
   "cell_type": "markdown",
   "metadata": {},
   "source": [
    "---\n",
    "---\n",
    "---\n",
    "---\n",
    "---\n",
    "---"
   ]
  },
  {
   "cell_type": "markdown",
   "metadata": {},
   "source": [
    "# Fim da avaliação do modelo."
   ]
  }
 ],
 "metadata": {
  "kernelspec": {
   "display_name": "Python 3",
   "language": "python",
   "name": "python3"
  },
  "language_info": {
   "codemirror_mode": {
    "name": "ipython",
    "version": 3
   },
   "file_extension": ".py",
   "mimetype": "text/x-python",
   "name": "python",
   "nbconvert_exporter": "python",
   "pygments_lexer": "ipython3",
   "version": "3.7.0"
  }
 },
 "nbformat": 4,
 "nbformat_minor": 2
}
